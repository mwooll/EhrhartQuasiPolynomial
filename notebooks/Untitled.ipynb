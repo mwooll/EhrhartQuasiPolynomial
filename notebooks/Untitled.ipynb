{
 "cells": [
  {
   "cell_type": "code",
   "execution_count": 27,
   "id": "9a1ffa66-61d9-4055-a716-bc3c8d734f7e",
   "metadata": {},
   "outputs": [],
   "source": [
    "from inspect import getsource\n",
    "from ehrhart_quasi_polynomial import (\n",
    "    PiecewiseEhrhartQuasiPolynomial as PEQP,\n",
    "    _determine_lifts\n",
    ")"
   ]
  },
  {
   "cell_type": "code",
   "execution_count": 2,
   "id": "d38ac260-eeb5-497e-952e-38316428b136",
   "metadata": {},
   "outputs": [],
   "source": [
    "A = Matrix([[-1, 0], [0, -1], [1, 2]])\n",
    "p = PEQP(A)"
   ]
  },
  {
   "cell_type": "code",
   "execution_count": 3,
   "id": "9f792227-ab53-4315-bba0-e66c169b870a",
   "metadata": {},
   "outputs": [
    {
     "data": {
      "text/plain": [
       "{(0,): (0, 0, 0),\n",
       " (1,): (0, 0, 1),\n",
       " (2,): (0, 0, 2),\n",
       " (3,): (0, 0, 3),\n",
       " (4,): (0, 0, 4),\n",
       " (5,): (0, 0, 5)}"
      ]
     },
     "execution_count": 3,
     "metadata": {},
     "output_type": "execute_result"
    }
   ],
   "source": [
    "lifts = p._cone_dicts[0][\"lifts\"]; lifts"
   ]
  },
  {
   "cell_type": "code",
   "execution_count": 87,
   "id": "771f014d-1b97-478c-bba4-31857145bfc5",
   "metadata": {},
   "outputs": [],
   "source": [
    "def _simplify_invariance_lattice(self, cone):\n",
    "        invariants = tuple(lift for lift in list(cone[\"lifts\"].values())[1:]\n",
    "                           if self._check_periodicity(cone,\n",
    "                                                      free_module_element(lift)))\n",
    "        inv_basis = tuple(span(invariants).matrix().rows())\n",
    "        cone[\"inv_basis\"] = inv_basis\n",
    "        cone[\"invariant\"] = inv_basis + cone[\"scaled_rays\"]\n",
    "        remaining_keys = self._get_remaining_keys(cone[\"lifts\"], inv_basis)\n",
    "\n",
    "        cone[\"print\"] = {tuple(cone[\"lifts\"][key]): poly\n",
    "                        for key, poly in cone[\"transformed\"].items()\n",
    "                        if cone[\"lifts\"][key] in remaining_keys}\n",
    "\n",
    "def _check_periodicity(self, cone, inv_cand):\n",
    "        for rep, poly in cone[\"transformed\"].items():\n",
    "            translated = cone[\"lifts\"][rep] + inv_cand\n",
    "            trans_rep = cone[\"quotient\"](translated)\n",
    "            if poly != cone[\"transformed\"][tuple(trans_rep)]:\n",
    "                return False\n",
    "        return True\n",
    "\n",
    "def _get_remaining_keys(self, lifts, invariants):\n",
    "    keys = list(lifts.values())\n",
    "    keys_to_remove = []\n",
    "    for inv in invariants:\n",
    "        inv_norm = inv.norm()\n",
    "    \n",
    "        large_keys = [key for key in keys if key.norm() >= inv_norm]\n",
    "    \n",
    "        for l_key in large_keys:\n",
    "            for key in keys:\n",
    "                if l_key == key + inv:\n",
    "                    keys_to_remove.append(l_key)\n",
    "\n",
    "    remaining_keys = [key for key in keys if key not in keys_to_remove]\n",
    "    return remaining_keys\n",
    "\n",
    "\n",
    "PEQP._simplify_invariance_lattice = _simplify_invariance_lattice\n",
    "PEQP._check_periodicity = _check_periodicity\n",
    "PEQP._get_remaining_keys = _get_remaining_keys"
   ]
  },
  {
   "cell_type": "code",
   "execution_count": 88,
   "id": "1ed2511d-635c-44d7-9914-0fd5a252f482",
   "metadata": {},
   "outputs": [
    {
     "ename": "TypeError",
     "evalue": "generators must be lists of ring elements or free module elements!",
     "output_type": "error",
     "traceback": [
      "\u001b[0;31m---------------------------------------------------------------------------\u001b[0m",
      "\u001b[0;31mTypeError\u001b[0m                                 Traceback (most recent call last)",
      "File \u001b[0;32m~/sageinstall/sage/src/sage/modules/free_module.py:757\u001b[0m, in \u001b[0;36mspan\u001b[0;34m(gens, base_ring, check, already_echelonized)\u001b[0m\n\u001b[1;32m    756\u001b[0m \u001b[38;5;28;01mtry\u001b[39;00m:\n\u001b[0;32m--> 757\u001b[0m     x \u001b[38;5;241m=\u001b[39m \u001b[38;5;28;43mlist\u001b[39;49m\u001b[43m(\u001b[49m\u001b[43mx\u001b[49m\u001b[43m)\u001b[49m\n\u001b[1;32m    758\u001b[0m \u001b[38;5;28;01mexcept\u001b[39;00m \u001b[38;5;167;01mTypeError\u001b[39;00m:\n",
      "\u001b[0;31mTypeError\u001b[0m: 'sage.rings.integer.Integer' object is not iterable",
      "\nDuring handling of the above exception, another exception occurred:\n",
      "\u001b[0;31mTypeError\u001b[0m                                 Traceback (most recent call last)",
      "Cell \u001b[0;32mIn[88], line 1\u001b[0m\n\u001b[0;32m----> 1\u001b[0m \u001b[43mp\u001b[49m\u001b[38;5;241;43m.\u001b[39;49m\u001b[43m_transform_polynomials\u001b[49m\u001b[43m(\u001b[49m\u001b[43m)\u001b[49m\n",
      "File \u001b[0;32m~/uni/ehrhart/ehrhart_quasi_polynomial/ehrhart_piecewise.py:153\u001b[0m, in \u001b[0;36mPiecewiseEhrhartQuasiPolynomial._transform_polynomials\u001b[0;34m(self)\u001b[0m\n\u001b[1;32m    150\u001b[0m     transformed \u001b[38;5;241m=\u001b[39m poly(\u001b[38;5;241m*\u001b[39mnew_vars[:\u001b[38;5;28mself\u001b[39m\u001b[38;5;241m.\u001b[39m_num_variables])\n\u001b[1;32m    151\u001b[0m     cone[\u001b[38;5;124m\"\u001b[39m\u001b[38;5;124mtransformed\u001b[39m\u001b[38;5;124m\"\u001b[39m][off_set] \u001b[38;5;241m=\u001b[39m transformed\n\u001b[0;32m--> 153\u001b[0m \u001b[38;5;28;43mself\u001b[39;49m\u001b[38;5;241;43m.\u001b[39;49m\u001b[43m_simplify_invariance_lattice\u001b[49m\u001b[43m(\u001b[49m\u001b[43mcone\u001b[49m\u001b[43m)\u001b[49m\n",
      "Cell \u001b[0;32mIn[87], line 8\u001b[0m, in \u001b[0;36m_simplify_invariance_lattice\u001b[0;34m(self, cone)\u001b[0m\n\u001b[1;32m      6\u001b[0m cone[\u001b[38;5;124m\"\u001b[39m\u001b[38;5;124minv_basis\u001b[39m\u001b[38;5;124m\"\u001b[39m] \u001b[38;5;241m=\u001b[39m inv_basis\n\u001b[1;32m      7\u001b[0m cone[\u001b[38;5;124m\"\u001b[39m\u001b[38;5;124minvariant\u001b[39m\u001b[38;5;124m\"\u001b[39m] \u001b[38;5;241m=\u001b[39m inv_basis \u001b[38;5;241m+\u001b[39m cone[\u001b[38;5;124m\"\u001b[39m\u001b[38;5;124mscaled_rays\u001b[39m\u001b[38;5;124m\"\u001b[39m]\n\u001b[0;32m----> 8\u001b[0m remaining_keys \u001b[38;5;241m=\u001b[39m \u001b[38;5;28;43mself\u001b[39;49m\u001b[38;5;241;43m.\u001b[39;49m\u001b[43m_get_remaining_keys\u001b[49m\u001b[43m(\u001b[49m\u001b[43mcone\u001b[49m\u001b[43m[\u001b[49m\u001b[38;5;124;43m\"\u001b[39;49m\u001b[38;5;124;43mlifts\u001b[39;49m\u001b[38;5;124;43m\"\u001b[39;49m\u001b[43m]\u001b[49m\u001b[43m,\u001b[49m\u001b[43m \u001b[49m\u001b[43minv_basis\u001b[49m\u001b[43m)\u001b[49m\n\u001b[1;32m     10\u001b[0m cone[\u001b[38;5;124m\"\u001b[39m\u001b[38;5;124mprint\u001b[39m\u001b[38;5;124m\"\u001b[39m] \u001b[38;5;241m=\u001b[39m {\u001b[38;5;28mtuple\u001b[39m(cone[\u001b[38;5;124m\"\u001b[39m\u001b[38;5;124mlifts\u001b[39m\u001b[38;5;124m\"\u001b[39m][key]): poly\n\u001b[1;32m     11\u001b[0m                 \u001b[38;5;28;01mfor\u001b[39;00m key, poly \u001b[38;5;129;01min\u001b[39;00m cone[\u001b[38;5;124m\"\u001b[39m\u001b[38;5;124mtransformed\u001b[39m\u001b[38;5;124m\"\u001b[39m]\u001b[38;5;241m.\u001b[39mitems()\n\u001b[1;32m     12\u001b[0m                 \u001b[38;5;28;01mif\u001b[39;00m cone[\u001b[38;5;124m\"\u001b[39m\u001b[38;5;124mlifts\u001b[39m\u001b[38;5;124m\"\u001b[39m][key] \u001b[38;5;129;01min\u001b[39;00m remaining_keys}\n",
      "Cell \u001b[0;32mIn[87], line 32\u001b[0m, in \u001b[0;36m_get_remaining_keys\u001b[0;34m(self, lifts, invariants)\u001b[0m\n\u001b[1;32m     30\u001b[0m     \u001b[38;5;28;01mfor\u001b[39;00m l_key \u001b[38;5;129;01min\u001b[39;00m large_keys:\n\u001b[1;32m     31\u001b[0m         \u001b[38;5;28;01mfor\u001b[39;00m key \u001b[38;5;129;01min\u001b[39;00m keys:\n\u001b[0;32m---> 32\u001b[0m             \u001b[38;5;28;01mif\u001b[39;00m l_key \u001b[38;5;129;01min\u001b[39;00m \u001b[43mspan\u001b[49m\u001b[43m(\u001b[49m\u001b[38;5;28;43mlist\u001b[39;49m\u001b[43m(\u001b[49m\u001b[43mkey\u001b[49m\u001b[43m \u001b[49m\u001b[38;5;241;43m+\u001b[39;49m\u001b[43m \u001b[49m\u001b[43minv\u001b[49m\u001b[43m)\u001b[49m\u001b[43m,\u001b[49m\u001b[43m \u001b[49m\u001b[43mZZ\u001b[49m\u001b[43m)\u001b[49m:\n\u001b[1;32m     33\u001b[0m                 keys_to_remove\u001b[38;5;241m.\u001b[39mappend(l_key)\n\u001b[1;32m     35\u001b[0m remaining_keys \u001b[38;5;241m=\u001b[39m [key \u001b[38;5;28;01mfor\u001b[39;00m key \u001b[38;5;129;01min\u001b[39;00m keys \u001b[38;5;28;01mif\u001b[39;00m key \u001b[38;5;129;01mnot\u001b[39;00m \u001b[38;5;129;01min\u001b[39;00m keys_to_remove]\n",
      "File \u001b[0;32m~/sageinstall/sage/src/sage/modules/free_module.py:759\u001b[0m, in \u001b[0;36mspan\u001b[0;34m(gens, base_ring, check, already_echelonized)\u001b[0m\n\u001b[1;32m    757\u001b[0m     x \u001b[38;5;241m=\u001b[39m \u001b[38;5;28mlist\u001b[39m(x)\n\u001b[1;32m    758\u001b[0m \u001b[38;5;28;01mexcept\u001b[39;00m \u001b[38;5;167;01mTypeError\u001b[39;00m:\n\u001b[0;32m--> 759\u001b[0m     \u001b[38;5;28;01mraise\u001b[39;00m \u001b[38;5;167;01mTypeError\u001b[39;00m(\u001b[38;5;124m\"\u001b[39m\u001b[38;5;124mgenerators must be lists of ring elements or \u001b[39m\u001b[38;5;124m\"\u001b[39m\n\u001b[1;32m    760\u001b[0m                     \u001b[38;5;124m\"\u001b[39m\u001b[38;5;124mfree module elements!\u001b[39m\u001b[38;5;124m\"\u001b[39m)\n\u001b[1;32m    761\u001b[0m M \u001b[38;5;241m=\u001b[39m FreeModule(R, \u001b[38;5;28mlen\u001b[39m(x))\n\u001b[1;32m    762\u001b[0m \u001b[38;5;28;01mtry\u001b[39;00m:\n",
      "\u001b[0;31mTypeError\u001b[0m: generators must be lists of ring elements or free module elements!"
     ]
    }
   ],
   "source": [
    "p._transform_polynomials()"
   ]
  },
  {
   "cell_type": "code",
   "execution_count": 51,
   "id": "6259aaf5-93ff-4fe9-a68e-9a859c79bc1a",
   "metadata": {},
   "outputs": [],
   "source": [
    "def __str__(self):\n",
    "        # key = \"transformed\"\n",
    "        key = \"print\"\n",
    "\n",
    "        cone_strings = []\n",
    "        for cone in self._cone_dicts:\n",
    "            rays = cone[\"rays\"] + self._lin_vectors + self._minus_lin\n",
    "            span = cone[\"invariant\"]\n",
    "            cone_str = f\"On Cone{rays}\\ninvariant on Lattice{span}:\"\n",
    "\n",
    "            rep_string = [str(rep) for rep in cone[key].keys()]\n",
    "            poly_strings = [str(poly) for poly in cone[key].values()]\n",
    "            max_poly_length = len(max(poly_strings, key=len)) + 2\n",
    "\n",
    "            nice_polys = [f\"\\n    {poly}{' '*(max_poly_length-len(poly))} if [b] = {rep}\"\n",
    "                          for poly, rep in zip(poly_strings, rep_string)]\n",
    "\n",
    "            cone_str += \"\".join(nice_polys)\n",
    "            cone_strings.append(cone_str)\n",
    "\n",
    "        return \"\\n\\n\".join(cone_strings)\n",
    "\n",
    "PEQP.__str__ = __str__"
   ]
  },
  {
   "cell_type": "code",
   "execution_count": 66,
   "id": "4772e34a-debf-4bcc-ae75-240826561cd7",
   "metadata": {},
   "outputs": [
    {
     "name": "stdout",
     "output_type": "stream",
     "text": [
      "On Cone((1, 2, 1), (1, 0, -1), (0, 1, -2), (-1, 0, 1), (0, -1, 2))\n",
      "invariant on Lattice((0, 0, 2), (1, 2, 1)):\n",
      "    1/4*x0^2 + x0*x1 + x1^2 + 1/2*x0*x2 + x1*x2 + 1/4*x2^2 + x0 + 2*x1 + x2 + 1     if [b] = (0, 0, 0)\n",
      "    1/4*x0^2 + x0*x1 + x1^2 + 1/2*x0*x2 + x1*x2 + 1/4*x2^2 + x0 + 2*x1 + x2 + 3/4   if [b] = (0, 0, 1)\n"
     ]
    }
   ],
   "source": [
    "print(p)"
   ]
  },
  {
   "cell_type": "code",
   "execution_count": 67,
   "id": "c24180a5-d5bf-4452-af6f-6891051384ce",
   "metadata": {},
   "outputs": [],
   "source": [
    "cone = p._cone_dicts[0]"
   ]
  }
 ],
 "metadata": {
  "kernelspec": {
   "display_name": "SageMath 10.3",
   "language": "sage",
   "name": "sagemath"
  },
  "language_info": {
   "codemirror_mode": {
    "name": "ipython",
    "version": 3
   },
   "file_extension": ".py",
   "mimetype": "text/x-python",
   "name": "python",
   "nbconvert_exporter": "python",
   "pygments_lexer": "ipython3",
   "version": "3.10.12"
  }
 },
 "nbformat": 4,
 "nbformat_minor": 5
}
