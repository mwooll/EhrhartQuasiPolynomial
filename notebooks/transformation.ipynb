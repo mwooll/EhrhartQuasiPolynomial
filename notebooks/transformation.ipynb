{
 "cells": [
  {
   "cell_type": "code",
   "execution_count": 3,
   "id": "bb1c8fc8-a4fb-4fc4-81e8-6d7dd21516c1",
   "metadata": {},
   "outputs": [],
   "source": [
    "from itertools import combinations_with_replacement\n",
    "\n",
    "from ehrhart_quasi_polynomial.ehrhart_piecewise import (\n",
    "    PiecewiseEhrhartQuasiPolynomial as PEQP,\n",
    "    create_polytope_from_matrix,\n",
    "    secondary_fan,\n",
    "    _process_fan_vectors,\n",
    "    _compute_change_of_basis_matrices,\n",
    "    _hat_denominator,\n",
    "    _generate_cone_points)\n",
    "\n",
    "from ehrhart_quasi_polynomial import *"
   ]
  },
  {
   "cell_type": "code",
   "execution_count": 4,
   "id": "2c7b0c5b-6819-447d-a380-25c7edba6ee0",
   "metadata": {},
   "outputs": [],
   "source": [
    "from sage.calculus.var import var\n",
    "from sage.functions.other import ceil, factorial\n",
    "from sage.geometry.cone import Cone\n",
    "from sage.geometry.polyhedron.constructor import Polyhedron\n",
    "from sage.matrix.constructor import Matrix\n",
    "from sage.modules.free_module_element import free_module_element\n",
    "from sage.modules.free_quadratic_module_integer_symmetric import IntegralLattice\n",
    "from sage.rings.polynomial.polynomial_ring_constructor import PolynomialRing\n",
    "from sage.rings.rational_field import QQ\n",
    "from sage.symbolic.ring import SR"
   ]
  },
  {
   "cell_type": "code",
   "execution_count": 5,
   "id": "d7725f21-891e-4274-a12f-aecd9269cd67",
   "metadata": {},
   "outputs": [],
   "source": [
    "ehr = lambda A, b: ehrhart_quasi_polynomial(create_polytope_from_matrix(A, b).Vrepresentation())\n",
    "num_int_points = lambda A, b: len(create_polytope_from_matrix(A, b).integral_points())"
   ]
  },
  {
   "cell_type": "code",
   "execution_count": 6,
   "id": "462d2a21-b402-4ccc-81f0-001a4ab3023b",
   "metadata": {},
   "outputs": [],
   "source": [
    "def test_combinations(p, A, xrange=range(-10, 11)):\n",
    "        for b in combinations_with_replacement(xrange, A.nrows()):\n",
    "            expected = num_int_points(A, b)\n",
    "            actual = p(b)\n",
    "            if actual != expected:\n",
    "                print(b, expected, actual, rounded)\n",
    "        print(\"all points were tested\")"
   ]
  },
  {
   "cell_type": "code",
   "execution_count": 7,
   "id": "4066cb99-be09-4a80-a7b2-85aed201bf0b",
   "metadata": {},
   "outputs": [],
   "source": [
    "A = Matrix([[-1, 0], [0, -1], [1, 1]])\n",
    "p = PEQP(A)"
   ]
  },
  {
   "cell_type": "code",
   "execution_count": 8,
   "id": "26320dba-bc6b-47f8-8df4-e51be8f31e0e",
   "metadata": {},
   "outputs": [
    {
     "data": {
      "text/plain": [
       "{(0,): 9/2*x^2 + 9/2*x + 1, (1,): 9/2*x^2 + 3/2*x, (2,): 9/2*x^2 - 3/2*x}"
      ]
     },
     "execution_count": 8,
     "metadata": {},
     "output_type": "execute_result"
    }
   ],
   "source": [
    "p._cone_dicts[0][\"polynomials\"]"
   ]
  },
  {
   "cell_type": "code",
   "execution_count": 9,
   "id": "bcde9e0a-348c-4326-b027-bce9fb363ca9",
   "metadata": {},
   "outputs": [
    {
     "name": "stdout",
     "output_type": "stream",
     "text": [
      "all points were tested\n"
     ]
    }
   ],
   "source": [
    "test_combinations(p, A)"
   ]
  },
  {
   "cell_type": "code",
   "execution_count": 10,
   "id": "bd36f122-e8b9-4c3d-b09d-4f701d2c57da",
   "metadata": {},
   "outputs": [],
   "source": [
    "B = Matrix([[-1, 0], [0, -1], [1, 1], [0, 1]])\n",
    "q = PEQP(B)"
   ]
  },
  {
   "cell_type": "code",
   "execution_count": 11,
   "id": "0b75faeb-22eb-4860-b4fd-962ecfe03ae0",
   "metadata": {},
   "outputs": [
    {
     "data": {
      "text/plain": [
       "{(0, 0): (0, 0, 0, 0),\n",
       " (0, 1): (-1, -1, 0, -1),\n",
       " (0, 2): (-2, -2, 0, -2),\n",
       " (0, 3): (-3, -3, 0, -3),\n",
       " (0, 4): (-4, -4, 0, -4),\n",
       " (1, 0): (1, 4, 1, 4),\n",
       " (1, 1): (0, 3, 1, 3),\n",
       " (1, 2): (-1, 2, 1, 2),\n",
       " (1, 3): (-2, 1, 1, 1),\n",
       " (1, 4): (-3, 0, 1, 0),\n",
       " (2, 0): (2, 8, 2, 8),\n",
       " (2, 1): (1, 7, 2, 7),\n",
       " (2, 2): (0, 6, 2, 6),\n",
       " (2, 3): (-1, 5, 2, 5),\n",
       " (2, 4): (-2, 4, 2, 4),\n",
       " (3, 0): (3, 12, 3, 12),\n",
       " (3, 1): (2, 11, 3, 11),\n",
       " (3, 2): (1, 10, 3, 10),\n",
       " (3, 3): (0, 9, 3, 9),\n",
       " (3, 4): (-1, 8, 3, 8),\n",
       " (4, 0): (4, 16, 4, 16),\n",
       " (4, 1): (3, 15, 4, 15),\n",
       " (4, 2): (2, 14, 4, 14),\n",
       " (4, 3): (1, 13, 4, 13),\n",
       " (4, 4): (0, 12, 4, 12)}"
      ]
     },
     "execution_count": 11,
     "metadata": {},
     "output_type": "execute_result"
    }
   ],
   "source": [
    "q._cone_dicts[1][\"lifts\"]"
   ]
  },
  {
   "cell_type": "code",
   "execution_count": 12,
   "id": "b3595fc9-25a6-41f1-8fbc-7cfef0cab922",
   "metadata": {},
   "outputs": [
    {
     "name": "stdout",
     "output_type": "stream",
     "text": [
      "all points were tested\n"
     ]
    }
   ],
   "source": [
    "test_combinations(q, B)"
   ]
  },
  {
   "cell_type": "code",
   "execution_count": 13,
   "id": "3618457d-363a-4351-bc08-9f37be053b78",
   "metadata": {},
   "outputs": [],
   "source": [
    "C = Matrix([[-1, 0], [0, -1], [1, 2], [0, 1]])\n",
    "r = PEQP(C)"
   ]
  },
  {
   "cell_type": "code",
   "execution_count": 14,
   "id": "4010f988-bf4a-453a-a8fb-359ba708b91e",
   "metadata": {},
   "outputs": [
    {
     "name": "stdout",
     "output_type": "stream",
     "text": [
      "all points were tested\n"
     ]
    }
   ],
   "source": [
    "test_combinations(r, C, range(-6, 7))"
   ]
  },
  {
   "cell_type": "code",
   "execution_count": 16,
   "id": "936ecfec-abfb-4759-917a-5bcc434a6ad7",
   "metadata": {
    "scrolled": true
   },
   "outputs": [],
   "source": [
    "D = Matrix([[-1, 0, 0], [0, -1, 0], [0, 0, -1], [1, 0, 0], [0, 1, 0], [0, 0, 1]])\n",
    "s = PEQP(D)"
   ]
  },
  {
   "cell_type": "code",
   "execution_count": 17,
   "id": "dba6f218-5a8f-4492-9986-a3ba896bbc20",
   "metadata": {},
   "outputs": [
    {
     "data": {
      "text/plain": [
       "{(0, 0, 0): 8*x0*x1*x2 + 4*x0*x1 + 4*x0*x2 + 4*x1*x2 + 2*x0 + 2*x1 + 2*x2 + 1,\n",
       " (0, 0, 1): 8*x0*x1*x2 + 4*x0*x1 + 4*x0*x2 + 2*x0,\n",
       " (0, 1, 0): 8*x0*x1*x2 + 4*x0*x1 + 4*x1*x2 + 2*x1,\n",
       " (0, 1, 1): 8*x0*x1*x2 + 4*x0*x1,\n",
       " (1, 0, 0): 8*x0*x1*x2 + 4*x0*x2 + 4*x1*x2 + 2*x2,\n",
       " (1, 0, 1): 8*x0*x1*x2 + 4*x0*x2,\n",
       " (1, 1, 0): 8*x0*x1*x2 + 4*x1*x2,\n",
       " (1, 1, 1): 8*x0*x1*x2}"
      ]
     },
     "execution_count": 17,
     "metadata": {},
     "output_type": "execute_result"
    }
   ],
   "source": [
    "s._cone_dicts[0][\"polynomials\"]"
   ]
  },
  {
   "cell_type": "code",
   "execution_count": 19,
   "id": "2b104c79-e8e8-4dd4-a6c3-06fd4c60624a",
   "metadata": {},
   "outputs": [
    {
     "name": "stdout",
     "output_type": "stream",
     "text": [
      "all points were tested\n"
     ]
    }
   ],
   "source": [
    "test_combinations(s, D)"
   ]
  },
  {
   "cell_type": "code",
   "execution_count": 21,
   "id": "732caeb2-7e50-4e39-9c9f-aa2a895943f9",
   "metadata": {},
   "outputs": [],
   "source": [
    "E = Matrix([[-1, 0, 0], [0, -1, 0], [0, 0, -1], [1, 1, 1]])\n",
    "t = PEQP(E)"
   ]
  },
  {
   "cell_type": "code",
   "execution_count": 22,
   "id": "5f868867-a805-42ba-a496-38cdd654b754",
   "metadata": {},
   "outputs": [
    {
     "data": {
      "text/plain": [
       "{(0,): 32/3*x^3 + 16*x^2 + 22/3*x + 1,\n",
       " (1,): 32/3*x^3 + 8*x^2 + 4/3*x,\n",
       " (2,): 32/3*x^3 - 2/3*x,\n",
       " (3,): 32/3*x^3 - 8*x^2 + 4/3*x}"
      ]
     },
     "execution_count": 22,
     "metadata": {},
     "output_type": "execute_result"
    }
   ],
   "source": [
    "t._cone_dicts[0][\"polynomials\"]"
   ]
  },
  {
   "cell_type": "code",
   "execution_count": 23,
   "id": "9524f060-a1ac-49ff-b9c0-6a9c88c1f103",
   "metadata": {},
   "outputs": [
    {
     "name": "stdout",
     "output_type": "stream",
     "text": [
      "all points were tested\n"
     ]
    }
   ],
   "source": [
    "test_combinations(t, E)"
   ]
  },
  {
   "cell_type": "code",
   "execution_count": 24,
   "id": "680b975b-b15b-4163-a631-1c33eb2d51cd",
   "metadata": {},
   "outputs": [
    {
     "data": {
      "text/plain": [
       "QuasiPolynomialElement(Ring of Quasi-Polynomials over Rational Field, [[1], [22/3], [16], [32/3]])"
      ]
     },
     "execution_count": 24,
     "metadata": {},
     "output_type": "execute_result"
    }
   ],
   "source": [
    "ehr(E, t._rays[0])"
   ]
  },
  {
   "cell_type": "code",
   "execution_count": null,
   "id": "683573a4-5489-4293-8463-9da765f207ec",
   "metadata": {},
   "outputs": [],
   "source": [
    "F = Matrix([[-1, 0], [0, -1], [1, 3], [0, 1]])\n",
    "u = PEQP(F)"
   ]
  }
 ],
 "metadata": {
  "kernelspec": {
   "display_name": "Python 3 (ipykernel)",
   "language": "python",
   "name": "python3"
  },
  "language_info": {
   "codemirror_mode": {
    "name": "ipython",
    "version": 3
   },
   "file_extension": ".py",
   "mimetype": "text/x-python",
   "name": "python",
   "nbconvert_exporter": "python",
   "pygments_lexer": "ipython3",
   "version": "3.10.12"
  }
 },
 "nbformat": 4,
 "nbformat_minor": 5
}
