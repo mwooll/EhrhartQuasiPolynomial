{
 "cells": [
  {
   "cell_type": "code",
   "execution_count": 7,
   "id": "bb1c8fc8-a4fb-4fc4-81e8-6d7dd21516c1",
   "metadata": {},
   "outputs": [],
   "source": [
    "from itertools import combinations_with_replacement\n",
    "\n",
    "from ehrhart_quasi_polynomial.ehrhart_piecewise import (\n",
    "    PiecewiseEhrhartQuasiPolynomial as PEQP,\n",
    "    create_polytope_from_matrix,\n",
    "    secondary_fan,\n",
    "    _process_fan_vectors,\n",
    "    _compute_change_of_basis_matrices,\n",
    "    _compute_periods,\n",
    "    _generate_cone_points)\n",
    "\n",
    "from ehrhart_quasi_polynomial import *"
   ]
  },
  {
   "cell_type": "code",
   "execution_count": 3,
   "id": "2c7b0c5b-6819-447d-a380-25c7edba6ee0",
   "metadata": {},
   "outputs": [],
   "source": [
    "from sage.geometry.cone import Cone\n",
    "from sage.geometry.polyhedron.constructor import Polyhedron\n",
    "from sage.matrix.constructor import Matrix\n",
    "from sage.modules.free_module_element import free_module_element\n",
    "from sage.modules.free_quadratic_module_integer_symmetric import IntegralLattice\n",
    "from sage.rings.polynomial.polynomial_ring_constructor import PolynomialRing\n",
    "from sage.rings.rational_field import QQ"
   ]
  },
  {
   "cell_type": "code",
   "execution_count": 8,
   "id": "d7725f21-891e-4274-a12f-aecd9269cd67",
   "metadata": {},
   "outputs": [],
   "source": [
    "ehr = lambda A, b: ehrhart_quasi_polynomial(create_polytope_from_matrix(A, b).Vrepresentation())"
   ]
  },
  {
   "cell_type": "code",
   "execution_count": 4,
   "id": "4066cb99-be09-4a80-a7b2-85aed201bf0b",
   "metadata": {},
   "outputs": [],
   "source": [
    "A = Matrix([[-1, 0], [0, -1], [1, 1]])\n",
    "p = PEQP(A)"
   ]
  },
  {
   "cell_type": "code",
   "execution_count": 5,
   "id": "26320dba-bc6b-47f8-8df4-e51be8f31e0e",
   "metadata": {},
   "outputs": [
    {
     "name": "stdout",
     "output_type": "stream",
     "text": [
      "{(0): 9/2*x^2 + 9/2*x + 1, (1): 9/2*x^2 + 3/2*x, (2): 9/2*x^2 - 3/2*x}\n"
     ]
    }
   ],
   "source": [
    "print(p._cone_dicts[0][\"polynomials\"])"
   ]
  },
  {
   "cell_type": "code",
   "execution_count": 11,
   "id": "41e90479-b9bd-41e8-a36b-d09d7aa45e6e",
   "metadata": {},
   "outputs": [
    {
     "data": {
      "text/plain": [
       "(QuasiPolynomialElement(Ring of Quasi-Polynomials over Rational Field, [[1]]),\n",
       " QuasiPolynomialElement(Ring of Quasi-Polynomials over Rational Field, [[1], [9/2], [9/2]]),\n",
       " QuasiPolynomialElement(Ring of Quasi-Polynomials over Rational Field, [[1], [9], [18]]))"
      ]
     },
     "execution_count": 11,
     "metadata": {},
     "output_type": "execute_result"
    }
   ],
   "source": [
    "ehr(A, p._rays[0]*0), ehr(A, p._rays[0]), ehr(A, p._rays[0]*2)"
   ]
  },
  {
   "cell_type": "code",
   "execution_count": 189,
   "id": "02fbbb2e-de1a-486f-a1b8-eb644f96e965",
   "metadata": {},
   "outputs": [],
   "source": [
    "num_int_points = lambda A, b: len(create_polytope_from_matrix(A, b).integral_points())\n",
    "\n",
    "def investigate(dic, q, point):\n",
    "        if point in dic[\"cone\"]:\n",
    "            if dic[\"quotient\"](point) == dic[\"quotient\"][0]:\n",
    "                return q(point)\n",
    "            return -1\n",
    "        return 0\n",
    "\n",
    "def test_q(dic, q, A):\n",
    "    for b in combinations_with_replacement(range(-2, 3), A.nrows()):\n",
    "        \n",
    "        expected = num_int_points(A, b)\n",
    "        actual = investigate(dic, q, b)\n",
    "        if actual != expected:\n",
    "            print(b, expected, actual)\n",
    "    print(\"all points were tested\")"
   ]
  },
  {
   "cell_type": "code",
   "execution_count": 153,
   "id": "110d88c0-5817-4dd9-80d0-32dfe375ff26",
   "metadata": {},
   "outputs": [
    {
     "data": {
      "text/plain": [
       "(((1, 0, -1), (0, 1, -1)), ((1, 1, 1),))"
      ]
     },
     "execution_count": 153,
     "metadata": {},
     "output_type": "execute_result"
    }
   ],
   "source": [
    "p._lin_vectors, p._rays"
   ]
  },
  {
   "cell_type": "code",
   "execution_count": 55,
   "id": "da99e35d-299a-4612-ad6d-dbf33f441598",
   "metadata": {},
   "outputs": [],
   "source": [
    "dic = p._cone_dicts[0]"
   ]
  },
  {
   "cell_type": "code",
   "execution_count": 25,
   "id": "1f2372d9-602f-4340-b5ff-85766f68ce0b",
   "metadata": {},
   "outputs": [],
   "source": [
    "S = PolynomialRing(QQ, \"y\", 3)"
   ]
  },
  {
   "cell_type": "code",
   "execution_count": 28,
   "id": "13d7b8a3-3697-40fa-a430-25575f0d6f40",
   "metadata": {},
   "outputs": [
    {
     "data": {
      "text/plain": [
       "(y0, y1, y2)"
      ]
     },
     "execution_count": 28,
     "metadata": {},
     "output_type": "execute_result"
    }
   ],
   "source": [
    "S.gens()"
   ]
  },
  {
   "cell_type": "code",
   "execution_count": 109,
   "id": "c9b28775-49aa-47d1-820f-917b99f69a05",
   "metadata": {},
   "outputs": [
    {
     "data": {
      "text/plain": [
       "(0, 0, 1)"
      ]
     },
     "execution_count": 109,
     "metadata": {},
     "output_type": "execute_result"
    }
   ],
   "source": [
    "dic[\"change_of_basis_inverse\"].T*free_module_element(p._rays[0])"
   ]
  },
  {
   "cell_type": "code",
   "execution_count": 187,
   "id": "f5d59329-b05d-42f1-b53f-4eded647530e",
   "metadata": {},
   "outputs": [
    {
     "name": "stdout",
     "output_type": "stream",
     "text": [
      "[y0 + y1 + y2]\n"
     ]
    },
    {
     "data": {
      "text/plain": [
       "9/2*y0^2 + 9*y0*y1 + 9/2*y1^2 + 9*y0*y2 + 9*y1*y2 + 9/2*y2^2 + 9/2*y0 + 9/2*y1 + 9/2*y2 + 1"
      ]
     },
     "execution_count": 187,
     "metadata": {},
     "output_type": "execute_result"
    }
   ],
   "source": [
    "x = [dic[\"change_of_basis_matrix\"].T*free_module_element([0, 0, 1])*free_module_element(S.gens())]\n",
    "print(x)\n",
    "q = dic[\"polynomials\"][dic[\"quotient\"][0]](x)\n",
    "q"
   ]
  },
  {
   "cell_type": "code",
   "execution_count": 190,
   "id": "462d2a21-b402-4ccc-81f0-001a4ab3023b",
   "metadata": {},
   "outputs": [
    {
     "name": "stdout",
     "output_type": "stream",
     "text": [
      "(-2, 1, 2) 3 -1\n",
      "(-2, 2, 2) 6 -1\n",
      "(-1, 0, 2) 3 -1\n",
      "(-1, 1, 1) 3 -1\n",
      "(-1, 1, 2) 6 -1\n",
      "(-1, 2, 2) 10 55\n",
      "(0, 0, 1) 3 -1\n",
      "(0, 0, 2) 6 -1\n",
      "(0, 1, 1) 6 -1\n",
      "(0, 1, 2) 10 55\n",
      "(0, 2, 2) 15 -1\n",
      "(1, 1, 1) 10 55\n",
      "(1, 1, 2) 15 -1\n",
      "(1, 2, 2) 21 -1\n",
      "(2, 2, 2) 28 190\n",
      "all points were tested\n"
     ]
    }
   ],
   "source": [
    "test_q(dic, q, A)"
   ]
  },
  {
   "cell_type": "code",
   "execution_count": 167,
   "id": "728fec43-4e26-49f3-ba28-7497c516d589",
   "metadata": {},
   "outputs": [
    {
     "data": {
      "text/plain": [
       "(715, 1540)"
      ]
     },
     "execution_count": 167,
     "metadata": {},
     "output_type": "execute_result"
    }
   ],
   "source": [
    "points_in_cone = 0\n",
    "n_points = 0\n",
    "for b in combinations_with_replacement(range(-10, 10), A.nrows()):\n",
    "    n_points += 1\n",
    "    points_in_cone += b in dic[\"cone\"]\n",
    "points_in_cone, n_points"
   ]
  }
 ],
 "metadata": {
  "kernelspec": {
   "display_name": "Python 3 (ipykernel)",
   "language": "python",
   "name": "python3"
  },
  "language_info": {
   "codemirror_mode": {
    "name": "ipython",
    "version": 3
   },
   "file_extension": ".py",
   "mimetype": "text/x-python",
   "name": "python",
   "nbconvert_exporter": "python",
   "pygments_lexer": "ipython3",
   "version": "3.10.12"
  }
 },
 "nbformat": 4,
 "nbformat_minor": 5
}
