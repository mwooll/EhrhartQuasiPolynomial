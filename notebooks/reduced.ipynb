{
 "cells": [
  {
   "cell_type": "code",
   "execution_count": 16,
   "id": "8fefa7c8-4d8c-4567-9b2b-b796a65a7840",
   "metadata": {},
   "outputs": [
    {
     "ename": "ImportError",
     "evalue": "cannot import name 'identity' from 'sage.matrix.constructor' (/home/moerkx/sageinstall/sage/src/sage/matrix/constructor.cpython-310-x86_64-linux-gnu.so)",
     "output_type": "error",
     "traceback": [
      "\u001b[0;31m---------------------------------------------------------------------------\u001b[0m",
      "\u001b[0;31mImportError\u001b[0m                               Traceback (most recent call last)",
      "Cell \u001b[0;32mIn[16], line 1\u001b[0m\n\u001b[0;32m----> 1\u001b[0m \u001b[38;5;28;01mfrom\u001b[39;00m \u001b[38;5;21;01msage\u001b[39;00m\u001b[38;5;21;01m.\u001b[39;00m\u001b[38;5;21;01mmatrix\u001b[39;00m\u001b[38;5;21;01m.\u001b[39;00m\u001b[38;5;21;01mconstructor\u001b[39;00m \u001b[38;5;28;01mimport\u001b[39;00m Matrix, block_matrix, identity\n",
      "\u001b[0;31mImportError\u001b[0m: cannot import name 'identity' from 'sage.matrix.constructor' (/home/moerkx/sageinstall/sage/src/sage/matrix/constructor.cpython-310-x86_64-linux-gnu.so)"
     ]
    }
   ],
   "source": [
    "from sage.matrix.constructor import Matrix\n",
    "from sage.rings.integer_ring import ZZ"
   ]
  },
  {
   "cell_type": "code",
   "execution_count": 2,
   "id": "5e472069-3d91-4815-aac6-2bb311360818",
   "metadata": {},
   "outputs": [],
   "source": [
    "orth = tuple(free_module_element(orth) for orth in [(1, 0, 1, -1), (0, 1, 0, 1)])\n",
    "lin = tuple(free_module_element(lin) for lin in [(1, 0, -1, 0), (0, 1, -1, -1)])"
   ]
  },
  {
   "cell_type": "code",
   "execution_count": 43,
   "id": "ed7ece89-0e7f-4818-a69d-ab4daac47c55",
   "metadata": {},
   "outputs": [],
   "source": [
    "def _compute_change_of_basis_matrices(orth_vectors, lineality_vectors):\n",
    "    M = Matrix(orth + lin)\n",
    "    I = M.inverse()\n",
    "\n",
    "    r = len(orth_vectors)\n",
    "    m = len(lineality_vectors)\n",
    "    K = Matrix.block([[Matrix.identity(r), Matrix.zero(ZZ, nrows=r, ncols=m)]], subdivide=False)\n",
    "    return M, I, K\n",
    "\n",
    "M, I, K = _compute_change_of_basis_matrix(orth, lin)"
   ]
  },
  {
   "cell_type": "code",
   "execution_count": 44,
   "id": "97408f66-6de9-42ec-9867-e6d4daad1188",
   "metadata": {},
   "outputs": [
    {
     "data": {
      "text/plain": [
       "[1 0 0 0]\n",
       "[0 1 0 0]"
      ]
     },
     "execution_count": 44,
     "metadata": {},
     "output_type": "execute_result"
    }
   ],
   "source": [
    "K"
   ]
  },
  {
   "cell_type": "code",
   "execution_count": 68,
   "id": "e9c16346-fb2a-40c8-8727-d765516c4e9f",
   "metadata": {},
   "outputs": [
    {
     "data": {
      "text/plain": [
       "(11, 0)"
      ]
     },
     "execution_count": 68,
     "metadata": {},
     "output_type": "execute_result"
    }
   ],
   "source": [
    "K*((free_module_element([1, 0, 1, -1]) + 10*orth[0])*I)"
   ]
  }
 ],
 "metadata": {
  "kernelspec": {
   "display_name": "SageMath 10.3",
   "language": "sage",
   "name": "sagemath"
  },
  "language_info": {
   "codemirror_mode": {
    "name": "ipython",
    "version": 3
   },
   "file_extension": ".py",
   "mimetype": "text/x-python",
   "name": "python",
   "nbconvert_exporter": "python",
   "pygments_lexer": "ipython3",
   "version": "3.10.12"
  }
 },
 "nbformat": 4,
 "nbformat_minor": 5
}
