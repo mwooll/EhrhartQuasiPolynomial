{
 "cells": [
  {
   "cell_type": "code",
   "execution_count": 15,
   "id": "ecdf77a8-c7d5-4075-8b81-988f7fdfa28d",
   "metadata": {},
   "outputs": [],
   "source": [
    "from ehrhart_quasi_polynomial.ehrhart_piecewise import PiecewiseEhrhartQuasiPolynomial as PEQP\n",
    "import ehrhart_quasi_polynomial.ehrhart_piecewise\n",
    "from sage.matrix.constructor import Matrix"
   ]
  },
  {
   "cell_type": "code",
   "execution_count": 49,
   "id": "f1c69889-b48d-4d92-9750-5e9657d6aa84",
   "metadata": {},
   "outputs": [
    {
     "name": "stdout",
     "output_type": "stream",
     "text": [
      "def _generate_cone_points(dimension, scaler):\n",
      "    \"\"\"\n",
      "    Return all integral points of a simplex of dimension ``dim`` scaled\n",
      "    by ``scaler``. Always returns exactly `dim + scaler choose dim` points.\n",
      "\n",
      "    TESTS::\n",
      "\n",
      "        sage: from ehrhart_quasi_polynomial.ehrhart_piecewise import _generate_cone_points\n",
      "        sage: _generate_cone_points(2, 2)\n",
      "        ((0, 0), (1, 0), (0, 1), (2, 0), (1, 1), (0, 2))\n",
      "    \"\"\"\n",
      "    origin = free_module_element(0 for k in range(dimension))\n",
      "    points = (origin, )\n",
      "\n",
      "    basis = [free_module_element(int(k == d) for k in range(dimension))\n",
      "             for d in range(dimension)]\n",
      "\n",
      "    points += tuple(sum(combi) for index in range(1, scaler+1)\n",
      "                    for combi in combinations_with_replacement(basis, index))\n",
      "    return points\n",
      "\n"
     ]
    }
   ],
   "source": [
    "from inspect import getsource\n",
    "print(getsource(ehrhart_quasi_polynomial.ehrhart_piecewise._generate_cone_points))"
   ]
  },
  {
   "cell_type": "code",
   "execution_count": 48,
   "id": "e04fa9b5-3ae0-4812-8d1d-3ae11905fc75",
   "metadata": {},
   "outputs": [],
   "source": [
    "import pandas as pd\n",
    "import cProfile"
   ]
  },
  {
   "cell_type": "code",
   "execution_count": 101,
   "id": "16e734fa-a7cf-4a94-b511-039b24dd469c",
   "metadata": {
    "scrolled": true
   },
   "outputs": [],
   "source": [
    "def profile(M):\n",
    "    pd.options.display.float_format = '{:,.4f}'.format\n",
    "    p = None\n",
    "    with cProfile.Profile() as pr:\n",
    "        p = PEQP(M)\n",
    "\n",
    "    df = pd.DataFrame(pr.getstats(),\n",
    "                      columns=[\"func\", \"ncalls\", \"ccalls\", \"cumtime\", \"tottime\", \"callers\"])\n",
    "    df[\"cumpc\"] = df[\"cumtime\"]/df[\"ncalls\"]\n",
    "    df[\"totpc\"] = df[\"tottime\"]/df[\"ncalls\"]\n",
    "    df = df[[\"ncalls\", \"tottime\", \"totpc\", \"cumtime\", \"cumpc\", \"func\", \"callers\"]] # rearrange columns\n",
    "\n",
    "    # remove functions with tottime < 0.001\n",
    "    df = df.query(\"tottime > 0.0001\")\n",
    "    return df, p"
   ]
  },
  {
   "cell_type": "code",
   "execution_count": 98,
   "id": "d044aeb4-8011-4e3c-a724-f0f96d273bcf",
   "metadata": {},
   "outputs": [],
   "source": [
    "A = Matrix([[-1, 0], [0, -1], [1, 1]])\n",
    "B = Matrix([[-1, 0], [0, -1], [1, 2]])\n",
    "C = Matrix([[-1, 0], [0, -1], [1, 1], [0, 1]])\n",
    "D = Matrix([[-1, 0], [0, -1], [1, 2], [0, 1]])\n",
    "E = Matrix([[-1, 0], [0, -1], [1, 3], [0, 1]])"
   ]
  },
  {
   "cell_type": "code",
   "execution_count": 102,
   "id": "5bd4f92a-b1c6-46f6-977d-93ed1fe3d835",
   "metadata": {},
   "outputs": [
    {
     "name": "stdout",
     "output_type": "stream",
     "text": [
      "CPU times: user 50.5 ms, sys: 718 µs, total: 51.2 ms\n",
      "Wall time: 55 ms\n"
     ]
    }
   ],
   "source": [
    "%time report_p, p = profile(A)"
   ]
  },
  {
   "cell_type": "code",
   "execution_count": 95,
   "id": "1d624431-4728-42dc-b7a7-64ee055a6ba6",
   "metadata": {},
   "outputs": [
    {
     "data": {
      "text/html": [
       "<div>\n",
       "<style scoped>\n",
       "    .dataframe tbody tr th:only-of-type {\n",
       "        vertical-align: middle;\n",
       "    }\n",
       "\n",
       "    .dataframe tbody tr th {\n",
       "        vertical-align: top;\n",
       "    }\n",
       "\n",
       "    .dataframe thead th {\n",
       "        text-align: right;\n",
       "    }\n",
       "</style>\n",
       "<table border=\"1\" class=\"dataframe\">\n",
       "  <thead>\n",
       "    <tr style=\"text-align: right;\">\n",
       "      <th></th>\n",
       "      <th>ncalls</th>\n",
       "      <th>tottime</th>\n",
       "      <th>totpc</th>\n",
       "      <th>cumtime</th>\n",
       "      <th>cumpc</th>\n",
       "      <th>func</th>\n",
       "      <th>callers</th>\n",
       "    </tr>\n",
       "  </thead>\n",
       "  <tbody>\n",
       "    <tr>\n",
       "      <th>72</th>\n",
       "      <td>3</td>\n",
       "      <td>0.0037</td>\n",
       "      <td>0.0012</td>\n",
       "      <td>0.0037</td>\n",
       "      <td>0.0012</td>\n",
       "      <td>&lt;method 'poll' of 'select.poll' objects&gt;</td>\n",
       "      <td>None</td>\n",
       "    </tr>\n",
       "    <tr>\n",
       "      <th>111</th>\n",
       "      <td>30</td>\n",
       "      <td>0.0034</td>\n",
       "      <td>0.0001</td>\n",
       "      <td>0.0039</td>\n",
       "      <td>0.0001</td>\n",
       "      <td>&lt;code object _convert_constraint_to_ppl at 0x7...</td>\n",
       "      <td>[(&lt;code object &lt;listcomp&gt; at 0x7f90159c7680, f...</td>\n",
       "    </tr>\n",
       "    <tr>\n",
       "      <th>49</th>\n",
       "      <td>14</td>\n",
       "      <td>0.0021</td>\n",
       "      <td>0.0001</td>\n",
       "      <td>0.0021</td>\n",
       "      <td>0.0001</td>\n",
       "      <td>&lt;built-in method posix.lstat&gt;</td>\n",
       "      <td>None</td>\n",
       "    </tr>\n",
       "    <tr>\n",
       "      <th>313</th>\n",
       "      <td>3</td>\n",
       "      <td>0.0019</td>\n",
       "      <td>0.0006</td>\n",
       "      <td>0.0036</td>\n",
       "      <td>0.0012</td>\n",
       "      <td>&lt;method 'interpolation' of 'sage.rings.polynom...</td>\n",
       "      <td>[(&lt;code object universe at 0x7f9084583c00, fil...</td>\n",
       "    </tr>\n",
       "    <tr>\n",
       "      <th>122</th>\n",
       "      <td>8</td>\n",
       "      <td>0.0015</td>\n",
       "      <td>0.0002</td>\n",
       "      <td>0.0023</td>\n",
       "      <td>0.0003</td>\n",
       "      <td>&lt;built-in method sage.geometry.integral_points...</td>\n",
       "      <td>[(&lt;code object inequality_generator at 0x7f901...</td>\n",
       "    </tr>\n",
       "  </tbody>\n",
       "</table>\n",
       "</div>"
      ],
      "text/plain": [
       "     ncalls  tottime  totpc  cumtime  cumpc  \\\n",
       "72        3   0.0037 0.0012   0.0037 0.0012   \n",
       "111      30   0.0034 0.0001   0.0039 0.0001   \n",
       "49       14   0.0021 0.0001   0.0021 0.0001   \n",
       "313       3   0.0019 0.0006   0.0036 0.0012   \n",
       "122       8   0.0015 0.0002   0.0023 0.0003   \n",
       "\n",
       "                                                  func  \\\n",
       "72            <method 'poll' of 'select.poll' objects>   \n",
       "111  <code object _convert_constraint_to_ppl at 0x7...   \n",
       "49                       <built-in method posix.lstat>   \n",
       "313  <method 'interpolation' of 'sage.rings.polynom...   \n",
       "122  <built-in method sage.geometry.integral_points...   \n",
       "\n",
       "                                               callers  \n",
       "72                                                None  \n",
       "111  [(<code object <listcomp> at 0x7f90159c7680, f...  \n",
       "49                                                None  \n",
       "313  [(<code object universe at 0x7f9084583c00, fil...  \n",
       "122  [(<code object inequality_generator at 0x7f901...  "
      ]
     },
     "execution_count": 95,
     "metadata": {},
     "output_type": "execute_result"
    }
   ],
   "source": [
    "report_p.sort_values(\"tottime\", ascending=False).head()"
   ]
  },
  {
   "cell_type": "code",
   "execution_count": 108,
   "id": "81245f83-c2de-4516-b729-d0abf57a6f0e",
   "metadata": {},
   "outputs": [
    {
     "name": "stdout",
     "output_type": "stream",
     "text": [
      "CPU times: user 641 ms, sys: 191 µs, total: 642 ms\n",
      "Wall time: 647 ms\n"
     ]
    }
   ],
   "source": [
    "%time report_r, r = profile(C)"
   ]
  },
  {
   "cell_type": "code",
   "execution_count": 106,
   "id": "20c6ed57-9f55-42de-a9c2-c2d015671b7e",
   "metadata": {},
   "outputs": [
    {
     "data": {
      "text/html": [
       "<div>\n",
       "<style scoped>\n",
       "    .dataframe tbody tr th:only-of-type {\n",
       "        vertical-align: middle;\n",
       "    }\n",
       "\n",
       "    .dataframe tbody tr th {\n",
       "        vertical-align: top;\n",
       "    }\n",
       "\n",
       "    .dataframe thead th {\n",
       "        text-align: right;\n",
       "    }\n",
       "</style>\n",
       "<table border=\"1\" class=\"dataframe\">\n",
       "  <thead>\n",
       "    <tr style=\"text-align: right;\">\n",
       "      <th></th>\n",
       "      <th>ncalls</th>\n",
       "      <th>tottime</th>\n",
       "      <th>totpc</th>\n",
       "      <th>cumtime</th>\n",
       "      <th>cumpc</th>\n",
       "      <th>func</th>\n",
       "      <th>callers</th>\n",
       "    </tr>\n",
       "  </thead>\n",
       "  <tbody>\n",
       "    <tr>\n",
       "      <th>127</th>\n",
       "      <td>296</td>\n",
       "      <td>0.1038</td>\n",
       "      <td>0.0004</td>\n",
       "      <td>0.2180</td>\n",
       "      <td>0.0007</td>\n",
       "      <td>&lt;built-in method sage.geometry.integral_points...</td>\n",
       "      <td>[(&lt;code object __getitem__ at 0x7f90159a37e0, ...</td>\n",
       "    </tr>\n",
       "    <tr>\n",
       "      <th>115</th>\n",
       "      <td>1212</td>\n",
       "      <td>0.0634</td>\n",
       "      <td>0.0001</td>\n",
       "      <td>0.0708</td>\n",
       "      <td>0.0001</td>\n",
       "      <td>&lt;code object _convert_constraint_to_ppl at 0x7...</td>\n",
       "      <td>[(&lt;code object &lt;listcomp&gt; at 0x7f90159c75d0, f...</td>\n",
       "    </tr>\n",
       "    <tr>\n",
       "      <th>526</th>\n",
       "      <td>85781</td>\n",
       "      <td>0.0547</td>\n",
       "      <td>0.0000</td>\n",
       "      <td>0.1085</td>\n",
       "      <td>0.0000</td>\n",
       "      <td>&lt;code object copy at 0x7f9098f59d10, file \"/us...</td>\n",
       "      <td>[(&lt;built-in method builtins.issubclass&gt;, 85781...</td>\n",
       "    </tr>\n",
       "    <tr>\n",
       "      <th>388</th>\n",
       "      <td>50</td>\n",
       "      <td>0.0360</td>\n",
       "      <td>0.0007</td>\n",
       "      <td>0.0657</td>\n",
       "      <td>0.0013</td>\n",
       "      <td>&lt;method 'interpolation' of 'sage.rings.polynom...</td>\n",
       "      <td>[(&lt;code object universe at 0x7f9084583c00, fil...</td>\n",
       "    </tr>\n",
       "    <tr>\n",
       "      <th>257</th>\n",
       "      <td>85693</td>\n",
       "      <td>0.0340</td>\n",
       "      <td>0.0000</td>\n",
       "      <td>0.0340</td>\n",
       "      <td>0.0000</td>\n",
       "      <td>&lt;method '__copy__' of 'sage.modules.vector_int...</td>\n",
       "      <td>None</td>\n",
       "    </tr>\n",
       "  </tbody>\n",
       "</table>\n",
       "</div>"
      ],
      "text/plain": [
       "     ncalls  tottime  totpc  cumtime  cumpc  \\\n",
       "127     296   0.1038 0.0004   0.2180 0.0007   \n",
       "115    1212   0.0634 0.0001   0.0708 0.0001   \n",
       "526   85781   0.0547 0.0000   0.1085 0.0000   \n",
       "388      50   0.0360 0.0007   0.0657 0.0013   \n",
       "257   85693   0.0340 0.0000   0.0340 0.0000   \n",
       "\n",
       "                                                  func  \\\n",
       "127  <built-in method sage.geometry.integral_points...   \n",
       "115  <code object _convert_constraint_to_ppl at 0x7...   \n",
       "526  <code object copy at 0x7f9098f59d10, file \"/us...   \n",
       "388  <method 'interpolation' of 'sage.rings.polynom...   \n",
       "257  <method '__copy__' of 'sage.modules.vector_int...   \n",
       "\n",
       "                                               callers  \n",
       "127  [(<code object __getitem__ at 0x7f90159a37e0, ...  \n",
       "115  [(<code object <listcomp> at 0x7f90159c75d0, f...  \n",
       "526  [(<built-in method builtins.issubclass>, 85781...  \n",
       "388  [(<code object universe at 0x7f9084583c00, fil...  \n",
       "257                                               None  "
      ]
     },
     "execution_count": 106,
     "metadata": {},
     "output_type": "execute_result"
    }
   ],
   "source": [
    "report_r.sort_values(\"tottime\", ascending=False)[:5]"
   ]
  },
  {
   "cell_type": "code",
   "execution_count": null,
   "id": "0f557285-0870-4084-b8ce-9c3b730a7f4d",
   "metadata": {},
   "outputs": [],
   "source": [
    "%time report_s, s = profile(E)"
   ]
  },
  {
   "cell_type": "code",
   "execution_count": null,
   "id": "9bab739b-1063-4db6-ab3d-ba48f1d09430",
   "metadata": {},
   "outputs": [],
   "source": [
    "report_s.sort_values(\"tottime\", ascending=False)[:5]"
   ]
  }
 ],
 "metadata": {
  "kernelspec": {
   "display_name": "Python 3 (ipykernel)",
   "language": "python",
   "name": "python3"
  },
  "language_info": {
   "codemirror_mode": {
    "name": "ipython",
    "version": 3
   },
   "file_extension": ".py",
   "mimetype": "text/x-python",
   "name": "python",
   "nbconvert_exporter": "python",
   "pygments_lexer": "ipython3",
   "version": "3.10.12"
  }
 },
 "nbformat": 4,
 "nbformat_minor": 5
}
