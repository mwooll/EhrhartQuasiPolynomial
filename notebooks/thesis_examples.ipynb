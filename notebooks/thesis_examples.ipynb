{
 "cells": [
  {
   "cell_type": "code",
   "execution_count": 3,
   "id": "f2ddcfce-ef15-4d79-ab5e-fae3e35d79b5",
   "metadata": {},
   "outputs": [
    {
     "name": "stdout",
     "output_type": "stream",
     "text": [
      "QuasiPolynomial given by \n",
      "[1, 3/4] + [1]*t + [1/4]*t^2\n"
     ]
    }
   ],
   "source": [
    "from ehrhart_quasi_polynomial import ehrhart_quasi_polynomial\n",
    "rational_triangle = [(0, 0), (1, 0), (0, 0.5)]\n",
    "print(ehrhart_quasi_polynomial(rational_triangle))"
   ]
  }
 ],
 "metadata": {
  "kernelspec": {
   "display_name": "Python 3 (ipykernel)",
   "language": "python",
   "name": "python3"
  },
  "language_info": {
   "codemirror_mode": {
    "name": "ipython",
    "version": 3
   },
   "file_extension": ".py",
   "mimetype": "text/x-python",
   "name": "python",
   "nbconvert_exporter": "python",
   "pygments_lexer": "ipython3",
   "version": "3.10.12"
  }
 },
 "nbformat": 4,
 "nbformat_minor": 5
}
