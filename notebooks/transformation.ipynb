{
 "cells": [
  {
   "cell_type": "code",
   "execution_count": 96,
   "id": "d2b69f67-ec54-4871-8392-890ba665d207",
   "metadata": {},
   "outputs": [],
   "source": [
    "from sage.misc.dev_tools import import_statements"
   ]
  },
  {
   "cell_type": "code",
   "execution_count": 103,
   "id": "67252f9c-0760-4218-8ac1-280f2f53485e",
   "metadata": {},
   "outputs": [
    {
     "ename": "NameError",
     "evalue": "name 'ZZ' is not defined",
     "output_type": "error",
     "traceback": [
      "\u001b[0;31m---------------------------------------------------------------------------\u001b[0m",
      "\u001b[0;31mNameError\u001b[0m                                 Traceback (most recent call last)",
      "Cell \u001b[0;32mIn[103], line 1\u001b[0m\n\u001b[0;32m----> 1\u001b[0m import_statements(\u001b[43mZZ\u001b[49m)\n",
      "\u001b[0;31mNameError\u001b[0m: name 'ZZ' is not defined"
     ]
    }
   ],
   "source": [
    "import_statements(ZZ)"
   ]
  },
  {
   "cell_type": "code",
   "execution_count": 1,
   "id": "bb1c8fc8-a4fb-4fc4-81e8-6d7dd21516c1",
   "metadata": {},
   "outputs": [],
   "source": [
    "from itertools import combinations_with_replacement\n",
    "\n",
    "from ehrhart_quasi_polynomial.ehrhart_piecewise import (\n",
    "    PiecewiseEhrhartQuasiPolynomial as PEQP,\n",
    "    create_polytope_from_matrix,\n",
    "    secondary_fan,\n",
    "    _process_fan_vectors,\n",
    "    _compute_change_of_basis_matrices,\n",
    "    _compute_periods,\n",
    "    _generate_cone_points)\n",
    "\n",
    "from ehrhart_quasi_polynomial import *"
   ]
  },
  {
   "cell_type": "code",
   "execution_count": 104,
   "id": "2c7b0c5b-6819-447d-a380-25c7edba6ee0",
   "metadata": {},
   "outputs": [],
   "source": [
    "from sage.calculus.var import var\n",
    "from sage.functions.other import ceil, factorial\n",
    "from sage.geometry.cone import Cone\n",
    "from sage.geometry.polyhedron.constructor import Polyhedron\n",
    "from sage.matrix.constructor import Matrix\n",
    "from sage.modules.free_module_element import free_module_element\n",
    "from sage.modules.free_quadratic_module_integer_symmetric import IntegralLattice\n",
    "from sage.rings.polynomial.polynomial_ring_constructor import PolynomialRing\n",
    "from sage.rings.rational_field import QQ\n",
    "from sage.symbolic.ring import SR"
   ]
  },
  {
   "cell_type": "code",
   "execution_count": 3,
   "id": "d7725f21-891e-4274-a12f-aecd9269cd67",
   "metadata": {},
   "outputs": [],
   "source": [
    "ehr = lambda A, b: ehrhart_quasi_polynomial(create_polytope_from_matrix(A, b).Vrepresentation())\n",
    "num_int_points = lambda A, b: len(create_polytope_from_matrix(A, b).integral_points())"
   ]
  },
  {
   "cell_type": "code",
   "execution_count": 8,
   "id": "ce06442b-7ec1-4375-93f4-97f4863247e4",
   "metadata": {},
   "outputs": [],
   "source": [
    "def __call__(self, point):\n",
    "    if len(point) != self._amb_dim:\n",
    "            raise ValueError(\"Dimension of ``point`` needs to be equal to the ambient\"\n",
    "                              f\" dimension of ``self`` which is {self._amb_dim}.\")\n",
    "    \n",
    "    for k, cone_dict in enumerate(self._cone_dicts):\n",
    "            if point in cone_dict[\"cone\"]:\n",
    "                # print(True)\n",
    "                off_set = cone_dict[\"quotient\"][cone_dict[\"quotient\"](point)[0]]\n",
    "                eval_p = ( cone_dict[\"change_of_basis_inverse\"]*(\n",
    "                    free_module_element(point) - off_set.lift()) )[:self._num_variables]\n",
    "\n",
    "                result = cone_dict[\"polynomials\"][off_set](*eval_p)\n",
    "                if isinstance(result, int):\n",
    "                    return result\n",
    "                else:\n",
    "                    return round(result), k, off_set, eval_p\n",
    "    return 0, None, None, point\n",
    "\n",
    "PEQP.__call__ = __call__"
   ]
  },
  {
   "cell_type": "code",
   "execution_count": 29,
   "id": "462d2a21-b402-4ccc-81f0-001a4ab3023b",
   "metadata": {},
   "outputs": [],
   "source": [
    "def test_combinations(p, A, xrange=range(-10, 11)):\n",
    "        for b in combinations_with_replacement(xrange, A.nrows()):\n",
    "            expected = num_int_points(A, b)\n",
    "            actual = p.evaluate(b)\n",
    "            rounded = p(b)[0]\n",
    "            if actual != expected:\n",
    "                print(b, expected, actual, rounded)\n",
    "        print(\"all points were tested\")"
   ]
  },
  {
   "cell_type": "code",
   "execution_count": 5,
   "id": "4066cb99-be09-4a80-a7b2-85aed201bf0b",
   "metadata": {},
   "outputs": [
    {
     "name": "stdout",
     "output_type": "stream",
     "text": [
      "(1,)\n",
      "(1,)\n"
     ]
    }
   ],
   "source": [
    "A = Matrix([[-1, 0], [0, -1], [1, 1]])\n",
    "p = PEQP(A)"
   ]
  },
  {
   "cell_type": "code",
   "execution_count": 6,
   "id": "26320dba-bc6b-47f8-8df4-e51be8f31e0e",
   "metadata": {},
   "outputs": [
    {
     "data": {
      "text/plain": [
       "{(0): 9/2*x^2 + 9/2*x + 1, (1): 9/2*x^2 + 3/2*x, (2): 9/2*x^2 - 3/2*x}"
      ]
     },
     "execution_count": 6,
     "metadata": {},
     "output_type": "execute_result"
    }
   ],
   "source": [
    "p._cone_dicts[0][\"polynomials\"]"
   ]
  },
  {
   "cell_type": "code",
   "execution_count": 30,
   "id": "bcde9e0a-348c-4326-b027-bce9fb363ca9",
   "metadata": {},
   "outputs": [
    {
     "name": "stdout",
     "output_type": "stream",
     "text": [
      "all points were tested\n"
     ]
    }
   ],
   "source": [
    "test_combinations(p, A)"
   ]
  },
  {
   "cell_type": "code",
   "execution_count": 10,
   "id": "bd36f122-e8b9-4c3d-b09d-4f701d2c57da",
   "metadata": {},
   "outputs": [
    {
     "name": "stdout",
     "output_type": "stream",
     "text": [
      "(1, 1, 1)\n",
      "(1, 1, 1)\n"
     ]
    }
   ],
   "source": [
    "B = Matrix([[-1, 0], [0, -1], [1, 1], [0, 1]])\n",
    "q = PEQP(B)"
   ]
  },
  {
   "cell_type": "code",
   "execution_count": 119,
   "id": "0b75faeb-22eb-4860-b4fd-962ecfe03ae0",
   "metadata": {},
   "outputs": [
    {
     "data": {
      "text/plain": [
       "{(0, 0): 25/2*x1^2 + 15/2*x1 + 1,\n",
       " (0, 1): 25/2*x1^2 + 15/2*x1 + 1,\n",
       " (0, 2): 25/2*x1^2 + 15/2*x1 + 1,\n",
       " (0, 3): 25/2*x1^2 + 15/2*x1 + 1,\n",
       " (0, 4): 25/2*x1^2 + 15/2*x1 + 1,\n",
       " (1, 0): 25/2*x1^2 - 5/2*x1,\n",
       " (1, 1): 25/2*x1^2 - 5/2*x1,\n",
       " (1, 2): 25/2*x1^2 - 5/2*x1,\n",
       " (1, 3): 25/2*x1^2 - 5/2*x1,\n",
       " (1, 4): 25/2*x1^2 - 5/2*x1,\n",
       " (2, 0): 25/2*x1^2 - 25/2*x1 + 3,\n",
       " (2, 1): 25/2*x1^2 - 25/2*x1 + 3,\n",
       " (2, 2): 25/2*x1^2 - 25/2*x1 + 3,\n",
       " (2, 3): 25/2*x1^2 - 25/2*x1 + 3,\n",
       " (2, 4): 25/2*x1^2 - 25/2*x1 + 3,\n",
       " (3, 0): 25/2*x1^2 - 45/2*x1 + 10,\n",
       " (3, 1): 25/2*x1^2 - 45/2*x1 + 10,\n",
       " (3, 2): 25/2*x1^2 - 45/2*x1 + 10,\n",
       " (3, 3): 25/2*x1^2 - 45/2*x1 + 10,\n",
       " (3, 4): 25/2*x1^2 - 45/2*x1 + 10,\n",
       " (4, 0): 25/2*x1^2 - 65/2*x1 + 21,\n",
       " (4, 1): 25/2*x1^2 - 65/2*x1 + 21,\n",
       " (4, 2): 25/2*x1^2 - 65/2*x1 + 21,\n",
       " (4, 3): 25/2*x1^2 - 65/2*x1 + 21,\n",
       " (4, 4): 25/2*x1^2 - 65/2*x1 + 21}"
      ]
     },
     "execution_count": 119,
     "metadata": {},
     "output_type": "execute_result"
    }
   ],
   "source": [
    "q._cone_dicts[0][\"polynomials\"]"
   ]
  },
  {
   "cell_type": "code",
   "execution_count": 31,
   "id": "b3595fc9-25a6-41f1-8fbc-7cfef0cab922",
   "metadata": {},
   "outputs": [
    {
     "name": "stdout",
     "output_type": "stream",
     "text": [
      "all points were tested\n"
     ]
    }
   ],
   "source": [
    "test_combinations(q, B)"
   ]
  },
  {
   "cell_type": "code",
   "execution_count": 13,
   "id": "3618457d-363a-4351-bc08-9f37be053b78",
   "metadata": {},
   "outputs": [
    {
     "name": "stdout",
     "output_type": "stream",
     "text": [
      "(1, 1, 1)\n",
      "(1, 1, 1)\n"
     ]
    }
   ],
   "source": [
    "C = Matrix([[-1, 0], [0, -1], [1, 2], [0, 1]])\n",
    "r = PEQP(C)"
   ]
  },
  {
   "cell_type": "code",
   "execution_count": 32,
   "id": "4010f988-bf4a-453a-a8fb-359ba708b91e",
   "metadata": {},
   "outputs": [
    {
     "name": "stdout",
     "output_type": "stream",
     "text": [
      "(-6, 1, 4, 4) 1 3/4 1\n",
      "(-6, 1, 4, 6) 1 3/4 1\n",
      "(-6, 1, 5, 6) 2 9/4 2\n",
      "(-6, 1, 6, 6) 4 15/4 4\n",
      "(-6, 2, 2, 3) 1 3/4 1\n",
      "(-6, 2, 2, 5) 1 3/4 1\n",
      "(-6, 2, 3, 3) 2 9/4 2\n",
      "(-6, 2, 3, 5) 2 9/4 2\n",
      "(-6, 2, 4, 5) 4 15/4 4\n",
      "(-6, 2, 5, 5) 6 25/4 6\n",
      "(-6, 3, 3, 4) 6 25/4 6\n",
      "(-6, 3, 3, 6) 6 25/4 6\n",
      "(-6, 3, 4, 4) 9 35/4 9\n",
      "(-6, 3, 4, 6) 9 35/4 9\n",
      "(-6, 3, 5, 6) 12 49/4 12\n",
      "(-6, 3, 6, 6) 16 63/4 16\n",
      "(-6, 4, 4, 5) 16 63/4 16\n",
      "(-6, 4, 5, 5) 20 81/4 20\n",
      "(-6, 5, 5, 6) 30 121/4 30\n",
      "(-6, 5, 6, 6) 36 143/4 36\n",
      "(-5, 0, 5, 5) 1 3/4 1\n",
      "(-5, 1, 3, 4) 1 3/4 1\n",
      "(-5, 1, 3, 6) 1 3/4 1\n",
      "(-5, 1, 4, 4) 2 9/4 2\n",
      "(-5, 1, 4, 6) 2 9/4 2\n",
      "(-5, 1, 5, 6) 4 15/4 4\n",
      "(-5, 1, 6, 6) 6 25/4 6\n",
      "(-5, 2, 2, 3) 2 9/4 2\n",
      "(-5, 2, 2, 5) 2 9/4 2\n",
      "(-5, 2, 3, 3) 4 15/4 4\n",
      "(-5, 2, 3, 5) 4 15/4 4\n",
      "(-5, 2, 4, 5) 6 25/4 6\n",
      "(-5, 2, 5, 5) 9 35/4 9\n",
      "(-5, 3, 3, 4) 9 35/4 9\n",
      "(-5, 3, 3, 6) 9 35/4 9\n",
      "(-5, 3, 4, 4) 12 49/4 12\n",
      "(-5, 3, 4, 6) 12 49/4 12\n",
      "(-5, 3, 5, 6) 16 63/4 16\n",
      "(-5, 3, 6, 6) 20 81/4 20\n",
      "(-5, 4, 4, 5) 20 81/4 20\n",
      "(-5, 4, 5, 5) 25 99/4 25\n",
      "(-5, 5, 5, 6) 36 143/4 36\n",
      "(-5, 5, 6, 6) 42 169/4 42\n",
      "(-4, -1, 6, 6) 1 3/4 1\n",
      "(-4, 0, 4, 5) 1 3/4 1\n",
      "(-4, 0, 5, 5) 2 9/4 2\n",
      "(-4, 1, 2, 2) 1 3/4 1\n",
      "(-4, 1, 2, 4) 1 3/4 1\n",
      "(-4, 1, 2, 6) 1 3/4 1\n",
      "(-4, 1, 3, 4) 2 9/4 2\n",
      "(-4, 1, 3, 6) 2 9/4 2\n",
      "(-4, 1, 4, 4) 4 15/4 4\n",
      "(-4, 1, 4, 6) 4 15/4 4\n",
      "(-4, 1, 5, 6) 6 25/4 6\n",
      "(-4, 1, 6, 6) 9 35/4 9\n",
      "(-4, 2, 2, 3) 4 15/4 4\n",
      "(-4, 2, 2, 5) 4 15/4 4\n",
      "(-4, 2, 3, 3) 6 25/4 6\n",
      "(-4, 2, 3, 5) 6 25/4 6\n",
      "(-4, 2, 4, 5) 9 35/4 9\n",
      "(-4, 2, 5, 5) 12 49/4 12\n",
      "(-4, 3, 3, 4) 12 49/4 12\n",
      "(-4, 3, 3, 6) 12 49/4 12\n",
      "(-4, 3, 4, 4) 16 63/4 16\n",
      "(-4, 3, 4, 6) 16 63/4 16\n",
      "(-4, 3, 5, 6) 20 81/4 20\n",
      "(-4, 3, 6, 6) 25 99/4 25\n",
      "(-4, 4, 4, 5) 25 99/4 25\n",
      "(-4, 4, 5, 5) 30 121/4 30\n",
      "(-4, 5, 5, 6) 42 169/4 42\n",
      "(-4, 5, 6, 6) 49 195/4 49\n",
      "(-3, -1, 5, 6) 1 3/4 1\n",
      "(-3, -1, 6, 6) 2 9/4 2\n",
      "(-3, 0, 3, 3) 1 3/4 1\n",
      "(-3, 0, 3, 5) 1 3/4 1\n",
      "(-3, 0, 4, 5) 2 9/4 2\n",
      "(-3, 0, 5, 5) 4 15/4 4\n",
      "(-3, 1, 1, 2) 1 3/4 1\n",
      "(-3, 1, 1, 4) 1 3/4 1\n",
      "(-3, 1, 1, 6) 1 3/4 1\n",
      "(-3, 1, 2, 2) 2 9/4 2\n",
      "(-3, 1, 2, 4) 2 9/4 2\n",
      "(-3, 1, 2, 6) 2 9/4 2\n",
      "(-3, 1, 3, 4) 4 15/4 4\n",
      "(-3, 1, 3, 6) 4 15/4 4\n",
      "(-3, 1, 4, 4) 6 25/4 6\n",
      "(-3, 1, 4, 6) 6 25/4 6\n",
      "(-3, 1, 5, 6) 9 35/4 9\n",
      "(-3, 1, 6, 6) 12 49/4 12\n",
      "(-3, 2, 2, 3) 6 25/4 6\n",
      "(-3, 2, 2, 5) 6 25/4 6\n",
      "(-3, 2, 3, 3) 9 35/4 9\n",
      "(-3, 2, 3, 5) 9 35/4 9\n",
      "(-3, 2, 4, 5) 12 49/4 12\n",
      "(-3, 2, 5, 5) 16 63/4 16\n",
      "(-3, 3, 3, 4) 16 63/4 16\n",
      "(-3, 3, 3, 6) 16 63/4 16\n",
      "(-3, 3, 4, 4) 20 81/4 20\n",
      "(-3, 3, 4, 6) 20 81/4 20\n",
      "(-3, 3, 5, 6) 25 99/4 25\n",
      "(-3, 3, 6, 6) 30 121/4 30\n",
      "(-3, 4, 4, 5) 30 121/4 30\n",
      "(-3, 4, 5, 5) 36 143/4 36\n",
      "(-3, 5, 5, 6) 49 195/4 49\n",
      "(-3, 5, 6, 6) 56 225/4 56\n",
      "(-2, -1, 4, 4) 1 3/4 1\n",
      "(-2, -1, 4, 6) 1 3/4 1\n",
      "(-2, -1, 5, 6) 2 9/4 2\n",
      "(-2, -1, 6, 6) 4 15/4 4\n",
      "(-2, 0, 2, 3) 1 3/4 1\n",
      "(-2, 0, 2, 5) 1 3/4 1\n",
      "(-2, 0, 3, 3) 2 9/4 2\n",
      "(-2, 0, 3, 5) 2 9/4 2\n",
      "(-2, 0, 4, 5) 4 15/4 4\n",
      "(-2, 0, 5, 5) 6 25/4 6\n",
      "(-2, 1, 1, 2) 2 9/4 2\n",
      "(-2, 1, 1, 4) 2 9/4 2\n",
      "(-2, 1, 1, 6) 2 9/4 2\n",
      "(-2, 1, 2, 2) 4 15/4 4\n",
      "(-2, 1, 2, 4) 4 15/4 4\n",
      "(-2, 1, 2, 6) 4 15/4 4\n",
      "(-2, 1, 3, 4) 6 25/4 6\n",
      "(-2, 1, 3, 6) 6 25/4 6\n",
      "(-2, 1, 4, 4) 9 35/4 9\n",
      "(-2, 1, 4, 6) 9 35/4 9\n",
      "(-2, 1, 5, 6) 12 49/4 12\n",
      "(-2, 1, 6, 6) 16 63/4 16\n",
      "(-2, 2, 2, 3) 9 35/4 9\n",
      "(-2, 2, 2, 5) 9 35/4 9\n",
      "(-2, 2, 3, 3) 12 49/4 12\n",
      "(-2, 2, 3, 5) 12 49/4 12\n",
      "(-2, 2, 4, 5) 16 63/4 16\n",
      "(-2, 2, 5, 5) 20 81/4 20\n",
      "(-2, 3, 3, 4) 20 81/4 20\n",
      "(-2, 3, 3, 6) 20 81/4 20\n",
      "(-2, 3, 4, 4) 25 99/4 25\n",
      "(-2, 3, 4, 6) 25 99/4 25\n",
      "(-2, 3, 5, 6) 30 121/4 30\n",
      "(-2, 3, 6, 6) 36 143/4 36\n",
      "(-2, 4, 4, 5) 36 143/4 36\n",
      "(-2, 4, 5, 5) 42 169/4 42\n",
      "(-2, 5, 5, 6) 56 225/4 56\n",
      "(-2, 5, 6, 6) 64 255/4 64\n",
      "(-1, -1, 3, 4) 1 3/4 1\n",
      "(-1, -1, 3, 6) 1 3/4 1\n",
      "(-1, -1, 4, 4) 2 9/4 2\n",
      "(-1, -1, 4, 6) 2 9/4 2\n",
      "(-1, -1, 5, 6) 4 15/4 4\n",
      "(-1, -1, 6, 6) 6 25/4 6\n",
      "(-1, 0, 1, 1) 1 3/4 1\n",
      "(-1, 0, 1, 3) 1 3/4 1\n",
      "(-1, 0, 1, 5) 1 3/4 1\n",
      "(-1, 0, 2, 3) 2 9/4 2\n",
      "(-1, 0, 2, 5) 2 9/4 2\n",
      "(-1, 0, 3, 3) 4 15/4 4\n",
      "(-1, 0, 3, 5) 4 15/4 4\n",
      "(-1, 0, 4, 5) 6 25/4 6\n",
      "(-1, 0, 5, 5) 9 35/4 9\n",
      "(-1, 1, 1, 2) 4 15/4 4\n",
      "(-1, 1, 1, 4) 4 15/4 4\n",
      "(-1, 1, 1, 6) 4 15/4 4\n",
      "(-1, 1, 2, 2) 6 25/4 6\n",
      "(-1, 1, 2, 4) 6 25/4 6\n",
      "(-1, 1, 2, 6) 6 25/4 6\n",
      "(-1, 1, 3, 4) 9 35/4 9\n",
      "(-1, 1, 3, 6) 9 35/4 9\n",
      "(-1, 1, 4, 4) 12 49/4 12\n",
      "(-1, 1, 4, 6) 12 49/4 12\n",
      "(-1, 1, 5, 6) 16 63/4 16\n",
      "(-1, 1, 6, 6) 20 81/4 20\n",
      "(-1, 2, 2, 3) 12 49/4 12\n",
      "(-1, 2, 2, 5) 12 49/4 12\n",
      "(-1, 2, 3, 3) 16 63/4 16\n",
      "(-1, 2, 3, 5) 16 63/4 16\n",
      "(-1, 2, 4, 5) 20 81/4 20\n",
      "(-1, 2, 5, 5) 25 99/4 25\n",
      "(-1, 3, 3, 4) 25 99/4 25\n",
      "(-1, 3, 3, 6) 25 99/4 25\n",
      "(-1, 3, 4, 4) 30 121/4 30\n",
      "(-1, 3, 4, 6) 30 121/4 30\n",
      "(-1, 3, 5, 6) 36 143/4 36\n",
      "(-1, 3, 6, 6) 42 169/4 42\n",
      "(-1, 4, 4, 5) 42 169/4 42\n",
      "(-1, 4, 5, 5) 49 195/4 49\n",
      "(-1, 5, 5, 6) 64 255/4 64\n",
      "(-1, 5, 6, 6) 72 289/4 72\n",
      "(0, 0, 0, 1) 1 3/4 1\n",
      "(0, 0, 0, 3) 1 3/4 1\n",
      "(0, 0, 0, 5) 1 3/4 1\n",
      "(0, 0, 1, 1) 2 9/4 2\n",
      "(0, 0, 1, 3) 2 9/4 2\n",
      "(0, 0, 1, 5) 2 9/4 2\n",
      "(0, 0, 2, 3) 4 15/4 4\n",
      "(0, 0, 2, 5) 4 15/4 4\n",
      "(0, 0, 3, 3) 6 25/4 6\n",
      "(0, 0, 3, 5) 6 25/4 6\n",
      "(0, 0, 4, 5) 9 35/4 9\n",
      "(0, 0, 5, 5) 12 49/4 12\n",
      "(0, 1, 1, 2) 6 25/4 6\n",
      "(0, 1, 1, 4) 6 25/4 6\n",
      "(0, 1, 1, 6) 6 25/4 6\n",
      "(0, 1, 2, 2) 9 35/4 9\n",
      "(0, 1, 2, 4) 9 35/4 9\n",
      "(0, 1, 2, 6) 9 35/4 9\n",
      "(0, 1, 3, 4) 12 49/4 12\n",
      "(0, 1, 3, 6) 12 49/4 12\n",
      "(0, 1, 4, 4) 16 63/4 16\n",
      "(0, 1, 4, 6) 16 63/4 16\n",
      "(0, 1, 5, 6) 20 81/4 20\n",
      "(0, 1, 6, 6) 25 99/4 25\n",
      "(0, 2, 2, 3) 16 63/4 16\n",
      "(0, 2, 2, 5) 16 63/4 16\n",
      "(0, 2, 3, 3) 20 81/4 20\n",
      "(0, 2, 3, 5) 20 81/4 20\n",
      "(0, 2, 4, 5) 25 99/4 25\n",
      "(0, 2, 5, 5) 30 121/4 30\n",
      "(0, 3, 3, 4) 30 121/4 30\n",
      "(0, 3, 3, 6) 30 121/4 30\n",
      "(0, 3, 4, 4) 36 143/4 36\n",
      "(0, 3, 4, 6) 36 143/4 36\n",
      "(0, 3, 5, 6) 42 169/4 42\n",
      "(0, 3, 6, 6) 49 195/4 49\n",
      "(0, 4, 4, 5) 49 195/4 49\n",
      "(0, 4, 5, 5) 56 225/4 56\n",
      "(0, 5, 5, 6) 72 289/4 72\n",
      "(0, 5, 6, 6) 81 323/4 81\n",
      "(1, 1, 1, 2) 9 35/4 9\n",
      "(1, 1, 1, 4) 9 35/4 9\n",
      "(1, 1, 1, 6) 9 35/4 9\n",
      "(1, 1, 2, 2) 12 49/4 12\n",
      "(1, 1, 2, 4) 12 49/4 12\n",
      "(1, 1, 2, 6) 12 49/4 12\n",
      "(1, 1, 3, 4) 16 63/4 16\n",
      "(1, 1, 3, 6) 16 63/4 16\n",
      "(1, 1, 4, 4) 20 81/4 20\n",
      "(1, 1, 4, 6) 20 81/4 20\n",
      "(1, 1, 5, 6) 25 99/4 25\n",
      "(1, 1, 6, 6) 30 121/4 30\n",
      "(1, 2, 2, 3) 20 81/4 20\n",
      "(1, 2, 2, 5) 20 81/4 20\n",
      "(1, 2, 3, 3) 25 99/4 25\n",
      "(1, 2, 3, 5) 25 99/4 25\n",
      "(1, 2, 4, 5) 30 121/4 30\n",
      "(1, 2, 5, 5) 36 143/4 36\n",
      "(1, 3, 3, 4) 36 143/4 36\n",
      "(1, 3, 3, 6) 36 143/4 36\n",
      "(1, 3, 4, 4) 42 169/4 42\n",
      "(1, 3, 4, 6) 42 169/4 42\n",
      "(1, 3, 5, 6) 49 195/4 49\n",
      "(1, 3, 6, 6) 56 225/4 56\n",
      "(1, 4, 4, 5) 56 225/4 56\n",
      "(1, 4, 5, 5) 64 255/4 64\n",
      "(1, 5, 5, 6) 81 323/4 81\n",
      "(1, 5, 6, 6) 90 361/4 90\n",
      "(2, 2, 2, 3) 25 99/4 25\n",
      "(2, 2, 2, 5) 25 99/4 25\n",
      "(2, 2, 3, 3) 30 121/4 30\n",
      "(2, 2, 3, 5) 30 121/4 30\n",
      "(2, 2, 4, 5) 36 143/4 36\n",
      "(2, 2, 5, 5) 42 169/4 42\n",
      "(2, 3, 3, 4) 42 169/4 42\n",
      "(2, 3, 3, 6) 42 169/4 42\n",
      "(2, 3, 4, 4) 49 195/4 49\n",
      "(2, 3, 4, 6) 49 195/4 49\n",
      "(2, 3, 5, 6) 56 225/4 56\n",
      "(2, 3, 6, 6) 64 255/4 64\n",
      "(2, 4, 4, 5) 64 255/4 64\n",
      "(2, 4, 5, 5) 72 289/4 72\n",
      "(2, 5, 5, 6) 90 361/4 90\n",
      "(2, 5, 6, 6) 100 399/4 100\n",
      "(3, 3, 3, 4) 49 195/4 49\n",
      "(3, 3, 3, 6) 49 195/4 49\n",
      "(3, 3, 4, 4) 56 225/4 56\n",
      "(3, 3, 4, 6) 56 225/4 56\n",
      "(3, 3, 5, 6) 64 255/4 64\n",
      "(3, 3, 6, 6) 72 289/4 72\n",
      "(3, 4, 4, 5) 72 289/4 72\n",
      "(3, 4, 5, 5) 81 323/4 81\n",
      "(3, 5, 5, 6) 100 399/4 100\n",
      "(3, 5, 6, 6) 110 441/4 110\n",
      "(4, 4, 4, 5) 81 323/4 81\n",
      "(4, 4, 5, 5) 90 361/4 90\n",
      "(4, 5, 5, 6) 110 441/4 110\n",
      "(4, 5, 6, 6) 121 483/4 121\n",
      "(5, 5, 5, 6) 121 483/4 121\n",
      "(5, 5, 6, 6) 132 529/4 132\n",
      "all points were tested\n"
     ]
    }
   ],
   "source": [
    "test_combinations(r, C, range(-6, 7))"
   ]
  },
  {
   "cell_type": "code",
   "execution_count": null,
   "id": "586c8c2a-2825-46f2-a472-2207962072db",
   "metadata": {},
   "outputs": [],
   "source": []
  },
  {
   "cell_type": "code",
   "execution_count": 15,
   "id": "90a1e900-2ad9-470a-8440-22236327b8f4",
   "metadata": {},
   "outputs": [
    {
     "data": {
      "text/plain": [
       "((2, 6, 2, 3), (81, 0, (0, 3), (11/8, 13/8)))"
      ]
     },
     "execution_count": 15,
     "metadata": {},
     "output_type": "execute_result"
    }
   ],
   "source": [
    "b = free_module_element([0, 0, 0, 1]) + r._rays[2]*2\n",
    "b, r(b)"
   ]
  },
  {
   "cell_type": "code",
   "execution_count": 19,
   "id": "d7df1e5d-9416-49ab-9506-b7b8139a5f09",
   "metadata": {},
   "outputs": [
    {
     "name": "stdout",
     "output_type": "stream",
     "text": [
      "QuasiPolynomial given by \n",
      "[1] + [8]*t + [16]*t^2\n",
      "QuasiPolynomial given by \n",
      "[1] + [9]*t + [18]*t^2\n",
      "QuasiPolynomial given by \n",
      "[1] + [10]*t + [16]*t^2\n",
      "QuasiPolynomial given by \n",
      "[1] + [11]*t + [10]*t^2\n",
      "QuasiPolynomial given by \n",
      "[1] + [12]*t\n",
      "QuasiPolynomial given by \n",
      "[0]\n",
      "QuasiPolynomial given by \n",
      "[0]\n",
      "QuasiPolynomial given by \n",
      "[0]\n",
      "QuasiPolynomial given by \n",
      "[1] + [6]*t + [9]*t^2\n",
      "QuasiPolynomial given by \n",
      "[1, 3/4] + [7]*t + [49/4]*t^2\n",
      "QuasiPolynomial given by \n",
      "[1] + [8]*t + [15]*t^2\n",
      "QuasiPolynomial given by \n",
      "[1] + [9]*t + [14]*t^2\n",
      "QuasiPolynomial given by \n",
      "[1] + [10]*t + [9]*t^2\n",
      "QuasiPolynomial given by \n",
      "[1] + [11]*t\n",
      "QuasiPolynomial given by \n",
      "[0]\n",
      "QuasiPolynomial given by \n",
      "[0]\n",
      "QuasiPolynomial given by \n",
      "[1] + [4]*t + [4]*t^2\n",
      "QuasiPolynomial given by \n",
      "[1, 3/4] + [5]*t + [25/4]*t^2\n",
      "QuasiPolynomial given by \n",
      "[1] + [6]*t + [9]*t^2\n",
      "QuasiPolynomial given by \n",
      "[1] + [7]*t + [12]*t^2\n",
      "QuasiPolynomial given by \n",
      "[1] + [8]*t + [12]*t^2\n",
      "QuasiPolynomial given by \n",
      "[1] + [9]*t + [8]*t^2\n",
      "QuasiPolynomial given by \n",
      "[1] + [10]*t\n",
      "QuasiPolynomial given by \n",
      "[0]\n",
      "QuasiPolynomial given by \n",
      "[1] + [2]*t + [1]*t^2\n",
      "QuasiPolynomial given by \n",
      "[1, 3/4] + [3]*t + [9/4]*t^2\n",
      "QuasiPolynomial given by \n",
      "[1] + [4]*t + [4]*t^2\n",
      "QuasiPolynomial given by \n",
      "[1, 3/4] + [5]*t + [25/4]*t^2\n",
      "QuasiPolynomial given by \n",
      "[1] + [6]*t + [9]*t^2\n",
      "QuasiPolynomial given by \n",
      "[1] + [7]*t + [10]*t^2\n",
      "QuasiPolynomial given by \n",
      "[1] + [8]*t + [7]*t^2\n",
      "QuasiPolynomial given by \n",
      "[1] + [9]*t\n"
     ]
    }
   ],
   "source": [
    "for off_set, poly in list(r._cone_dicts[0][\"polynomials\"].items()):\n",
    "    print(ehr(C, r._rays[2] + off_set.lift()))"
   ]
  },
  {
   "cell_type": "code",
   "execution_count": 21,
   "id": "3c68d8b2-e68a-414e-b3ce-6f92d5027248",
   "metadata": {},
   "outputs": [
    {
     "name": "stdout",
     "output_type": "stream",
     "text": [
      "Finitely generated module V/W over Integer Ring with invariants (8, 16)\n",
      "(0, 0)\n",
      "(0, 1)\n",
      "(0, 2)\n",
      "(0, 3)\n",
      "(0, 4)\n",
      "(0, 5)\n",
      "(0, 6)\n",
      "(0, 7)\n",
      "(0, 8)\n",
      "(0, 9)\n",
      "(0, 10)\n",
      "(0, 11)\n",
      "(0, 12)\n",
      "(0, 13)\n",
      "(0, 14)\n",
      "(0, 15)\n",
      "(1, 0)\n",
      "(1, 1)\n",
      "(1, 2)\n",
      "(1, 3)\n",
      "(1, 4)\n",
      "(1, 5)\n",
      "(1, 6)\n",
      "(1, 7)\n",
      "(1, 8)\n",
      "(1, 9)\n",
      "(1, 10)\n",
      "(1, 11)\n",
      "(1, 12)\n",
      "(1, 13)\n",
      "(1, 14)\n",
      "(1, 15)\n",
      "(2, 0)\n",
      "(2, 1)\n",
      "(2, 2)\n",
      "(2, 3)\n",
      "(2, 4)\n",
      "(2, 5)\n",
      "(2, 6)\n",
      "(2, 7)\n",
      "(2, 8)\n",
      "(2, 9)\n",
      "(2, 10)\n",
      "(2, 11)\n",
      "(2, 12)\n",
      "(2, 13)\n",
      "(2, 14)\n",
      "(2, 15)\n",
      "(3, 0)\n",
      "(3, 1)\n",
      "(3, 2)\n",
      "(3, 3)\n",
      "(3, 4)\n",
      "(3, 5)\n",
      "(3, 6)\n",
      "(3, 7)\n",
      "(3, 8)\n",
      "(3, 9)\n",
      "(3, 10)\n",
      "(3, 11)\n",
      "(3, 12)\n",
      "(3, 13)\n",
      "(3, 14)\n",
      "(3, 15)\n",
      "(4, 0)\n",
      "(4, 1)\n",
      "(4, 2)\n",
      "(4, 3)\n",
      "(4, 4)\n",
      "(4, 5)\n",
      "(4, 6)\n",
      "(4, 7)\n",
      "(4, 8)\n",
      "(4, 9)\n",
      "(4, 10)\n",
      "(4, 11)\n",
      "(4, 12)\n",
      "(4, 13)\n",
      "(4, 14)\n",
      "(4, 15)\n",
      "(5, 0)\n",
      "(5, 1)\n",
      "(5, 2)\n",
      "(5, 3)\n",
      "(5, 4)\n",
      "(5, 5)\n",
      "(5, 6)\n",
      "(5, 7)\n",
      "(5, 8)\n",
      "(5, 9)\n",
      "(5, 10)\n",
      "(5, 11)\n",
      "(5, 12)\n",
      "(5, 13)\n",
      "(5, 14)\n",
      "(5, 15)\n",
      "(6, 0)\n",
      "(6, 1)\n",
      "(6, 2)\n",
      "(6, 3)\n",
      "(6, 4)\n",
      "(6, 5)\n",
      "(6, 6)\n",
      "(6, 7)\n",
      "(6, 8)\n",
      "(6, 9)\n",
      "(6, 10)\n",
      "(6, 11)\n",
      "(6, 12)\n",
      "(6, 13)\n",
      "(6, 14)\n",
      "(6, 15)\n",
      "(7, 0)\n",
      "(7, 1)\n",
      "(7, 2)\n",
      "(7, 3)\n",
      "(7, 4)\n",
      "(7, 5)\n",
      "(7, 6)\n",
      "(7, 7)\n",
      "(7, 8)\n",
      "(7, 9)\n",
      "(7, 10)\n",
      "(7, 11)\n",
      "(7, 12)\n",
      "(7, 13)\n",
      "(7, 14)\n",
      "(7, 15)\n",
      "Finitely generated module V/W over Integer Ring with invariants (8, 8)\n",
      "(0, 0)\n",
      "(0, 1)\n",
      "(0, 2)\n",
      "(0, 3)\n",
      "(0, 4)\n",
      "(0, 5)\n",
      "(0, 6)\n",
      "(0, 7)\n",
      "(1, 0)\n",
      "(1, 1)\n",
      "(1, 2)\n",
      "(1, 3)\n",
      "(1, 4)\n",
      "(1, 5)\n",
      "(1, 6)\n",
      "(1, 7)\n",
      "(2, 0)\n",
      "(2, 1)\n",
      "(2, 2)\n",
      "(2, 3)\n",
      "(2, 4)\n",
      "(2, 5)\n",
      "(2, 6)\n",
      "(2, 7)\n",
      "(3, 0)\n",
      "(3, 1)\n",
      "(3, 2)\n",
      "(3, 3)\n",
      "(3, 4)\n",
      "(3, 5)\n",
      "(3, 6)\n",
      "(3, 7)\n",
      "(4, 0)\n",
      "(4, 1)\n",
      "(4, 2)\n",
      "(4, 3)\n",
      "(4, 4)\n",
      "(4, 5)\n",
      "(4, 6)\n",
      "(4, 7)\n",
      "(5, 0)\n",
      "(5, 1)\n",
      "(5, 2)\n",
      "(5, 3)\n",
      "(5, 4)\n",
      "(5, 5)\n",
      "(5, 6)\n",
      "(5, 7)\n",
      "(6, 0)\n",
      "(6, 1)\n",
      "(6, 2)\n",
      "(6, 3)\n",
      "(6, 4)\n",
      "(6, 5)\n",
      "(6, 6)\n",
      "(6, 7)\n",
      "(7, 0)\n",
      "(7, 1)\n",
      "(7, 2)\n",
      "(7, 3)\n",
      "(7, 4)\n",
      "(7, 5)\n",
      "(7, 6)\n",
      "(7, 7)\n"
     ]
    }
   ],
   "source": [
    "r._scalars = (2, 2, 2)\n",
    "r._cone_dicts = r._generate_cone_dicts()\n",
    "r._compute_piecewise()"
   ]
  },
  {
   "cell_type": "code",
   "execution_count": 34,
   "id": "270e4e54-9cc0-49de-adad-92786ef5c67c",
   "metadata": {
    "scrolled": true
   },
   "outputs": [
    {
     "name": "stdout",
     "output_type": "stream",
     "text": [
      "(-5, 0, 5, 5) 1 3/4 1\n",
      "(-5, 1, 3, 4) 1 3/4 1\n",
      "(-5, 1, 4, 4) 2 9/4 2\n",
      "(-5, 2, 2, 3) 2 9/4 2\n",
      "(-5, 2, 2, 5) 2 9/4 2\n",
      "(-5, 2, 3, 3) 4 15/4 4\n",
      "(-5, 2, 3, 5) 4 15/4 4\n",
      "(-5, 2, 4, 5) 6 25/4 6\n",
      "(-5, 2, 5, 5) 9 35/4 9\n",
      "(-5, 3, 3, 4) 9 35/4 9\n",
      "(-5, 3, 4, 4) 12 49/4 12\n",
      "(-5, 4, 4, 5) 20 81/4 20\n",
      "(-5, 4, 5, 5) 25 99/4 25\n",
      "(-4, 0, 4, 5) 1 3/4 1\n",
      "(-4, 0, 5, 5) 2 9/4 2\n",
      "(-4, 1, 2, 2) 1 3/4 1\n",
      "(-4, 1, 2, 4) 1 3/4 1\n",
      "(-4, 1, 3, 4) 2 9/4 2\n",
      "(-4, 1, 4, 4) 4 15/4 4\n",
      "(-4, 2, 2, 3) 4 15/4 4\n",
      "(-4, 2, 2, 5) 4 15/4 4\n",
      "(-4, 2, 3, 3) 6 25/4 6\n",
      "(-4, 2, 3, 5) 6 25/4 6\n",
      "(-4, 2, 4, 5) 9 35/4 9\n",
      "(-4, 2, 5, 5) 12 49/4 12\n",
      "(-4, 3, 3, 4) 12 49/4 12\n",
      "(-4, 3, 4, 4) 16 63/4 16\n",
      "(-4, 4, 4, 5) 25 99/4 25\n",
      "(-4, 4, 5, 5) 30 121/4 30\n",
      "(-3, 0, 3, 3) 1 3/4 1\n",
      "(-3, 0, 3, 5) 1 3/4 1\n",
      "(-3, 0, 4, 5) 2 9/4 2\n",
      "(-3, 0, 5, 5) 4 15/4 4\n",
      "(-3, 1, 1, 2) 1 3/4 1\n",
      "(-3, 1, 1, 4) 1 3/4 1\n",
      "(-3, 1, 2, 2) 2 9/4 2\n",
      "(-3, 1, 2, 4) 2 9/4 2\n",
      "(-3, 1, 3, 4) 4 15/4 4\n",
      "(-3, 1, 4, 4) 6 25/4 6\n",
      "(-3, 2, 2, 3) 6 25/4 6\n",
      "(-3, 2, 2, 5) 6 25/4 6\n",
      "(-3, 2, 3, 3) 9 35/4 9\n",
      "(-3, 2, 3, 5) 9 35/4 9\n",
      "(-3, 2, 4, 5) 12 49/4 12\n",
      "(-3, 2, 5, 5) 16 63/4 16\n",
      "(-3, 3, 3, 4) 16 63/4 16\n",
      "(-3, 3, 4, 4) 20 81/4 20\n",
      "(-3, 4, 4, 5) 30 121/4 30\n",
      "(-3, 4, 5, 5) 36 143/4 36\n",
      "(-2, -1, 4, 4) 1 3/4 1\n",
      "(-2, 0, 2, 3) 1 3/4 1\n",
      "(-2, 0, 2, 5) 1 3/4 1\n",
      "(-2, 0, 3, 3) 2 9/4 2\n",
      "(-2, 0, 3, 5) 2 9/4 2\n",
      "(-2, 0, 4, 5) 4 15/4 4\n",
      "(-2, 0, 5, 5) 6 25/4 6\n",
      "(-2, 1, 1, 2) 2 9/4 2\n",
      "(-2, 1, 1, 4) 2 9/4 2\n",
      "(-2, 1, 2, 2) 4 15/4 4\n",
      "(-2, 1, 2, 4) 4 15/4 4\n",
      "(-2, 1, 3, 4) 6 25/4 6\n",
      "(-2, 1, 4, 4) 9 35/4 9\n",
      "(-2, 2, 2, 3) 9 35/4 9\n",
      "(-2, 2, 2, 5) 9 35/4 9\n",
      "(-2, 2, 3, 3) 12 49/4 12\n",
      "(-2, 2, 3, 5) 12 49/4 12\n",
      "(-2, 2, 4, 5) 16 63/4 16\n",
      "(-2, 2, 5, 5) 20 81/4 20\n",
      "(-2, 3, 3, 4) 20 81/4 20\n",
      "(-2, 3, 4, 4) 25 99/4 25\n",
      "(-2, 4, 4, 5) 36 143/4 36\n",
      "(-2, 4, 5, 5) 42 169/4 42\n",
      "(-1, -1, 3, 4) 1 3/4 1\n",
      "(-1, -1, 4, 4) 2 9/4 2\n",
      "(-1, 0, 1, 1) 1 3/4 1\n",
      "(-1, 0, 1, 3) 1 3/4 1\n",
      "(-1, 0, 1, 5) 1 3/4 1\n",
      "(-1, 0, 2, 3) 2 9/4 2\n",
      "(-1, 0, 2, 5) 2 9/4 2\n",
      "(-1, 0, 3, 3) 4 15/4 4\n",
      "(-1, 0, 3, 5) 4 15/4 4\n",
      "(-1, 0, 4, 5) 6 25/4 6\n",
      "(-1, 0, 5, 5) 9 35/4 9\n",
      "(-1, 1, 1, 2) 4 15/4 4\n",
      "(-1, 1, 1, 4) 4 15/4 4\n",
      "(-1, 1, 2, 2) 6 25/4 6\n",
      "(-1, 1, 2, 4) 6 25/4 6\n",
      "(-1, 1, 3, 4) 9 35/4 9\n",
      "(-1, 1, 4, 4) 12 49/4 12\n",
      "(-1, 2, 2, 3) 12 49/4 12\n",
      "(-1, 2, 2, 5) 12 49/4 12\n",
      "(-1, 2, 3, 3) 16 63/4 16\n",
      "(-1, 2, 3, 5) 16 63/4 16\n",
      "(-1, 2, 4, 5) 20 81/4 20\n",
      "(-1, 2, 5, 5) 25 99/4 25\n",
      "(-1, 3, 3, 4) 25 99/4 25\n",
      "(-1, 3, 4, 4) 30 121/4 30\n",
      "(-1, 4, 4, 5) 42 169/4 42\n",
      "(-1, 4, 5, 5) 49 195/4 49\n",
      "(0, 0, 0, 1) 1 3/4 1\n",
      "(0, 0, 0, 3) 1 3/4 1\n",
      "(0, 0, 0, 5) 1 3/4 1\n",
      "(0, 0, 1, 1) 2 9/4 2\n",
      "(0, 0, 1, 3) 2 9/4 2\n",
      "(0, 0, 1, 5) 2 9/4 2\n",
      "(0, 0, 2, 3) 4 15/4 4\n",
      "(0, 0, 2, 5) 4 15/4 4\n",
      "(0, 0, 3, 3) 6 25/4 6\n",
      "(0, 0, 3, 5) 6 25/4 6\n",
      "(0, 0, 4, 5) 9 35/4 9\n",
      "(0, 0, 5, 5) 12 49/4 12\n",
      "(0, 1, 1, 2) 6 25/4 6\n",
      "(0, 1, 1, 4) 6 25/4 6\n",
      "(0, 1, 2, 2) 9 35/4 9\n",
      "(0, 1, 2, 4) 9 35/4 9\n",
      "(0, 1, 3, 4) 12 49/4 12\n",
      "(0, 1, 4, 4) 16 63/4 16\n",
      "(0, 2, 2, 3) 16 63/4 16\n",
      "(0, 2, 2, 5) 16 63/4 16\n",
      "(0, 2, 3, 3) 20 81/4 20\n",
      "(0, 2, 3, 5) 20 81/4 20\n",
      "(0, 2, 4, 5) 25 99/4 25\n",
      "(0, 2, 5, 5) 30 121/4 30\n",
      "(0, 3, 3, 4) 30 121/4 30\n",
      "(0, 3, 4, 4) 36 143/4 36\n",
      "(0, 4, 4, 5) 49 195/4 49\n",
      "(0, 4, 5, 5) 56 225/4 56\n",
      "(1, 1, 1, 2) 9 35/4 9\n",
      "(1, 1, 1, 4) 9 35/4 9\n",
      "(1, 1, 2, 2) 12 49/4 12\n",
      "(1, 1, 2, 4) 12 49/4 12\n",
      "(1, 1, 3, 4) 16 63/4 16\n",
      "(1, 1, 4, 4) 20 81/4 20\n",
      "(1, 2, 2, 3) 20 81/4 20\n",
      "(1, 2, 2, 5) 20 81/4 20\n",
      "(1, 2, 3, 3) 25 99/4 25\n",
      "(1, 2, 3, 5) 25 99/4 25\n",
      "(1, 2, 4, 5) 30 121/4 30\n",
      "(1, 2, 5, 5) 36 143/4 36\n",
      "(1, 3, 3, 4) 36 143/4 36\n",
      "(1, 3, 4, 4) 42 169/4 42\n",
      "(1, 4, 4, 5) 56 225/4 56\n",
      "(1, 4, 5, 5) 64 255/4 64\n",
      "(2, 2, 2, 3) 25 99/4 25\n",
      "(2, 2, 2, 5) 25 99/4 25\n",
      "(2, 2, 3, 3) 30 121/4 30\n",
      "(2, 2, 3, 5) 30 121/4 30\n",
      "(2, 2, 4, 5) 36 143/4 36\n",
      "(2, 2, 5, 5) 42 169/4 42\n",
      "(2, 3, 3, 4) 42 169/4 42\n",
      "(2, 3, 4, 4) 49 195/4 49\n",
      "(2, 4, 4, 5) 64 255/4 64\n",
      "(2, 4, 5, 5) 72 289/4 72\n",
      "(3, 3, 3, 4) 49 195/4 49\n",
      "(3, 3, 4, 4) 56 225/4 56\n",
      "(3, 4, 4, 5) 72 289/4 72\n",
      "(3, 4, 5, 5) 81 323/4 81\n",
      "(4, 4, 4, 5) 81 323/4 81\n",
      "(4, 4, 5, 5) 90 361/4 90\n",
      "all points were tested\n"
     ]
    }
   ],
   "source": [
    "test_combinations(r, C, range(-5, 6))"
   ]
  },
  {
   "cell_type": "code",
   "execution_count": 20,
   "id": "a902cb45-c936-491d-8fb9-5caf968d16e2",
   "metadata": {},
   "outputs": [],
   "source": [
    "def _compute_piecewise(self):\n",
    "        max_degree = self._A.ncols()\n",
    "        needed_points = factorial(self._num_variables + max_degree + 1)//(\n",
    "            factorial(self._num_variables)*factorial(max_degree) )\n",
    "\n",
    "        points = _generate_cone_points(self._num_variables, needed_points)\n",
    "        for cone_dict in self._cone_dicts:\n",
    "            cone_points = {0: (points, [tuple(b) for b in points])}\n",
    "            ray_sum = sum(cone_dict[\"scaled_rays\"])\n",
    "\n",
    "            ##########################################\n",
    "            # added this print statement\n",
    "            print(cone_dict[\"quotient\"])\n",
    "            ##########################################\n",
    "\n",
    "            polynomials = {}\n",
    "            for off_set in cone_dict[\"quotient\"]:\n",
    "                print(off_set)\n",
    "                nudge = off_set.lift()\n",
    "                mult = 0\n",
    "                while nudge not in cone_dict[\"cone\"]:\n",
    "                    mult += 1\n",
    "                    nudge += ray_sum\n",
    "\n",
    "                if mult not in cone_points:\n",
    "                    mults = free_module_element([mult for k in range(self._num_variables)])\n",
    "                    higher_points = [b + mults for b in cone_points[0][0]]\n",
    "                    cone_points[mult] = (higher_points, [tuple(b) for b in higher_points])\n",
    "\n",
    "                num_integral_points = []\n",
    "                for point in cone_points[mult][0]:\n",
    "                    polytope_point = cone_dict[\"lift_matrix\"]*point + off_set.lift()\n",
    "                    polytope = self._create_polytope_from_matrix(polytope_point)\n",
    "                    num_integral_points.append(len(polytope.integral_points()))\n",
    "\n",
    "                # print(max_degree, cone_points[mult][1], num_integral_points)\n",
    "                off_set_poly = self._R.interpolation(max_degree,\n",
    "                                                     cone_points[mult][1],\n",
    "                                                     num_integral_points)\n",
    "                polynomials[off_set] = off_set_poly\n",
    "\n",
    "            cone_dict[\"polynomials\"] = polynomials\n",
    "\n",
    "PEQP._compute_piecewise = _compute_piecewise"
   ]
  },
  {
   "cell_type": "code",
   "execution_count": 23,
   "id": "936ecfec-abfb-4759-917a-5bcc434a6ad7",
   "metadata": {
    "scrolled": true
   },
   "outputs": [
    {
     "name": "stdout",
     "output_type": "stream",
     "text": [
      "(1, 1, 1)\n",
      "(1, 1, 1)\n",
      "Finitely generated module V/W over Integer Ring with invariants (2, 2, 2)\n",
      "(0, 0, 0)\n",
      "(0, 0, 1)\n",
      "(0, 1, 0)\n",
      "(0, 1, 1)\n",
      "(1, 0, 0)\n",
      "(1, 0, 1)\n",
      "(1, 1, 0)\n",
      "(1, 1, 1)\n"
     ]
    }
   ],
   "source": [
    "D = Matrix([[-1, 0, 0], [0, -1, 0], [0, 0, -1], [1, 0, 0], [0, 1, 0], [0, 0, 1]])\n",
    "s = PEQP(D)"
   ]
  },
  {
   "cell_type": "code",
   "execution_count": 25,
   "id": "dba6f218-5a8f-4492-9986-a3ba896bbc20",
   "metadata": {},
   "outputs": [
    {
     "data": {
      "text/plain": [
       "{(0, 0, 0): 8*x0*x1*x2 + 4*x0*x1 + 4*x0*x2 + 4*x1*x2 + 2*x0 + 2*x1 + 2*x2 + 1,\n",
       " (0, 0, 1): 8*x0*x1*x2 + 4*x0*x1 + 4*x0*x2 + 2*x0,\n",
       " (0, 1, 0): 8*x0*x1*x2 + 4*x0*x1 + 4*x1*x2 + 2*x1,\n",
       " (0, 1, 1): 8*x0*x1*x2 + 4*x0*x1,\n",
       " (1, 0, 0): 8*x0*x1*x2 + 4*x0*x2 + 4*x1*x2 + 2*x2,\n",
       " (1, 0, 1): 8*x0*x1*x2 + 4*x0*x2,\n",
       " (1, 1, 0): 8*x0*x1*x2 + 4*x1*x2,\n",
       " (1, 1, 1): 8*x0*x1*x2}"
      ]
     },
     "execution_count": 25,
     "metadata": {},
     "output_type": "execute_result"
    }
   ],
   "source": [
    "s._cone_dicts[0][\"polynomials\"]"
   ]
  },
  {
   "cell_type": "code",
   "execution_count": 35,
   "id": "2b104c79-e8e8-4dd4-a6c3-06fd4c60624a",
   "metadata": {},
   "outputs": [
    {
     "name": "stdout",
     "output_type": "stream",
     "text": [
      "all points were tested\n"
     ]
    }
   ],
   "source": [
    "test_combinations(s, D, range(-6, 7))"
   ]
  },
  {
   "cell_type": "code",
   "execution_count": 36,
   "id": "732caeb2-7e50-4e39-9c9f-aa2a895943f9",
   "metadata": {},
   "outputs": [
    {
     "name": "stdout",
     "output_type": "stream",
     "text": [
      "(1,)\n",
      "(1,)\n",
      "Finitely generated module V/W over Integer Ring with invariants (4)\n",
      "(0)\n",
      "(1)\n",
      "(2)\n",
      "(3)\n"
     ]
    }
   ],
   "source": [
    "E = Matrix([[-1, 0, 0], [0, -1, 0], [0, 0, -1], [1, 1, 1]])\n",
    "t = PEQP(E)"
   ]
  },
  {
   "cell_type": "code",
   "execution_count": 39,
   "id": "5f868867-a805-42ba-a496-38cdd654b754",
   "metadata": {},
   "outputs": [
    {
     "data": {
      "text/plain": [
       "{(0): 32/3*x^3 + 16*x^2 + 22/3*x + 1,\n",
       " (1): 32/3*x^3 + 8*x^2 + 4/3*x,\n",
       " (2): 32/3*x^3 - 2/3*x,\n",
       " (3): 32/3*x^3 - 8*x^2 + 4/3*x}"
      ]
     },
     "execution_count": 39,
     "metadata": {},
     "output_type": "execute_result"
    }
   ],
   "source": [
    "t._cone_dicts[0][\"polynomials\"]"
   ]
  },
  {
   "cell_type": "code",
   "execution_count": 37,
   "id": "9524f060-a1ac-49ff-b9c0-6a9c88c1f103",
   "metadata": {},
   "outputs": [
    {
     "name": "stdout",
     "output_type": "stream",
     "text": [
      "all points were tested\n"
     ]
    }
   ],
   "source": [
    "test_combinations(t, E, range(-6, 7))"
   ]
  },
  {
   "cell_type": "code",
   "execution_count": 41,
   "id": "680b975b-b15b-4163-a631-1c33eb2d51cd",
   "metadata": {},
   "outputs": [
    {
     "data": {
      "text/plain": [
       "QuasiPolynomialElement(Ring of Quasi-Polynomials over Rational Field, [[1], [22/3], [16], [32/3]])"
      ]
     },
     "execution_count": 41,
     "metadata": {},
     "output_type": "execute_result"
    }
   ],
   "source": [
    "ehr(E, t._rays[0])"
   ]
  },
  {
   "cell_type": "code",
   "execution_count": 42,
   "id": "f7fe1dd2-58cd-4f53-9023-7df29a18dec8",
   "metadata": {},
   "outputs": [
    {
     "data": {
      "text/plain": [
       "{(0): 9/2*x^2 + 9/2*x + 1, (1): 9/2*x^2 + 3/2*x, (2): 9/2*x^2 - 3/2*x}"
      ]
     },
     "execution_count": 42,
     "metadata": {},
     "output_type": "execute_result"
    }
   ],
   "source": [
    "p._cone_dicts[0][\"polynomials\"]"
   ]
  },
  {
   "cell_type": "code",
   "execution_count": 46,
   "id": "9a844b9d-af42-4b3e-a53a-25b0668540e4",
   "metadata": {},
   "outputs": [],
   "source": [
    "S = PolynomialRing(QQ, \"y\", 3)"
   ]
  },
  {
   "cell_type": "code",
   "execution_count": 53,
   "id": "bc8edb69-1403-40ea-95c8-0e508a3d3ac3",
   "metadata": {},
   "outputs": [
    {
     "data": {
      "text/plain": [
       "2*y0 + 2*y1 - y2"
      ]
     },
     "execution_count": 53,
     "metadata": {},
     "output_type": "execute_result"
    }
   ],
   "source": [
    "t = p._cone_dicts[0][\"change_of_basis_matrix\"]*free_module_element(p._cone_dicts[0][\"scaled_rays\"][0])*free_module_element(S.gens())\n",
    "t"
   ]
  },
  {
   "cell_type": "code",
   "execution_count": 107,
   "id": "bdc8cf17-6cd1-4f9e-97c5-f56562b534e1",
   "metadata": {},
   "outputs": [
    {
     "name": "stdout",
     "output_type": "stream",
     "text": [
      "(y0 + y1, y0 + y2, y0 - y1 - y2)\n",
      "(y0 + y1 + 1, y0 + y2 + 1, y0 - y1 - y2 + 1)\n",
      "(y0 + y1 + 2, y0 + y2 + 2, y0 - y1 - y2 + 2)\n"
     ]
    }
   ],
   "source": [
    "dict = p._cone_dicts[0]\n",
    "dict[\"transformed\"] = {}\n",
    "for off_set, poly in dict[\"polynomials\"].items():\n",
    "    y = dict[\"change_of_basis_matrix\"]*(free_module_element(S.gens(), SR) - free_module_element(off_set.lift(), SR))\n",
    "    dict[\"transformed\"][off_set] = dict[\"polynomials\"][off_set](y[0])"
   ]
  },
  {
   "cell_type": "code",
   "execution_count": 108,
   "id": "cab9d27a-ed85-413b-8984-bb39c0af63bd",
   "metadata": {},
   "outputs": [
    {
     "data": {
      "text/plain": [
       "{(0): 9/2*(y0 + y1)^2 + 9/2*y0 + 9/2*y1 + 1,\n",
       " (1): 9/2*(y0 + y1 + 1)^2 + 3/2*y0 + 3/2*y1 + 3/2,\n",
       " (2): 9/2*(y0 + y1 + 2)^2 - 3/2*y0 - 3/2*y1 - 3}"
      ]
     },
     "execution_count": 108,
     "metadata": {},
     "output_type": "execute_result"
    }
   ],
   "source": [
    "dict[\"transformed\"]"
   ]
  },
  {
   "cell_type": "code",
   "execution_count": 115,
   "id": "040fb88f-b078-4646-960c-9787a4d7d279",
   "metadata": {},
   "outputs": [
    {
     "data": {
      "text/plain": [
       "91"
      ]
     },
     "execution_count": 115,
     "metadata": {},
     "output_type": "execute_result"
    }
   ],
   "source": [
    "dict[\"transformed\"][list(dict[\"transformed\"].keys())[0]](y0=2, y1=2, y2=1)"
   ]
  },
  {
   "cell_type": "code",
   "execution_count": 116,
   "id": "1429d4a6-6111-450e-ac8a-43877d479716",
   "metadata": {},
   "outputs": [],
   "source": [
    "def test_transform(self, point):\n",
    "    if len(point) != self._amb_dim:\n",
    "            raise ValueError(\"Dimension of ``point`` needs to be equal to the ambient\"\n",
    "                              f\" dimension of ``self`` which is {self._amb_dim}.\")\n",
    "    \n",
    "    for k, cone_dict in enumerate(self._cone_dicts):\n",
    "            if point in cone_dict[\"cone\"]:\n",
    "                # print(True)\n",
    "                off_set = cone_dict[\"quotient\"][cone_dict[\"quotient\"](point)[0]]\n",
    "                return dict[\"transformed\"][off_set](y0=point[0], y1=point[1], y2=point[2])\n",
    "    return 0\n",
    "\n",
    "p.test = test_transform"
   ]
  },
  {
   "cell_type": "code",
   "execution_count": 112,
   "id": "0ca51b05-2fde-4de2-9abb-bb9df290aeed",
   "metadata": {},
   "outputs": [],
   "source": [
    "def test(p, A, xrange=range(-10, 11)):\n",
    "        for b in combinations_with_replacement(xrange, A.nrows()):\n",
    "            expected = num_int_points(A, b)\n",
    "            actual = p.test(p, b)\n",
    "            if actual != expected:\n",
    "                print(b, expected, actual)\n",
    "        print(\"all points were tested\")"
   ]
  },
  {
   "cell_type": "code",
   "execution_count": 117,
   "id": "e9758bd6-f3de-4228-ba38-81381f9fb296",
   "metadata": {},
   "outputs": [
    {
     "name": "stdout",
     "output_type": "stream",
     "text": [
      "(-5, 0, 5) 1 91\n",
      "(-5, 1, 4) 1 55\n",
      "(-5, 1, 5) 3 21\n",
      "(-5, 2, 3) 1 28\n",
      "(-5, 2, 4) 3 6\n",
      "(-5, 2, 5) 6 15\n",
      "(-5, 3, 3) 3 0\n",
      "(-5, 3, 4) 6 3\n",
      "(-5, 4, 4) 10 1\n",
      "(-5, 4, 5) 15 3\n",
      "(-5, 5, 5) 21 6\n",
      "(-4, -1, 5) 1 91\n",
      "(-4, 0, 4) 1 55\n",
      "(-4, 0, 5) 3 21\n",
      "(-4, 1, 3) 1 28\n",
      "(-4, 1, 4) 3 6\n",
      "(-4, 1, 5) 6 15\n",
      "(-4, 2, 2) 1 10\n",
      "(-4, 2, 3) 3 0\n",
      "(-4, 2, 4) 6 3\n",
      "(-4, 3, 3) 6 0\n",
      "(-4, 3, 4) 10 1\n",
      "(-4, 3, 5) 15 3\n",
      "(-4, 4, 5) 21 6\n",
      "(-4, 5, 5) 28 10\n",
      "(-3, -2, 5) 1 91\n",
      "(-3, -1, 4) 1 55\n",
      "(-3, -1, 5) 3 21\n",
      "(-3, 0, 3) 1 28\n",
      "(-3, 0, 4) 3 6\n",
      "(-3, 0, 5) 6 15\n",
      "(-3, 1, 2) 1 10\n",
      "(-3, 1, 3) 3 0\n",
      "(-3, 1, 4) 6 3\n",
      "(-3, 2, 3) 6 0\n",
      "(-3, 2, 4) 10 1\n",
      "(-3, 2, 5) 15 3\n",
      "(-3, 3, 3) 10 1\n",
      "(-3, 3, 5) 21 6\n",
      "(-3, 4, 5) 28 10\n",
      "(-3, 5, 5) 36 66\n",
      "(-2, -2, 4) 1 55\n",
      "(-2, -2, 5) 3 21\n",
      "(-2, -1, 3) 1 28\n",
      "(-2, -1, 4) 3 6\n",
      "(-2, -1, 5) 6 15\n",
      "(-2, 0, 2) 1 10\n",
      "(-2, 0, 3) 3 0\n",
      "(-2, 0, 4) 6 3\n",
      "(-2, 1, 3) 6 0\n",
      "(-2, 1, 4) 10 1\n",
      "(-2, 1, 5) 15 3\n",
      "(-2, 2, 3) 10 1\n",
      "(-2, 2, 5) 21 6\n",
      "(-2, 3, 3) 15 36\n",
      "(-2, 3, 5) 28 10\n",
      "(-2, 4, 5) 36 66\n",
      "(-2, 5, 5) 45 78\n",
      "(-1, -1, 2) 1 10\n",
      "(-1, -1, 3) 3 0\n",
      "(-1, -1, 4) 6 3\n",
      "(-1, 0, 3) 6 0\n",
      "(-1, 0, 4) 10 1\n",
      "(-1, 0, 5) 15 3\n",
      "(-1, 1, 1) 3 15\n",
      "(-1, 1, 3) 10 1\n",
      "(-1, 1, 5) 21 6\n",
      "(-1, 2, 3) 15 36\n",
      "(-1, 2, 5) 28 10\n",
      "(-1, 3, 3) 21 45\n",
      "(-1, 3, 5) 36 66\n",
      "(-1, 4, 4) 36 105\n",
      "(-1, 4, 5) 45 78\n",
      "(-1, 5, 5) 55 91\n",
      "(0, 0, 1) 3 15\n",
      "(0, 0, 3) 10 1\n",
      "(0, 0, 5) 21 6\n",
      "(0, 1, 1) 6 21\n",
      "(0, 1, 3) 15 36\n",
      "(0, 1, 5) 28 10\n",
      "(0, 2, 2) 15 66\n",
      "(0, 2, 3) 21 45\n",
      "(0, 2, 5) 36 66\n",
      "(0, 3, 3) 28 55\n",
      "(0, 3, 4) 36 105\n",
      "(0, 3, 5) 45 78\n",
      "(0, 4, 4) 45 120\n",
      "(0, 4, 5) 55 91\n",
      "(0, 5, 5) 66 210\n",
      "(1, 1, 1) 10 28\n",
      "(1, 1, 2) 15 66\n",
      "(1, 1, 3) 21 45\n",
      "(1, 1, 5) 36 66\n",
      "(1, 2, 2) 21 78\n",
      "(1, 2, 3) 28 55\n",
      "(1, 2, 4) 36 105\n",
      "(1, 2, 5) 45 78\n",
      "(1, 3, 3) 36 153\n",
      "(1, 3, 4) 45 120\n",
      "(1, 3, 5) 55 91\n",
      "(1, 4, 4) 55 136\n",
      "(1, 4, 5) 66 210\n",
      "(1, 5, 5) 78 231\n",
      "(2, 2, 2) 28 91\n",
      "(2, 2, 3) 36 153\n",
      "(2, 2, 4) 45 120\n",
      "(2, 2, 5) 55 91\n",
      "(2, 3, 3) 45 171\n",
      "(2, 3, 4) 55 136\n",
      "(2, 3, 5) 66 210\n",
      "(2, 4, 4) 66 276\n",
      "(2, 4, 5) 78 231\n",
      "(2, 5, 5) 91 253\n",
      "(3, 3, 3) 55 190\n",
      "(3, 3, 4) 66 276\n",
      "(3, 3, 5) 78 231\n",
      "(3, 4, 4) 78 300\n",
      "(3, 4, 5) 91 253\n",
      "(3, 5, 5) 105 435\n",
      "(4, 4, 4) 91 325\n",
      "(4, 4, 5) 105 435\n",
      "(4, 5, 5) 120 465\n",
      "(5, 5, 5) 136 496\n",
      "all points were tested\n"
     ]
    }
   ],
   "source": [
    "test(p, A, xrange=range(-5, 6))"
   ]
  }
 ],
 "metadata": {
  "kernelspec": {
   "display_name": "Python 3 (ipykernel)",
   "language": "python",
   "name": "python3"
  },
  "language_info": {
   "codemirror_mode": {
    "name": "ipython",
    "version": 3
   },
   "file_extension": ".py",
   "mimetype": "text/x-python",
   "name": "python",
   "nbconvert_exporter": "python",
   "pygments_lexer": "ipython3",
   "version": "3.10.12"
  }
 },
 "nbformat": 4,
 "nbformat_minor": 5
}
