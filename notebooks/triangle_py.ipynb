{
 "cells": [
  {
   "cell_type": "code",
   "execution_count": 13,
   "id": "9aef1301",
   "metadata": {},
   "outputs": [],
   "source": [
    "from ehrhart_quasi_polynomial import *"
   ]
  },
  {
   "cell_type": "markdown",
   "id": "4e16fe83",
   "metadata": {},
   "source": [
    "## Right Isosceles Triangle"
   ]
  },
  {
   "cell_type": "code",
   "execution_count": 2,
   "id": "b398f08b",
   "metadata": {},
   "outputs": [],
   "source": [
    "B = PolynomialRing(QQ, \"b\")\n",
    "b = B.gen()\n",
    "\n",
    "T = PolynomialRing(B, \"t\")\n",
    "t = T.gen()"
   ]
  },
  {
   "cell_type": "code",
   "execution_count": 3,
   "id": "47fb99fc",
   "metadata": {},
   "outputs": [],
   "source": [
    "A = Matrix([[-1,  0],\n",
    "            [ 0, -1],\n",
    "            [ 1,  1]])\n",
    "b = free_module_element([0, 0, 0])"
   ]
  },
  {
   "cell_type": "code",
   "execution_count": 4,
   "id": "ca18c63f",
   "metadata": {},
   "outputs": [],
   "source": [
    "def create_polyhedron(A, b):\n",
    "    \"\"\"  Ax <= b  \"\"\"\n",
    "    inequalities = [[b[k]] + list(-A.rows()[k]) for k in range(A.nrows())]\n",
    "    return Polyhedron(ieqs = inequalities)"
   ]
  },
  {
   "cell_type": "code",
   "execution_count": 5,
   "id": "1a8edcf0",
   "metadata": {},
   "outputs": [
    {
     "data": {
      "image/png": "[encoded data removed]",
      "text/plain": [
       "Graphics object consisting of 1 graphics primitive"
      ]
     },
     "execution_count": 5,
     "metadata": {},
     "output_type": "execute_result"
    }
   ],
   "source": [
    "tri = create_polyhedron(A, b)\n",
    "tri.plot()"
   ]
  },
  {
   "cell_type": "code",
   "execution_count": 8,
   "id": "83e1b841",
   "metadata": {},
   "outputs": [
    {
     "name": "stdout",
     "output_type": "stream",
     "text": [
      "QuasiPolynomial given by \n",
      "[1]\n"
     ]
    }
   ],
   "source": [
    "print(ehrhart_quasi_polynomial(tri.Vrepresentation()))"
   ]
  },
  {
   "cell_type": "code",
   "execution_count": 15,
   "id": "abcee92d",
   "metadata": {},
   "outputs": [],
   "source": [
    "from ehrhart_quasi_polynomial.ehrhart_quasi_polynomial import _get_bounding_box\n",
    "def modular_b(A, base_b, indeces=[0], expected_degree=2):\n",
    "    dim_points = A.ncols()\n",
    "    dim_b = len(base_b)\n",
    "    mins, maxs = [0]*dim_b, [0]*dim_b\n",
    "    value = expected_degree\n",
    "    for index in indeces:\n",
    "        maxs[index] = value\n",
    "\n",
    "    return _get_bounding_box(mins, maxs, 1)"
   ]
  },
  {
   "cell_type": "code",
   "execution_count": 17,
   "id": "42866735",
   "metadata": {},
   "outputs": [
    {
     "name": "stdout",
     "output_type": "stream",
     "text": [
      "for delta_b = (0, 0, 0):\n",
      "QuasiPolynomial given by \n",
      "[1]\n",
      "\n",
      "for delta_b = (0, 0, 1):\n",
      "QuasiPolynomial given by \n",
      "[1] + [3/2]*k + [1/2]*k^2\n",
      "\n",
      "for delta_b = (0, 0, 2):\n",
      "QuasiPolynomial given by \n",
      "[1] + [3]*k + [2]*k^2\n",
      "\n",
      "for delta_b = (0, 0, 3):\n",
      "QuasiPolynomial given by \n",
      "[1] + [9/2]*k + [9/2]*k^2\n",
      "\n",
      "for delta_b = (0, 0, 4):\n",
      "QuasiPolynomial given by \n",
      "[1] + [6]*k + [8]*k^2\n",
      "\n",
      "for delta_b = (0, 0, 5):\n",
      "QuasiPolynomial given by \n",
      "[1] + [15/2]*k + [25/2]*k^2\n",
      "\n"
     ]
    },
    {
     "data": {
      "image/png": "[encoded data removed]",
      "text/plain": [
       "Graphics object consisting of 26 graphics primitives"
      ]
     },
     "metadata": {},
     "output_type": "display_data"
    }
   ],
   "source": [
    "g = Graphics()\n",
    "points = modular_b(A, b, indeces=[2], expected_degree=5)\n",
    "for point in points:\n",
    "    print(f\"for delta_b = {point}:\")\n",
    "    qoly = create_polyhedron(A, b + free_module_element(point))\n",
    "    g += qoly.plot()\n",
    "    print(ehrhart_quasi_polynomial(qoly.Vrepresentation()))\n",
    "    print()\n",
    "g.show()"
   ]
  },
  {
   "cell_type": "code",
   "execution_count": 18,
   "id": "1166b436",
   "metadata": {},
   "outputs": [
    {
     "name": "stdout",
     "output_type": "stream",
     "text": [
      "linear term: 3/2*b + 3/2\n",
      "quadratic term: 1/2*b^2 + b + 1/2\n"
     ]
    }
   ],
   "source": [
    "linear_term = B.lagrange_polynomial([[0, 1.5], [1, 3], [2, 4.5]])\n",
    "quadratic_term = B.lagrange_polynomial([[0, 0.5], [1, 2.0], [2, 4.5], [3, 8.0]])\n",
    "print(f\"linear term: {linear_term}\")\n",
    "print(f\"quadratic term: {quadratic_term}\")"
   ]
  },
  {
   "cell_type": "code",
   "execution_count": 19,
   "id": "3b5129f2",
   "metadata": {},
   "outputs": [
    {
     "name": "stdout",
     "output_type": "stream",
     "text": [
      "The general ehrhart polynomial of this family of triangles is:\n",
      "\t (1/2*b^2 + b + 1/2)*t^2 + (3/2*b + 3/2)*t + 1\n",
      "Where b is the third element of the b-vector, and t is the scaling coefficient of the ehrhart polynomial.\n"
     ]
    }
   ],
   "source": [
    "poly = 1 + linear_term*t + quadratic_term*t**2\n",
    "print(\"The general ehrhart polynomial of this family of triangles is:\")\n",
    "print(\"\\t\", poly)\n",
    "print(\"Where b is the third element of the b-vector, and t is the scaling coefficient of the ehrhart polynomial.\")"
   ]
  }
 ],
 "metadata": {
  "kernelspec": {
   "display_name": "SageMath 10.3",
   "language": "sage",
   "name": "sagemath"
  },
  "language_info": {
   "codemirror_mode": {
    "name": "ipython",
    "version": 3
   },
   "file_extension": ".py",
   "mimetype": "text/x-python",
   "name": "python",
   "nbconvert_exporter": "python",
   "pygments_lexer": "ipython3",
   "version": "3.10.12"
  }
 },
 "nbformat": 4,
 "nbformat_minor": 5
}
