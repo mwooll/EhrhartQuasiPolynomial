{
 "cells": [
  {
   "cell_type": "code",
   "execution_count": 117,
   "id": "d2b69f67-ec54-4871-8392-890ba665d207",
   "metadata": {},
   "outputs": [],
   "source": [
    "from sage.misc.dev_tools import import_statements"
   ]
  },
  {
   "cell_type": "code",
   "execution_count": 118,
   "id": "67252f9c-0760-4218-8ac1-280f2f53485e",
   "metadata": {},
   "outputs": [
    {
     "name": "stdout",
     "output_type": "stream",
     "text": [
      "from builtins import round\n"
     ]
    }
   ],
   "source": [
    "import_statements(round)"
   ]
  },
  {
   "cell_type": "code",
   "execution_count": 1,
   "id": "bb1c8fc8-a4fb-4fc4-81e8-6d7dd21516c1",
   "metadata": {},
   "outputs": [],
   "source": [
    "from itertools import combinations_with_replacement\n",
    "\n",
    "from ehrhart_quasi_polynomial.ehrhart_piecewise import (\n",
    "    PiecewiseEhrhartQuasiPolynomial as PEQP,\n",
    "    create_polytope_from_matrix,\n",
    "    secondary_fan,\n",
    "    _process_fan_vectors,\n",
    "    _compute_change_of_basis_matrices,\n",
    "    _compute_periods,\n",
    "    _generate_cone_points)\n",
    "\n",
    "from ehrhart_quasi_polynomial import *"
   ]
  },
  {
   "cell_type": "code",
   "execution_count": 2,
   "id": "2c7b0c5b-6819-447d-a380-25c7edba6ee0",
   "metadata": {},
   "outputs": [],
   "source": [
    "from sage.calculus.var import var\n",
    "from sage.functions.other import ceil, factorial\n",
    "from sage.geometry.cone import Cone\n",
    "from sage.geometry.polyhedron.constructor import Polyhedron\n",
    "from sage.matrix.constructor import Matrix\n",
    "from sage.modules.free_module_element import free_module_element\n",
    "from sage.modules.free_quadratic_module_integer_symmetric import IntegralLattice\n",
    "from sage.rings.polynomial.polynomial_ring_constructor import PolynomialRing\n",
    "from sage.rings.rational_field import QQ"
   ]
  },
  {
   "cell_type": "code",
   "execution_count": 8,
   "id": "d7725f21-891e-4274-a12f-aecd9269cd67",
   "metadata": {},
   "outputs": [],
   "source": [
    "ehr = lambda A, b: ehrhart_quasi_polynomial(create_polytope_from_matrix(A, b).Vrepresentation())\n",
    "num_int_points = lambda A, b: len(create_polytope_from_matrix(A, b).integral_points())"
   ]
  },
  {
   "cell_type": "code",
   "execution_count": 121,
   "id": "ce06442b-7ec1-4375-93f4-97f4863247e4",
   "metadata": {},
   "outputs": [],
   "source": [
    "def __call__(self, point):\n",
    "    if len(point) != self._amb_dim:\n",
    "            raise ValueError(\"Dimension of ``point`` needs to be equal to the ambient\"\n",
    "                              f\" dimension of ``self`` which is {self._amb_dim}.\")\n",
    "    \n",
    "    for k, cone_dict in enumerate(self._cone_dicts):\n",
    "            if point in cone_dict[\"cone\"]:\n",
    "                # print(True)\n",
    "                off_set = cone_dict[\"quotient\"][cone_dict[\"quotient\"](point)[0]]\n",
    "                eval_p = ( cone_dict[\"change_of_basis_inverse\"]*(\n",
    "                    free_module_element(point) - off_set.lift()) )[:self._num_variables]\n",
    "\n",
    "                result = cone_dict[\"polynomials\"][off_set](*eval_p)\n",
    "                if isinstance(result, int):\n",
    "                    return result\n",
    "                else:\n",
    "                    return round(result), k, off_set, eval_p\n",
    "    return 0, None, None, point\n",
    "\n",
    "PEQP.__call__ = __call__"
   ]
  },
  {
   "cell_type": "code",
   "execution_count": 83,
   "id": "462d2a21-b402-4ccc-81f0-001a4ab3023b",
   "metadata": {},
   "outputs": [],
   "source": [
    "def test_combinations(p, A, xrange=range(-10, 11)):\n",
    "        for b in combinations_with_replacement(xrange, A.nrows()):\n",
    "            expected = num_int_points(A, b)\n",
    "            actual = p(b)\n",
    "            if actual[0] != expected:\n",
    "                print(b, expected, actual)\n",
    "        print(\"all points were tested\")"
   ]
  },
  {
   "cell_type": "code",
   "execution_count": 76,
   "id": "4066cb99-be09-4a80-a7b2-85aed201bf0b",
   "metadata": {},
   "outputs": [],
   "source": [
    "A = Matrix([[-1, 0], [0, -1], [1, 1]])\n",
    "p = PEQP(A)"
   ]
  },
  {
   "cell_type": "code",
   "execution_count": 16,
   "id": "26320dba-bc6b-47f8-8df4-e51be8f31e0e",
   "metadata": {},
   "outputs": [
    {
     "data": {
      "text/plain": [
       "{(0): 9/2*x^2 + 9/2*x + 1, (1): 9/2*x^2 + 3/2*x, (2): 9/2*x^2 - 3/2*x}"
      ]
     },
     "execution_count": 16,
     "metadata": {},
     "output_type": "execute_result"
    }
   ],
   "source": [
    "p._cone_dicts[0][\"polynomials\"]"
   ]
  },
  {
   "cell_type": "code",
   "execution_count": 84,
   "id": "bcde9e0a-348c-4326-b027-bce9fb363ca9",
   "metadata": {},
   "outputs": [
    {
     "name": "stdout",
     "output_type": "stream",
     "text": [
      "all points were tested\n"
     ]
    }
   ],
   "source": [
    "test_combinations(p, A)"
   ]
  },
  {
   "cell_type": "code",
   "execution_count": 85,
   "id": "bd36f122-e8b9-4c3d-b09d-4f701d2c57da",
   "metadata": {},
   "outputs": [],
   "source": [
    "B = Matrix([[-1, 0], [0, -1], [1, 1], [0, 1]])\n",
    "q = PEQP(B)"
   ]
  },
  {
   "cell_type": "code",
   "execution_count": 65,
   "id": "0b75faeb-22eb-4860-b4fd-962ecfe03ae0",
   "metadata": {},
   "outputs": [],
   "source": [
    "# q._cone_dicts[0][\"polynomials\"]"
   ]
  },
  {
   "cell_type": "code",
   "execution_count": 86,
   "id": "b3595fc9-25a6-41f1-8fbc-7cfef0cab922",
   "metadata": {},
   "outputs": [
    {
     "name": "stdout",
     "output_type": "stream",
     "text": [
      "all points were tested\n"
     ]
    }
   ],
   "source": [
    "test_combinations(q, B)"
   ]
  },
  {
   "cell_type": "code",
   "execution_count": 124,
   "id": "3618457d-363a-4351-bc08-9f37be053b78",
   "metadata": {},
   "outputs": [],
   "source": [
    "C = Matrix([[-1, 0], [0, -1], [1, 2], [0, 1]])\n",
    "r = PEQP(C)"
   ]
  },
  {
   "cell_type": "code",
   "execution_count": 125,
   "id": "4010f988-bf4a-453a-a8fb-359ba708b91e",
   "metadata": {},
   "outputs": [
    {
     "name": "stdout",
     "output_type": "stream",
     "text": [
      "all points were tested\n"
     ]
    }
   ],
   "source": [
    "test_combinations(r, C, range(-6, 7))"
   ]
  },
  {
   "cell_type": "code",
   "execution_count": 108,
   "id": "90a1e900-2ad9-470a-8440-22236327b8f4",
   "metadata": {},
   "outputs": [
    {
     "data": {
      "text/plain": [
       "((2, 6, 2, 3), (323/4, 0, (0, 3), (11/8, 13/8)))"
      ]
     },
     "execution_count": 108,
     "metadata": {},
     "output_type": "execute_result"
    }
   ],
   "source": [
    "b = free_module_element([0, 0, 0, 1]) + r._rays[2]*2\n",
    "b, r(b)"
   ]
  },
  {
   "cell_type": "code",
   "execution_count": 56,
   "id": "d7df1e5d-9416-49ab-9506-b7b8139a5f09",
   "metadata": {},
   "outputs": [
    {
     "name": "stdout",
     "output_type": "stream",
     "text": [
      "QuasiPolynomial given by \n",
      "[1] + [8]*t + [16]*t^2\n",
      "QuasiPolynomial given by \n",
      "[1] + [9]*t + [18]*t^2\n",
      "QuasiPolynomial given by \n",
      "[1] + [10]*t + [16]*t^2\n",
      "QuasiPolynomial given by \n",
      "[1] + [11]*t + [10]*t^2\n",
      "QuasiPolynomial given by \n",
      "[1] + [12]*t\n",
      "QuasiPolynomial given by \n",
      "[0]\n",
      "QuasiPolynomial given by \n",
      "[0]\n",
      "QuasiPolynomial given by \n",
      "[0]\n",
      "QuasiPolynomial given by \n",
      "[1] + [6]*t + [9]*t^2\n",
      "QuasiPolynomial given by \n",
      "[1, 3/4] + [7]*t + [49/4]*t^2\n",
      "QuasiPolynomial given by \n",
      "[1] + [8]*t + [15]*t^2\n",
      "QuasiPolynomial given by \n",
      "[1] + [9]*t + [14]*t^2\n",
      "QuasiPolynomial given by \n",
      "[1] + [10]*t + [9]*t^2\n",
      "QuasiPolynomial given by \n",
      "[1] + [11]*t\n",
      "QuasiPolynomial given by \n",
      "[0]\n",
      "QuasiPolynomial given by \n",
      "[0]\n",
      "QuasiPolynomial given by \n",
      "[1] + [4]*t + [4]*t^2\n",
      "QuasiPolynomial given by \n",
      "[1, 3/4] + [5]*t + [25/4]*t^2\n",
      "QuasiPolynomial given by \n",
      "[1] + [6]*t + [9]*t^2\n",
      "QuasiPolynomial given by \n",
      "[1] + [7]*t + [12]*t^2\n",
      "QuasiPolynomial given by \n",
      "[1] + [8]*t + [12]*t^2\n",
      "QuasiPolynomial given by \n",
      "[1] + [9]*t + [8]*t^2\n",
      "QuasiPolynomial given by \n",
      "[1] + [10]*t\n",
      "QuasiPolynomial given by \n",
      "[0]\n",
      "QuasiPolynomial given by \n",
      "[1] + [2]*t + [1]*t^2\n",
      "QuasiPolynomial given by \n",
      "[1, 3/4] + [3]*t + [9/4]*t^2\n",
      "QuasiPolynomial given by \n",
      "[1] + [4]*t + [4]*t^2\n",
      "QuasiPolynomial given by \n",
      "[1, 3/4] + [5]*t + [25/4]*t^2\n",
      "QuasiPolynomial given by \n",
      "[1] + [6]*t + [9]*t^2\n",
      "QuasiPolynomial given by \n",
      "[1] + [7]*t + [10]*t^2\n",
      "QuasiPolynomial given by \n",
      "[1] + [8]*t + [7]*t^2\n",
      "QuasiPolynomial given by \n",
      "[1] + [9]*t\n"
     ]
    }
   ],
   "source": [
    "for off_set, poly in list(r._cone_dicts[0][\"polynomials\"].items()):\n",
    "    print(ehr(C, ray + off_set.lift()))"
   ]
  },
  {
   "cell_type": "code",
   "execution_count": 114,
   "id": "3c68d8b2-e68a-414e-b3ce-6f92d5027248",
   "metadata": {},
   "outputs": [],
   "source": [
    "r._scalars = (2, 2, 2)\n",
    "r._cone_dicts = r._generate_cone_dicts()\n",
    "r._compute_piecewise()"
   ]
  },
  {
   "cell_type": "code",
   "execution_count": 123,
   "id": "270e4e54-9cc0-49de-adad-92786ef5c67c",
   "metadata": {},
   "outputs": [
    {
     "name": "stdout",
     "output_type": "stream",
     "text": [
      "all points were tested\n"
     ]
    }
   ],
   "source": [
    "test_combinations(r, C, range(-10, 11))"
   ]
  },
  {
   "cell_type": "code",
   "execution_count": 127,
   "id": "a902cb45-c936-491d-8fb9-5caf968d16e2",
   "metadata": {},
   "outputs": [],
   "source": [
    "def _compute_piecewise(self):\n",
    "        max_degree = self._A.ncols()\n",
    "        needed_points = factorial(self._num_variables + max_degree + 1)//(\n",
    "            factorial(self._num_variables)*factorial(max_degree) )\n",
    "\n",
    "        points = _generate_cone_points(self._num_variables, needed_points)\n",
    "        for cone_dict in self._cone_dicts:\n",
    "            cone_points = {0: (points, [tuple(b) for b in points])}\n",
    "            ray_sum = sum(cone_dict[\"scaled_rays\"])\n",
    "            print(cone_dict[\"quotient\"])\n",
    "\n",
    "            polynomials = {}\n",
    "            for off_set in cone_dict[\"quotient\"]:\n",
    "                print(off_set)\n",
    "                nudge = off_set.lift()\n",
    "                mult = 0\n",
    "                while nudge not in cone_dict[\"cone\"]:\n",
    "                    mult += 1\n",
    "                    nudge += ray_sum\n",
    "\n",
    "                if mult not in cone_points:\n",
    "                    mults = free_module_element([mult for k in range(self._num_variables)])\n",
    "                    higher_points = [b + mults for b in cone_points[0][0]]\n",
    "                    cone_points[mult] = (higher_points, [tuple(b) for b in higher_points])\n",
    "\n",
    "                num_integral_points = []\n",
    "                for point in cone_points[mult][0]:\n",
    "                    polytope_point = cone_dict[\"lift_matrix\"]*point + off_set.lift()\n",
    "                    polytope = self._create_polytope_from_matrix(polytope_point)\n",
    "                    num_integral_points.append(len(polytope.integral_points()))\n",
    "\n",
    "                # print(max_degree, cone_points[mult][1], num_integral_points)\n",
    "                off_set_poly = self._R.interpolation(max_degree,\n",
    "                                                     cone_points[mult][1],\n",
    "                                                     num_integral_points)\n",
    "                polynomials[off_set] = off_set_poly\n",
    "\n",
    "            cone_dict[\"polynomials\"] = polynomials\n",
    "\n",
    "PEQP._compute_piecewise = _compute_piecewise"
   ]
  },
  {
   "cell_type": "code",
   "execution_count": 133,
   "id": "936ecfec-abfb-4759-917a-5bcc434a6ad7",
   "metadata": {
    "scrolled": true
   },
   "outputs": [
    {
     "name": "stdout",
     "output_type": "stream",
     "text": [
      "Finitely generated module V/W over Integer Ring with invariants (2, 2, 2)\n",
      "(0, 0, 0)\n",
      "(0, 0, 1)\n",
      "(0, 1, 0)\n",
      "(0, 1, 1)\n",
      "(1, 0, 0)\n",
      "(1, 0, 1)\n",
      "(1, 1, 0)\n",
      "(1, 1, 1)\n"
     ]
    }
   ],
   "source": [
    "D = Matrix([[-1, 0, 0], [0, -1, 0], [0, 0, -1], [1, 0, 0], [0, 1, 0], [0, 0, 1]])\n",
    "s = PEQP(D)"
   ]
  },
  {
   "cell_type": "code",
   "execution_count": 135,
   "id": "dba6f218-5a8f-4492-9986-a3ba896bbc20",
   "metadata": {},
   "outputs": [
    {
     "data": {
      "text/plain": [
       "[{'scaled_rays': ((0, 0, 1, 0, 0, 1), (0, 1, 0, 0, 1, 0), (1, 0, 0, 1, 0, 0)),\n",
       "  'cone': 6-d cone in 6-d lattice N,\n",
       "  'quotient': Finitely generated module V/W over Integer Ring with invariants (2, 2, 2),\n",
       "  'basis': ((0, 0, 1, 0, 0, 1), (0, 1, 0, 0, 1, 0), (1, 0, 0, 1, 0, 0)),\n",
       "  'change_of_basis_matrix': [ 0  0  1  1  0  0]\n",
       "  [ 0  1  0  0  1  0]\n",
       "  [ 1  0  0  0  0  1]\n",
       "  [ 0  0  1 -1  0  0]\n",
       "  [ 0  1  0  0 -1  0]\n",
       "  [ 1  0  0  0  0 -1],\n",
       "  'change_of_basis_inverse': [   0    0  1/2    0    0  1/2]\n",
       "  [   0  1/2    0    0  1/2    0]\n",
       "  [ 1/2    0    0  1/2    0    0]\n",
       "  [ 1/2    0    0 -1/2    0    0]\n",
       "  [   0  1/2    0    0 -1/2    0]\n",
       "  [   0    0  1/2    0    0 -1/2],\n",
       "  'lift_matrix': [0 0 1]\n",
       "  [0 1 0]\n",
       "  [1 0 0]\n",
       "  [0 0 1]\n",
       "  [0 1 0]\n",
       "  [1 0 0],\n",
       "  'polynomials': {(0, 0, 0): 8*x0*x1*x2 + 4*x0*x1 + 4*x0*x2 + 4*x1*x2 + 2*x0 + 2*x1 + 2*x2 + 1,\n",
       "   (0, 0, 1): 8*x0*x1*x2 + 4*x0*x1 + 4*x0*x2 + 2*x0,\n",
       "   (0, 1, 0): 8*x0*x1*x2 + 4*x0*x1 + 4*x1*x2 + 2*x1,\n",
       "   (0, 1, 1): 8*x0*x1*x2 + 4*x0*x1,\n",
       "   (1, 0, 0): 8*x0*x1*x2 + 4*x0*x2 + 4*x1*x2 + 2*x2,\n",
       "   (1, 0, 1): 8*x0*x1*x2 + 4*x0*x2,\n",
       "   (1, 1, 0): 8*x0*x1*x2 + 4*x1*x2,\n",
       "   (1, 1, 1): 8*x0*x1*x2}}]"
      ]
     },
     "execution_count": 135,
     "metadata": {},
     "output_type": "execute_result"
    }
   ],
   "source": [
    "s._cone_dicts"
   ]
  },
  {
   "cell_type": "code",
   "execution_count": 134,
   "id": "2b104c79-e8e8-4dd4-a6c3-06fd4c60624a",
   "metadata": {},
   "outputs": [
    {
     "name": "stdout",
     "output_type": "stream",
     "text": [
      "all points were tested\n"
     ]
    }
   ],
   "source": [
    "test_combinations(s, D, range(-6, 7))"
   ]
  },
  {
   "cell_type": "code",
   "execution_count": 136,
   "id": "732caeb2-7e50-4e39-9c9f-aa2a895943f9",
   "metadata": {},
   "outputs": [
    {
     "name": "stdout",
     "output_type": "stream",
     "text": [
      "Finitely generated module V/W over Integer Ring with invariants (4)\n",
      "(0)\n",
      "(1)\n",
      "(2)\n",
      "(3)\n"
     ]
    }
   ],
   "source": [
    "E = Matrix([[-1, 0, 0], [0, -1, 0], [0, 0, -1], [1, 1, 1]])\n",
    "t = PEQP(E)"
   ]
  },
  {
   "cell_type": "code",
   "execution_count": 138,
   "id": "5f868867-a805-42ba-a496-38cdd654b754",
   "metadata": {},
   "outputs": [
    {
     "data": {
      "text/plain": [
       "[{'scaled_rays': ((1, 1, 1, 1),),\n",
       "  'cone': 4-d cone in 4-d lattice N,\n",
       "  'quotient': Finitely generated module V/W over Integer Ring with invariants (4),\n",
       "  'basis': ((1, 1, 1, 1),),\n",
       "  'change_of_basis_matrix': [ 1  1  0  0]\n",
       "  [ 1  0  1  0]\n",
       "  [ 1  0  0  1]\n",
       "  [ 1 -1 -1 -1],\n",
       "  'change_of_basis_inverse': [ 1/4  1/4  1/4  1/4]\n",
       "  [ 3/4 -1/4 -1/4 -1/4]\n",
       "  [-1/4  3/4 -1/4 -1/4]\n",
       "  [-1/4 -1/4  3/4 -1/4],\n",
       "  'lift_matrix': [1]\n",
       "  [1]\n",
       "  [1]\n",
       "  [1],\n",
       "  'polynomials': {(0): 32/3*x^3 + 16*x^2 + 22/3*x + 1,\n",
       "   (1): 32/3*x^3 + 8*x^2 + 4/3*x,\n",
       "   (2): 32/3*x^3 - 2/3*x,\n",
       "   (3): 32/3*x^3 - 8*x^2 + 4/3*x}}]"
      ]
     },
     "execution_count": 138,
     "metadata": {},
     "output_type": "execute_result"
    }
   ],
   "source": [
    "t._cone_dicts"
   ]
  },
  {
   "cell_type": "code",
   "execution_count": 137,
   "id": "9524f060-a1ac-49ff-b9c0-6a9c88c1f103",
   "metadata": {},
   "outputs": [
    {
     "name": "stdout",
     "output_type": "stream",
     "text": [
      "all points were tested\n"
     ]
    }
   ],
   "source": [
    "test_combinations(t, E, range(-6, 7))"
   ]
  },
  {
   "cell_type": "code",
   "execution_count": 140,
   "id": "680b975b-b15b-4163-a631-1c33eb2d51cd",
   "metadata": {},
   "outputs": [
    {
     "data": {
      "text/plain": [
       "QuasiPolynomialElement(Ring of Quasi-Polynomials over Rational Field, [[1], [22/3], [16], [32/3]])"
      ]
     },
     "execution_count": 140,
     "metadata": {},
     "output_type": "execute_result"
    }
   ],
   "source": [
    "ehr(E, t._rays[0])"
   ]
  }
 ],
 "metadata": {
  "kernelspec": {
   "display_name": "Python 3 (ipykernel)",
   "language": "python",
   "name": "python3"
  },
  "language_info": {
   "codemirror_mode": {
    "name": "ipython",
    "version": 3
   },
   "file_extension": ".py",
   "mimetype": "text/x-python",
   "name": "python",
   "nbconvert_exporter": "python",
   "pygments_lexer": "ipython3",
   "version": "3.10.12"
  }
 },
 "nbformat": 4,
 "nbformat_minor": 5
}
