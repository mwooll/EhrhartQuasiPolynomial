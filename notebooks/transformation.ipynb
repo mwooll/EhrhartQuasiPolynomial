{
 "cells": [
  {
   "cell_type": "code",
   "execution_count": 1,
   "id": "bb1c8fc8-a4fb-4fc4-81e8-6d7dd21516c1",
   "metadata": {},
   "outputs": [],
   "source": [
    "from itertools import combinations_with_replacement\n",
    "\n",
    "from ehrhart_quasi_polynomial.ehrhart_piecewise import (\n",
    "    PiecewiseEhrhartQuasiPolynomial as PEQP,\n",
    "    create_polytope_from_matrix,\n",
    "    secondary_fan,\n",
    "    _process_fan_vectors,\n",
    "    _compute_change_of_basis_matrices,\n",
    "    _compute_periods,\n",
    "    _generate_cone_points)\n",
    "\n",
    "from ehrhart_quasi_polynomial import *"
   ]
  },
  {
   "cell_type": "code",
   "execution_count": 2,
   "id": "2c7b0c5b-6819-447d-a380-25c7edba6ee0",
   "metadata": {},
   "outputs": [],
   "source": [
    "from sage.calculus.var import var\n",
    "from sage.functions.other import ceil, factorial\n",
    "from sage.geometry.cone import Cone\n",
    "from sage.geometry.polyhedron.constructor import Polyhedron\n",
    "from sage.matrix.constructor import Matrix\n",
    "from sage.modules.free_module_element import free_module_element\n",
    "from sage.modules.free_quadratic_module_integer_symmetric import IntegralLattice\n",
    "from sage.rings.polynomial.polynomial_ring_constructor import PolynomialRing\n",
    "from sage.rings.rational_field import QQ\n",
    "from sage.symbolic.ring import SR"
   ]
  },
  {
   "cell_type": "code",
   "execution_count": 3,
   "id": "d7725f21-891e-4274-a12f-aecd9269cd67",
   "metadata": {},
   "outputs": [],
   "source": [
    "ehr = lambda A, b: ehrhart_quasi_polynomial(create_polytope_from_matrix(A, b).Vrepresentation())\n",
    "num_int_points = lambda A, b: len(create_polytope_from_matrix(A, b).integral_points())"
   ]
  },
  {
   "cell_type": "code",
   "execution_count": 4,
   "id": "ce06442b-7ec1-4375-93f4-97f4863247e4",
   "metadata": {},
   "outputs": [],
   "source": [
    "def __call__(self, point):\n",
    "    if len(point) != self._amb_dim:\n",
    "            raise ValueError(\"Dimension of ``point`` needs to be equal to the ambient\"\n",
    "                              f\" dimension of ``self`` which is {self._amb_dim}.\")\n",
    "    \n",
    "    for k, cone_dict in enumerate(self._cone_dicts):\n",
    "            if point in cone_dict[\"cone\"]:\n",
    "                off_set = cone_dict[\"quotient\"][cone_dict[\"quotient\"](point)[0]]\n",
    "                eval_p = ( cone_dict[\"change_of_basis_inverse\"]*(\n",
    "                    free_module_element(point) - off_set.lift()) )[:self._num_variables]\n",
    "\n",
    "                result = cone_dict[\"polynomials\"][off_set](*eval_p)\n",
    "                if isinstance(result, int):\n",
    "                    return result\n",
    "                else:\n",
    "                    return round(result), k, off_set, eval_p\n",
    "    return 0, None, None, point\n",
    "\n",
    "PEQP.__call__ = __call__"
   ]
  },
  {
   "cell_type": "code",
   "execution_count": 5,
   "id": "462d2a21-b402-4ccc-81f0-001a4ab3023b",
   "metadata": {},
   "outputs": [],
   "source": [
    "def test_combinations(p, A, xrange=range(-10, 11)):\n",
    "        for b in combinations_with_replacement(xrange, A.nrows()):\n",
    "            expected = num_int_points(A, b)\n",
    "            actual = p.evaluate(b)\n",
    "            rounded = p(b)[0]\n",
    "            if actual != expected:\n",
    "                print(b, expected, actual, rounded)\n",
    "        print(\"all points were tested\")"
   ]
  },
  {
   "cell_type": "code",
   "execution_count": 6,
   "id": "4066cb99-be09-4a80-a7b2-85aed201bf0b",
   "metadata": {},
   "outputs": [],
   "source": [
    "A = Matrix([[-1, 0], [0, -1], [1, 1]])\n",
    "p = PEQP(A)"
   ]
  },
  {
   "cell_type": "code",
   "execution_count": 7,
   "id": "26320dba-bc6b-47f8-8df4-e51be8f31e0e",
   "metadata": {},
   "outputs": [
    {
     "data": {
      "text/plain": [
       "{(0): 9/2*x^2 + 9/2*x + 1, (1): 9/2*x^2 + 3/2*x, (2): 9/2*x^2 - 3/2*x}"
      ]
     },
     "execution_count": 7,
     "metadata": {},
     "output_type": "execute_result"
    }
   ],
   "source": [
    "p._cone_dicts[0][\"polynomials\"]"
   ]
  },
  {
   "cell_type": "code",
   "execution_count": 8,
   "id": "bcde9e0a-348c-4326-b027-bce9fb363ca9",
   "metadata": {},
   "outputs": [
    {
     "name": "stdout",
     "output_type": "stream",
     "text": [
      "all points were tested\n"
     ]
    }
   ],
   "source": [
    "test_combinations(p, A)"
   ]
  },
  {
   "cell_type": "code",
   "execution_count": 9,
   "id": "bd36f122-e8b9-4c3d-b09d-4f701d2c57da",
   "metadata": {},
   "outputs": [],
   "source": [
    "B = Matrix([[-1, 0], [0, -1], [1, 1], [0, 1]])\n",
    "q = PEQP(B)"
   ]
  },
  {
   "cell_type": "code",
   "execution_count": 10,
   "id": "0b75faeb-22eb-4860-b4fd-962ecfe03ae0",
   "metadata": {},
   "outputs": [
    {
     "data": {
      "text/plain": [
       "{(0, 0): 25/2*x1^2 + 15/2*x1 + 1,\n",
       " (0, 1): 25/2*x1^2 + 15/2*x1 + 1,\n",
       " (0, 2): 25/2*x1^2 + 15/2*x1 + 1,\n",
       " (0, 3): 25/2*x1^2 + 15/2*x1 + 1,\n",
       " (0, 4): 25/2*x1^2 + 15/2*x1 + 1,\n",
       " (1, 0): 25/2*x1^2 - 5/2*x1,\n",
       " (1, 1): 25/2*x1^2 - 5/2*x1,\n",
       " (1, 2): 25/2*x1^2 - 5/2*x1,\n",
       " (1, 3): 25/2*x1^2 - 5/2*x1,\n",
       " (1, 4): 25/2*x1^2 - 5/2*x1,\n",
       " (2, 0): 25/2*x1^2 - 25/2*x1 + 3,\n",
       " (2, 1): 25/2*x1^2 - 25/2*x1 + 3,\n",
       " (2, 2): 25/2*x1^2 - 25/2*x1 + 3,\n",
       " (2, 3): 25/2*x1^2 - 25/2*x1 + 3,\n",
       " (2, 4): 25/2*x1^2 - 25/2*x1 + 3,\n",
       " (3, 0): 25/2*x1^2 - 45/2*x1 + 10,\n",
       " (3, 1): 25/2*x1^2 - 45/2*x1 + 10,\n",
       " (3, 2): 25/2*x1^2 - 45/2*x1 + 10,\n",
       " (3, 3): 25/2*x1^2 - 45/2*x1 + 10,\n",
       " (3, 4): 25/2*x1^2 - 45/2*x1 + 10,\n",
       " (4, 0): 25/2*x1^2 - 65/2*x1 + 21,\n",
       " (4, 1): 25/2*x1^2 - 65/2*x1 + 21,\n",
       " (4, 2): 25/2*x1^2 - 65/2*x1 + 21,\n",
       " (4, 3): 25/2*x1^2 - 65/2*x1 + 21,\n",
       " (4, 4): 25/2*x1^2 - 65/2*x1 + 21}"
      ]
     },
     "execution_count": 10,
     "metadata": {},
     "output_type": "execute_result"
    }
   ],
   "source": [
    "q._cone_dicts[0][\"polynomials\"]"
   ]
  },
  {
   "cell_type": "code",
   "execution_count": 11,
   "id": "b3595fc9-25a6-41f1-8fbc-7cfef0cab922",
   "metadata": {},
   "outputs": [
    {
     "name": "stdout",
     "output_type": "stream",
     "text": [
      "all points were tested\n"
     ]
    }
   ],
   "source": [
    "test_combinations(q, B)"
   ]
  },
  {
   "cell_type": "code",
   "execution_count": 12,
   "id": "3618457d-363a-4351-bc08-9f37be053b78",
   "metadata": {},
   "outputs": [],
   "source": [
    "C = Matrix([[-1, 0], [0, -1], [1, 2], [0, 1]])\n",
    "r = PEQP(C)"
   ]
  },
  {
   "cell_type": "code",
   "execution_count": 13,
   "id": "4010f988-bf4a-453a-a8fb-359ba708b91e",
   "metadata": {},
   "outputs": [
    {
     "name": "stdout",
     "output_type": "stream",
     "text": [
      "(-6, 1, 4, 4) 1 3/4 1\n",
      "(-6, 1, 4, 6) 1 3/4 1\n",
      "(-6, 1, 5, 6) 2 9/4 2\n",
      "(-6, 1, 6, 6) 4 15/4 4\n",
      "(-6, 2, 2, 3) 1 3/4 1\n",
      "(-6, 2, 2, 5) 1 3/4 1\n",
      "(-6, 2, 3, 3) 2 9/4 2\n",
      "(-6, 2, 3, 5) 2 9/4 2\n",
      "(-6, 2, 4, 5) 4 15/4 4\n",
      "(-6, 2, 5, 5) 6 25/4 6\n",
      "(-6, 3, 3, 4) 6 25/4 6\n",
      "(-6, 3, 3, 6) 6 25/4 6\n",
      "(-6, 3, 4, 4) 9 35/4 9\n",
      "(-6, 3, 4, 6) 9 35/4 9\n",
      "(-6, 3, 5, 6) 12 49/4 12\n",
      "(-6, 3, 6, 6) 16 63/4 16\n",
      "(-6, 4, 4, 5) 16 63/4 16\n",
      "(-6, 4, 5, 5) 20 81/4 20\n",
      "(-6, 5, 5, 6) 30 121/4 30\n",
      "(-6, 5, 6, 6) 36 143/4 36\n",
      "(-5, 0, 5, 5) 1 3/4 1\n",
      "(-5, 1, 3, 4) 1 3/4 1\n",
      "(-5, 1, 3, 6) 1 3/4 1\n",
      "(-5, 1, 4, 4) 2 9/4 2\n",
      "(-5, 1, 4, 6) 2 9/4 2\n",
      "(-5, 1, 5, 6) 4 15/4 4\n",
      "(-5, 1, 6, 6) 6 25/4 6\n",
      "(-5, 2, 2, 3) 2 9/4 2\n",
      "(-5, 2, 2, 5) 2 9/4 2\n",
      "(-5, 2, 3, 3) 4 15/4 4\n",
      "(-5, 2, 3, 5) 4 15/4 4\n",
      "(-5, 2, 4, 5) 6 25/4 6\n",
      "(-5, 2, 5, 5) 9 35/4 9\n",
      "(-5, 3, 3, 4) 9 35/4 9\n",
      "(-5, 3, 3, 6) 9 35/4 9\n",
      "(-5, 3, 4, 4) 12 49/4 12\n",
      "(-5, 3, 4, 6) 12 49/4 12\n",
      "(-5, 3, 5, 6) 16 63/4 16\n",
      "(-5, 3, 6, 6) 20 81/4 20\n",
      "(-5, 4, 4, 5) 20 81/4 20\n",
      "(-5, 4, 5, 5) 25 99/4 25\n",
      "(-5, 5, 5, 6) 36 143/4 36\n",
      "(-5, 5, 6, 6) 42 169/4 42\n",
      "(-4, -1, 6, 6) 1 3/4 1\n",
      "(-4, 0, 4, 5) 1 3/4 1\n",
      "(-4, 0, 5, 5) 2 9/4 2\n",
      "(-4, 1, 2, 2) 1 3/4 1\n",
      "(-4, 1, 2, 4) 1 3/4 1\n",
      "(-4, 1, 2, 6) 1 3/4 1\n",
      "(-4, 1, 3, 4) 2 9/4 2\n",
      "(-4, 1, 3, 6) 2 9/4 2\n",
      "(-4, 1, 4, 4) 4 15/4 4\n",
      "(-4, 1, 4, 6) 4 15/4 4\n",
      "(-4, 1, 5, 6) 6 25/4 6\n",
      "(-4, 1, 6, 6) 9 35/4 9\n",
      "(-4, 2, 2, 3) 4 15/4 4\n",
      "(-4, 2, 2, 5) 4 15/4 4\n",
      "(-4, 2, 3, 3) 6 25/4 6\n",
      "(-4, 2, 3, 5) 6 25/4 6\n",
      "(-4, 2, 4, 5) 9 35/4 9\n",
      "(-4, 2, 5, 5) 12 49/4 12\n",
      "(-4, 3, 3, 4) 12 49/4 12\n",
      "(-4, 3, 3, 6) 12 49/4 12\n",
      "(-4, 3, 4, 4) 16 63/4 16\n",
      "(-4, 3, 4, 6) 16 63/4 16\n",
      "(-4, 3, 5, 6) 20 81/4 20\n",
      "(-4, 3, 6, 6) 25 99/4 25\n",
      "(-4, 4, 4, 5) 25 99/4 25\n",
      "(-4, 4, 5, 5) 30 121/4 30\n",
      "(-4, 5, 5, 6) 42 169/4 42\n",
      "(-4, 5, 6, 6) 49 195/4 49\n",
      "(-3, -1, 5, 6) 1 3/4 1\n",
      "(-3, -1, 6, 6) 2 9/4 2\n",
      "(-3, 0, 3, 3) 1 3/4 1\n",
      "(-3, 0, 3, 5) 1 3/4 1\n",
      "(-3, 0, 4, 5) 2 9/4 2\n",
      "(-3, 0, 5, 5) 4 15/4 4\n",
      "(-3, 1, 1, 2) 1 3/4 1\n",
      "(-3, 1, 1, 4) 1 3/4 1\n",
      "(-3, 1, 1, 6) 1 3/4 1\n",
      "(-3, 1, 2, 2) 2 9/4 2\n",
      "(-3, 1, 2, 4) 2 9/4 2\n",
      "(-3, 1, 2, 6) 2 9/4 2\n",
      "(-3, 1, 3, 4) 4 15/4 4\n",
      "(-3, 1, 3, 6) 4 15/4 4\n",
      "(-3, 1, 4, 4) 6 25/4 6\n",
      "(-3, 1, 4, 6) 6 25/4 6\n",
      "(-3, 1, 5, 6) 9 35/4 9\n",
      "(-3, 1, 6, 6) 12 49/4 12\n",
      "(-3, 2, 2, 3) 6 25/4 6\n",
      "(-3, 2, 2, 5) 6 25/4 6\n",
      "(-3, 2, 3, 3) 9 35/4 9\n",
      "(-3, 2, 3, 5) 9 35/4 9\n",
      "(-3, 2, 4, 5) 12 49/4 12\n",
      "(-3, 2, 5, 5) 16 63/4 16\n",
      "(-3, 3, 3, 4) 16 63/4 16\n",
      "(-3, 3, 3, 6) 16 63/4 16\n",
      "(-3, 3, 4, 4) 20 81/4 20\n",
      "(-3, 3, 4, 6) 20 81/4 20\n",
      "(-3, 3, 5, 6) 25 99/4 25\n",
      "(-3, 3, 6, 6) 30 121/4 30\n",
      "(-3, 4, 4, 5) 30 121/4 30\n",
      "(-3, 4, 5, 5) 36 143/4 36\n",
      "(-3, 5, 5, 6) 49 195/4 49\n",
      "(-3, 5, 6, 6) 56 225/4 56\n",
      "(-2, -1, 4, 4) 1 3/4 1\n",
      "(-2, -1, 4, 6) 1 3/4 1\n",
      "(-2, -1, 5, 6) 2 9/4 2\n",
      "(-2, -1, 6, 6) 4 15/4 4\n",
      "(-2, 0, 2, 3) 1 3/4 1\n",
      "(-2, 0, 2, 5) 1 3/4 1\n",
      "(-2, 0, 3, 3) 2 9/4 2\n",
      "(-2, 0, 3, 5) 2 9/4 2\n",
      "(-2, 0, 4, 5) 4 15/4 4\n",
      "(-2, 0, 5, 5) 6 25/4 6\n",
      "(-2, 1, 1, 2) 2 9/4 2\n",
      "(-2, 1, 1, 4) 2 9/4 2\n",
      "(-2, 1, 1, 6) 2 9/4 2\n",
      "(-2, 1, 2, 2) 4 15/4 4\n",
      "(-2, 1, 2, 4) 4 15/4 4\n",
      "(-2, 1, 2, 6) 4 15/4 4\n",
      "(-2, 1, 3, 4) 6 25/4 6\n",
      "(-2, 1, 3, 6) 6 25/4 6\n",
      "(-2, 1, 4, 4) 9 35/4 9\n",
      "(-2, 1, 4, 6) 9 35/4 9\n",
      "(-2, 1, 5, 6) 12 49/4 12\n",
      "(-2, 1, 6, 6) 16 63/4 16\n",
      "(-2, 2, 2, 3) 9 35/4 9\n",
      "(-2, 2, 2, 5) 9 35/4 9\n",
      "(-2, 2, 3, 3) 12 49/4 12\n",
      "(-2, 2, 3, 5) 12 49/4 12\n",
      "(-2, 2, 4, 5) 16 63/4 16\n",
      "(-2, 2, 5, 5) 20 81/4 20\n",
      "(-2, 3, 3, 4) 20 81/4 20\n",
      "(-2, 3, 3, 6) 20 81/4 20\n",
      "(-2, 3, 4, 4) 25 99/4 25\n",
      "(-2, 3, 4, 6) 25 99/4 25\n",
      "(-2, 3, 5, 6) 30 121/4 30\n",
      "(-2, 3, 6, 6) 36 143/4 36\n",
      "(-2, 4, 4, 5) 36 143/4 36\n",
      "(-2, 4, 5, 5) 42 169/4 42\n",
      "(-2, 5, 5, 6) 56 225/4 56\n",
      "(-2, 5, 6, 6) 64 255/4 64\n",
      "(-1, -1, 3, 4) 1 3/4 1\n",
      "(-1, -1, 3, 6) 1 3/4 1\n",
      "(-1, -1, 4, 4) 2 9/4 2\n",
      "(-1, -1, 4, 6) 2 9/4 2\n",
      "(-1, -1, 5, 6) 4 15/4 4\n",
      "(-1, -1, 6, 6) 6 25/4 6\n",
      "(-1, 0, 1, 1) 1 3/4 1\n",
      "(-1, 0, 1, 3) 1 3/4 1\n",
      "(-1, 0, 1, 5) 1 3/4 1\n",
      "(-1, 0, 2, 3) 2 9/4 2\n",
      "(-1, 0, 2, 5) 2 9/4 2\n",
      "(-1, 0, 3, 3) 4 15/4 4\n",
      "(-1, 0, 3, 5) 4 15/4 4\n",
      "(-1, 0, 4, 5) 6 25/4 6\n",
      "(-1, 0, 5, 5) 9 35/4 9\n",
      "(-1, 1, 1, 2) 4 15/4 4\n",
      "(-1, 1, 1, 4) 4 15/4 4\n",
      "(-1, 1, 1, 6) 4 15/4 4\n",
      "(-1, 1, 2, 2) 6 25/4 6\n",
      "(-1, 1, 2, 4) 6 25/4 6\n",
      "(-1, 1, 2, 6) 6 25/4 6\n",
      "(-1, 1, 3, 4) 9 35/4 9\n",
      "(-1, 1, 3, 6) 9 35/4 9\n",
      "(-1, 1, 4, 4) 12 49/4 12\n",
      "(-1, 1, 4, 6) 12 49/4 12\n",
      "(-1, 1, 5, 6) 16 63/4 16\n",
      "(-1, 1, 6, 6) 20 81/4 20\n",
      "(-1, 2, 2, 3) 12 49/4 12\n",
      "(-1, 2, 2, 5) 12 49/4 12\n",
      "(-1, 2, 3, 3) 16 63/4 16\n",
      "(-1, 2, 3, 5) 16 63/4 16\n",
      "(-1, 2, 4, 5) 20 81/4 20\n",
      "(-1, 2, 5, 5) 25 99/4 25\n",
      "(-1, 3, 3, 4) 25 99/4 25\n",
      "(-1, 3, 3, 6) 25 99/4 25\n",
      "(-1, 3, 4, 4) 30 121/4 30\n",
      "(-1, 3, 4, 6) 30 121/4 30\n",
      "(-1, 3, 5, 6) 36 143/4 36\n",
      "(-1, 3, 6, 6) 42 169/4 42\n",
      "(-1, 4, 4, 5) 42 169/4 42\n",
      "(-1, 4, 5, 5) 49 195/4 49\n",
      "(-1, 5, 5, 6) 64 255/4 64\n",
      "(-1, 5, 6, 6) 72 289/4 72\n",
      "(0, 0, 0, 1) 1 3/4 1\n",
      "(0, 0, 0, 3) 1 3/4 1\n",
      "(0, 0, 0, 5) 1 3/4 1\n",
      "(0, 0, 1, 1) 2 9/4 2\n",
      "(0, 0, 1, 3) 2 9/4 2\n",
      "(0, 0, 1, 5) 2 9/4 2\n",
      "(0, 0, 2, 3) 4 15/4 4\n",
      "(0, 0, 2, 5) 4 15/4 4\n",
      "(0, 0, 3, 3) 6 25/4 6\n",
      "(0, 0, 3, 5) 6 25/4 6\n",
      "(0, 0, 4, 5) 9 35/4 9\n",
      "(0, 0, 5, 5) 12 49/4 12\n",
      "(0, 1, 1, 2) 6 25/4 6\n",
      "(0, 1, 1, 4) 6 25/4 6\n",
      "(0, 1, 1, 6) 6 25/4 6\n",
      "(0, 1, 2, 2) 9 35/4 9\n",
      "(0, 1, 2, 4) 9 35/4 9\n",
      "(0, 1, 2, 6) 9 35/4 9\n",
      "(0, 1, 3, 4) 12 49/4 12\n",
      "(0, 1, 3, 6) 12 49/4 12\n",
      "(0, 1, 4, 4) 16 63/4 16\n",
      "(0, 1, 4, 6) 16 63/4 16\n",
      "(0, 1, 5, 6) 20 81/4 20\n",
      "(0, 1, 6, 6) 25 99/4 25\n",
      "(0, 2, 2, 3) 16 63/4 16\n",
      "(0, 2, 2, 5) 16 63/4 16\n",
      "(0, 2, 3, 3) 20 81/4 20\n",
      "(0, 2, 3, 5) 20 81/4 20\n",
      "(0, 2, 4, 5) 25 99/4 25\n",
      "(0, 2, 5, 5) 30 121/4 30\n",
      "(0, 3, 3, 4) 30 121/4 30\n",
      "(0, 3, 3, 6) 30 121/4 30\n",
      "(0, 3, 4, 4) 36 143/4 36\n",
      "(0, 3, 4, 6) 36 143/4 36\n",
      "(0, 3, 5, 6) 42 169/4 42\n",
      "(0, 3, 6, 6) 49 195/4 49\n",
      "(0, 4, 4, 5) 49 195/4 49\n",
      "(0, 4, 5, 5) 56 225/4 56\n",
      "(0, 5, 5, 6) 72 289/4 72\n",
      "(0, 5, 6, 6) 81 323/4 81\n",
      "(1, 1, 1, 2) 9 35/4 9\n",
      "(1, 1, 1, 4) 9 35/4 9\n",
      "(1, 1, 1, 6) 9 35/4 9\n",
      "(1, 1, 2, 2) 12 49/4 12\n",
      "(1, 1, 2, 4) 12 49/4 12\n",
      "(1, 1, 2, 6) 12 49/4 12\n",
      "(1, 1, 3, 4) 16 63/4 16\n",
      "(1, 1, 3, 6) 16 63/4 16\n",
      "(1, 1, 4, 4) 20 81/4 20\n",
      "(1, 1, 4, 6) 20 81/4 20\n",
      "(1, 1, 5, 6) 25 99/4 25\n",
      "(1, 1, 6, 6) 30 121/4 30\n",
      "(1, 2, 2, 3) 20 81/4 20\n",
      "(1, 2, 2, 5) 20 81/4 20\n",
      "(1, 2, 3, 3) 25 99/4 25\n",
      "(1, 2, 3, 5) 25 99/4 25\n",
      "(1, 2, 4, 5) 30 121/4 30\n",
      "(1, 2, 5, 5) 36 143/4 36\n",
      "(1, 3, 3, 4) 36 143/4 36\n",
      "(1, 3, 3, 6) 36 143/4 36\n",
      "(1, 3, 4, 4) 42 169/4 42\n",
      "(1, 3, 4, 6) 42 169/4 42\n",
      "(1, 3, 5, 6) 49 195/4 49\n",
      "(1, 3, 6, 6) 56 225/4 56\n",
      "(1, 4, 4, 5) 56 225/4 56\n",
      "(1, 4, 5, 5) 64 255/4 64\n",
      "(1, 5, 5, 6) 81 323/4 81\n",
      "(1, 5, 6, 6) 90 361/4 90\n",
      "(2, 2, 2, 3) 25 99/4 25\n",
      "(2, 2, 2, 5) 25 99/4 25\n",
      "(2, 2, 3, 3) 30 121/4 30\n",
      "(2, 2, 3, 5) 30 121/4 30\n",
      "(2, 2, 4, 5) 36 143/4 36\n",
      "(2, 2, 5, 5) 42 169/4 42\n",
      "(2, 3, 3, 4) 42 169/4 42\n",
      "(2, 3, 3, 6) 42 169/4 42\n",
      "(2, 3, 4, 4) 49 195/4 49\n",
      "(2, 3, 4, 6) 49 195/4 49\n",
      "(2, 3, 5, 6) 56 225/4 56\n",
      "(2, 3, 6, 6) 64 255/4 64\n",
      "(2, 4, 4, 5) 64 255/4 64\n",
      "(2, 4, 5, 5) 72 289/4 72\n",
      "(2, 5, 5, 6) 90 361/4 90\n",
      "(2, 5, 6, 6) 100 399/4 100\n",
      "(3, 3, 3, 4) 49 195/4 49\n",
      "(3, 3, 3, 6) 49 195/4 49\n",
      "(3, 3, 4, 4) 56 225/4 56\n",
      "(3, 3, 4, 6) 56 225/4 56\n",
      "(3, 3, 5, 6) 64 255/4 64\n",
      "(3, 3, 6, 6) 72 289/4 72\n",
      "(3, 4, 4, 5) 72 289/4 72\n",
      "(3, 4, 5, 5) 81 323/4 81\n",
      "(3, 5, 5, 6) 100 399/4 100\n",
      "(3, 5, 6, 6) 110 441/4 110\n",
      "(4, 4, 4, 5) 81 323/4 81\n",
      "(4, 4, 5, 5) 90 361/4 90\n",
      "(4, 5, 5, 6) 110 441/4 110\n",
      "(4, 5, 6, 6) 121 483/4 121\n",
      "(5, 5, 5, 6) 121 483/4 121\n",
      "(5, 5, 6, 6) 132 529/4 132\n",
      "all points were tested\n"
     ]
    }
   ],
   "source": [
    "test_combinations(r, C, range(-6, 7))"
   ]
  },
  {
   "cell_type": "code",
   "execution_count": 14,
   "id": "d7df1e5d-9416-49ab-9506-b7b8139a5f09",
   "metadata": {},
   "outputs": [],
   "source": [
    "#for off_set, poly in list(r._cone_dicts[0][\"polynomials\"].items()):\n",
    "#    print(ehr(C, r._rays[2] + off_set.lift()))"
   ]
  },
  {
   "cell_type": "code",
   "execution_count": 15,
   "id": "936ecfec-abfb-4759-917a-5bcc434a6ad7",
   "metadata": {
    "scrolled": true
   },
   "outputs": [],
   "source": [
    "D = Matrix([[-1, 0, 0], [0, -1, 0], [0, 0, -1], [1, 0, 0], [0, 1, 0], [0, 0, 1]])\n",
    "s = PEQP(D)"
   ]
  },
  {
   "cell_type": "code",
   "execution_count": 16,
   "id": "dba6f218-5a8f-4492-9986-a3ba896bbc20",
   "metadata": {},
   "outputs": [
    {
     "data": {
      "text/plain": [
       "{(0, 0, 0): 8*x0*x1*x2 + 4*x0*x1 + 4*x0*x2 + 4*x1*x2 + 2*x0 + 2*x1 + 2*x2 + 1,\n",
       " (0, 0, 1): 8*x0*x1*x2 + 4*x0*x1 + 4*x0*x2 + 2*x0,\n",
       " (0, 1, 0): 8*x0*x1*x2 + 4*x0*x1 + 4*x1*x2 + 2*x1,\n",
       " (0, 1, 1): 8*x0*x1*x2 + 4*x0*x1,\n",
       " (1, 0, 0): 8*x0*x1*x2 + 4*x0*x2 + 4*x1*x2 + 2*x2,\n",
       " (1, 0, 1): 8*x0*x1*x2 + 4*x0*x2,\n",
       " (1, 1, 0): 8*x0*x1*x2 + 4*x1*x2,\n",
       " (1, 1, 1): 8*x0*x1*x2}"
      ]
     },
     "execution_count": 16,
     "metadata": {},
     "output_type": "execute_result"
    }
   ],
   "source": [
    "s._cone_dicts[0][\"polynomials\"]"
   ]
  },
  {
   "cell_type": "code",
   "execution_count": 17,
   "id": "2b104c79-e8e8-4dd4-a6c3-06fd4c60624a",
   "metadata": {},
   "outputs": [
    {
     "name": "stdout",
     "output_type": "stream",
     "text": [
      "all points were tested\n"
     ]
    }
   ],
   "source": [
    "test_combinations(s, D, range(-6, 7))"
   ]
  },
  {
   "cell_type": "code",
   "execution_count": 18,
   "id": "732caeb2-7e50-4e39-9c9f-aa2a895943f9",
   "metadata": {},
   "outputs": [],
   "source": [
    "E = Matrix([[-1, 0, 0], [0, -1, 0], [0, 0, -1], [1, 1, 1]])\n",
    "t = PEQP(E)"
   ]
  },
  {
   "cell_type": "code",
   "execution_count": 19,
   "id": "5f868867-a805-42ba-a496-38cdd654b754",
   "metadata": {},
   "outputs": [
    {
     "data": {
      "text/plain": [
       "{(0): 32/3*x^3 + 16*x^2 + 22/3*x + 1,\n",
       " (1): 32/3*x^3 + 8*x^2 + 4/3*x,\n",
       " (2): 32/3*x^3 - 2/3*x,\n",
       " (3): 32/3*x^3 - 8*x^2 + 4/3*x}"
      ]
     },
     "execution_count": 19,
     "metadata": {},
     "output_type": "execute_result"
    }
   ],
   "source": [
    "t._cone_dicts[0][\"polynomials\"]"
   ]
  },
  {
   "cell_type": "code",
   "execution_count": 20,
   "id": "9524f060-a1ac-49ff-b9c0-6a9c88c1f103",
   "metadata": {},
   "outputs": [
    {
     "name": "stdout",
     "output_type": "stream",
     "text": [
      "all points were tested\n"
     ]
    }
   ],
   "source": [
    "test_combinations(t, E, range(-6, 7))"
   ]
  },
  {
   "cell_type": "code",
   "execution_count": 21,
   "id": "680b975b-b15b-4163-a631-1c33eb2d51cd",
   "metadata": {},
   "outputs": [
    {
     "data": {
      "text/plain": [
       "QuasiPolynomialElement(Ring of Quasi-Polynomials over Rational Field, [[1], [22/3], [16], [32/3]])"
      ]
     },
     "execution_count": 21,
     "metadata": {},
     "output_type": "execute_result"
    }
   ],
   "source": [
    "ehr(E, t._rays[0])"
   ]
  },
  {
   "cell_type": "markdown",
   "id": "867ac9e1-a5a2-4f7e-b021-91a077dd10d1",
   "metadata": {},
   "source": [
    "## trying to figure out what the right coordinate transformation is"
   ]
  },
  {
   "cell_type": "code",
   "execution_count": 22,
   "id": "f7fe1dd2-58cd-4f53-9023-7df29a18dec8",
   "metadata": {},
   "outputs": [
    {
     "data": {
      "text/plain": [
       "{(0): 9/2*x^2 + 9/2*x + 1, (1): 9/2*x^2 + 3/2*x, (2): 9/2*x^2 - 3/2*x}"
      ]
     },
     "execution_count": 22,
     "metadata": {},
     "output_type": "execute_result"
    }
   ],
   "source": [
    "p._cone_dicts[0][\"polynomials\"]"
   ]
  },
  {
   "cell_type": "code",
   "execution_count": 23,
   "id": "9a844b9d-af42-4b3e-a53a-25b0668540e4",
   "metadata": {},
   "outputs": [],
   "source": [
    "S = PolynomialRing(QQ, \"y\", 3)"
   ]
  },
  {
   "cell_type": "code",
   "execution_count": 24,
   "id": "bc8edb69-1403-40ea-95c8-0e508a3d3ac3",
   "metadata": {},
   "outputs": [
    {
     "data": {
      "text/plain": [
       "2*y0 + 2*y1 - y2"
      ]
     },
     "execution_count": 24,
     "metadata": {},
     "output_type": "execute_result"
    }
   ],
   "source": [
    "t = p._cone_dicts[0][\"change_of_basis_matrix\"]*free_module_element(p._cone_dicts[0][\"scaled_rays\"][0])*free_module_element(S.gens())\n",
    "t"
   ]
  },
  {
   "cell_type": "code",
   "execution_count": 27,
   "id": "bdc8cf17-6cd1-4f9e-97c5-f56562b534e1",
   "metadata": {},
   "outputs": [
    {
     "data": {
      "text/plain": [
       "{(0): 9/2*(y0 + y1)^2 + 9/2*y0 + 9/2*y1 + 1,\n",
       " (1): 9/2*(y0 + y1 + 1)^2 + 3/2*y0 + 3/2*y1 + 3/2,\n",
       " (2): 9/2*(y0 + y1 + 2)^2 - 3/2*y0 - 3/2*y1 - 3}"
      ]
     },
     "execution_count": 27,
     "metadata": {},
     "output_type": "execute_result"
    }
   ],
   "source": [
    "dict = p._cone_dicts[0]\n",
    "dict[\"transformed\"] = {}\n",
    "for off_set, poly in dict[\"polynomials\"].items():\n",
    "    y = dict[\"change_of_basis_matrix\"]*(free_module_element(S.gens(), SR) - free_module_element(off_set.lift(), SR))\n",
    "    dict[\"transformed\"][off_set] = dict[\"polynomials\"][off_set](y[0])\n",
    "dict[\"transformed\"]"
   ]
  },
  {
   "cell_type": "code",
   "execution_count": 28,
   "id": "040fb88f-b078-4646-960c-9787a4d7d279",
   "metadata": {},
   "outputs": [
    {
     "data": {
      "text/plain": [
       "91"
      ]
     },
     "execution_count": 28,
     "metadata": {},
     "output_type": "execute_result"
    }
   ],
   "source": [
    "dict[\"transformed\"][list(dict[\"transformed\"].keys())[0]](y0=2, y1=2, y2=1)"
   ]
  },
  {
   "cell_type": "code",
   "execution_count": 32,
   "id": "582dc0cf-aa52-4542-b05c-c191b7d1bd48",
   "metadata": {},
   "outputs": [
    {
     "data": {
      "text/plain": [
       "21"
      ]
     },
     "execution_count": 32,
     "metadata": {},
     "output_type": "execute_result"
    }
   ],
   "source": [
    "num_int_points(A, (2, 2, 1))"
   ]
  },
  {
   "cell_type": "code",
   "execution_count": 34,
   "id": "741889e3-2699-4f72-8ffe-a5f7d1a600e8",
   "metadata": {},
   "outputs": [
    {
     "data": {
      "text/plain": [
       "21"
      ]
     },
     "execution_count": 34,
     "metadata": {},
     "output_type": "execute_result"
    }
   ],
   "source": [
    "p((2, 2, 1))[0]"
   ]
  },
  {
   "cell_type": "code",
   "execution_count": 29,
   "id": "1429d4a6-6111-450e-ac8a-43877d479716",
   "metadata": {},
   "outputs": [],
   "source": [
    "def test_transform(self, point):\n",
    "    if len(point) != self._amb_dim:\n",
    "            raise ValueError(\"Dimension of ``point`` needs to be equal to the ambient\"\n",
    "                              f\" dimension of ``self`` which is {self._amb_dim}.\")\n",
    "    \n",
    "    for k, cone_dict in enumerate(self._cone_dicts):\n",
    "            if point in cone_dict[\"cone\"]:\n",
    "                # print(True)\n",
    "                off_set = cone_dict[\"quotient\"][cone_dict[\"quotient\"](point)[0]]\n",
    "                return dict[\"transformed\"][off_set](y0=point[0], y1=point[1], y2=point[2])\n",
    "    return 0\n",
    "\n",
    "p.test = test_transform"
   ]
  },
  {
   "cell_type": "code",
   "execution_count": 30,
   "id": "0ca51b05-2fde-4de2-9abb-bb9df290aeed",
   "metadata": {},
   "outputs": [],
   "source": [
    "def test(p, A, xrange=range(-10, 11)):\n",
    "        for b in combinations_with_replacement(xrange, A.nrows()):\n",
    "            expected = num_int_points(A, b)\n",
    "            actual = p.test(p, b)\n",
    "            if actual != expected:\n",
    "                print(b, expected, actual)\n",
    "        print(\"all points were tested\")"
   ]
  },
  {
   "cell_type": "code",
   "execution_count": 31,
   "id": "e9758bd6-f3de-4228-ba38-81381f9fb296",
   "metadata": {},
   "outputs": [
    {
     "name": "stdout",
     "output_type": "stream",
     "text": [
      "(-5, 0, 5) 1 91\n",
      "(-5, 1, 4) 1 55\n",
      "(-5, 1, 5) 3 21\n",
      "(-5, 2, 3) 1 28\n",
      "(-5, 2, 4) 3 6\n",
      "(-5, 2, 5) 6 15\n",
      "(-5, 3, 3) 3 0\n",
      "(-5, 3, 4) 6 3\n",
      "(-5, 4, 4) 10 1\n",
      "(-5, 4, 5) 15 3\n",
      "(-5, 5, 5) 21 6\n",
      "(-4, -1, 5) 1 91\n",
      "(-4, 0, 4) 1 55\n",
      "(-4, 0, 5) 3 21\n",
      "(-4, 1, 3) 1 28\n",
      "(-4, 1, 4) 3 6\n",
      "(-4, 1, 5) 6 15\n",
      "(-4, 2, 2) 1 10\n",
      "(-4, 2, 3) 3 0\n",
      "(-4, 2, 4) 6 3\n",
      "(-4, 3, 3) 6 0\n",
      "(-4, 3, 4) 10 1\n",
      "(-4, 3, 5) 15 3\n",
      "(-4, 4, 5) 21 6\n",
      "(-4, 5, 5) 28 10\n",
      "(-3, -2, 5) 1 91\n",
      "(-3, -1, 4) 1 55\n",
      "(-3, -1, 5) 3 21\n",
      "(-3, 0, 3) 1 28\n",
      "(-3, 0, 4) 3 6\n",
      "(-3, 0, 5) 6 15\n",
      "(-3, 1, 2) 1 10\n",
      "(-3, 1, 3) 3 0\n",
      "(-3, 1, 4) 6 3\n",
      "(-3, 2, 3) 6 0\n",
      "(-3, 2, 4) 10 1\n",
      "(-3, 2, 5) 15 3\n",
      "(-3, 3, 3) 10 1\n",
      "(-3, 3, 5) 21 6\n",
      "(-3, 4, 5) 28 10\n",
      "(-3, 5, 5) 36 66\n",
      "(-2, -2, 4) 1 55\n",
      "(-2, -2, 5) 3 21\n",
      "(-2, -1, 3) 1 28\n",
      "(-2, -1, 4) 3 6\n",
      "(-2, -1, 5) 6 15\n",
      "(-2, 0, 2) 1 10\n",
      "(-2, 0, 3) 3 0\n",
      "(-2, 0, 4) 6 3\n",
      "(-2, 1, 3) 6 0\n",
      "(-2, 1, 4) 10 1\n",
      "(-2, 1, 5) 15 3\n",
      "(-2, 2, 3) 10 1\n",
      "(-2, 2, 5) 21 6\n",
      "(-2, 3, 3) 15 36\n",
      "(-2, 3, 5) 28 10\n",
      "(-2, 4, 5) 36 66\n",
      "(-2, 5, 5) 45 78\n",
      "(-1, -1, 2) 1 10\n",
      "(-1, -1, 3) 3 0\n",
      "(-1, -1, 4) 6 3\n",
      "(-1, 0, 3) 6 0\n",
      "(-1, 0, 4) 10 1\n",
      "(-1, 0, 5) 15 3\n",
      "(-1, 1, 1) 3 15\n",
      "(-1, 1, 3) 10 1\n",
      "(-1, 1, 5) 21 6\n",
      "(-1, 2, 3) 15 36\n",
      "(-1, 2, 5) 28 10\n",
      "(-1, 3, 3) 21 45\n",
      "(-1, 3, 5) 36 66\n",
      "(-1, 4, 4) 36 105\n",
      "(-1, 4, 5) 45 78\n",
      "(-1, 5, 5) 55 91\n",
      "(0, 0, 1) 3 15\n",
      "(0, 0, 3) 10 1\n",
      "(0, 0, 5) 21 6\n",
      "(0, 1, 1) 6 21\n",
      "(0, 1, 3) 15 36\n",
      "(0, 1, 5) 28 10\n",
      "(0, 2, 2) 15 66\n",
      "(0, 2, 3) 21 45\n",
      "(0, 2, 5) 36 66\n",
      "(0, 3, 3) 28 55\n",
      "(0, 3, 4) 36 105\n",
      "(0, 3, 5) 45 78\n",
      "(0, 4, 4) 45 120\n",
      "(0, 4, 5) 55 91\n",
      "(0, 5, 5) 66 210\n",
      "(1, 1, 1) 10 28\n",
      "(1, 1, 2) 15 66\n",
      "(1, 1, 3) 21 45\n",
      "(1, 1, 5) 36 66\n",
      "(1, 2, 2) 21 78\n",
      "(1, 2, 3) 28 55\n",
      "(1, 2, 4) 36 105\n",
      "(1, 2, 5) 45 78\n",
      "(1, 3, 3) 36 153\n",
      "(1, 3, 4) 45 120\n",
      "(1, 3, 5) 55 91\n",
      "(1, 4, 4) 55 136\n",
      "(1, 4, 5) 66 210\n",
      "(1, 5, 5) 78 231\n",
      "(2, 2, 2) 28 91\n",
      "(2, 2, 3) 36 153\n",
      "(2, 2, 4) 45 120\n",
      "(2, 2, 5) 55 91\n",
      "(2, 3, 3) 45 171\n",
      "(2, 3, 4) 55 136\n",
      "(2, 3, 5) 66 210\n",
      "(2, 4, 4) 66 276\n",
      "(2, 4, 5) 78 231\n",
      "(2, 5, 5) 91 253\n",
      "(3, 3, 3) 55 190\n",
      "(3, 3, 4) 66 276\n",
      "(3, 3, 5) 78 231\n",
      "(3, 4, 4) 78 300\n",
      "(3, 4, 5) 91 253\n",
      "(3, 5, 5) 105 435\n",
      "(4, 4, 4) 91 325\n",
      "(4, 4, 5) 105 435\n",
      "(4, 5, 5) 120 465\n",
      "(5, 5, 5) 136 496\n",
      "all points were tested\n"
     ]
    }
   ],
   "source": [
    "test(p, A, xrange=range(-5, 6))"
   ]
  }
 ],
 "metadata": {
  "kernelspec": {
   "display_name": "Python 3 (ipykernel)",
   "language": "python",
   "name": "python3"
  },
  "language_info": {
   "codemirror_mode": {
    "name": "ipython",
    "version": 3
   },
   "file_extension": ".py",
   "mimetype": "text/x-python",
   "name": "python",
   "nbconvert_exporter": "python",
   "pygments_lexer": "ipython3",
   "version": "3.10.12"
  }
 },
 "nbformat": 4,
 "nbformat_minor": 5
}
